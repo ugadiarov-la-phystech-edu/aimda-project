{
 "cells": [
  {
   "cell_type": "code",
   "execution_count": 1,
   "metadata": {
    "id": "o3wpSqajDt43"
   },
   "outputs": [],
   "source": [
    "import time\n",
    "import numpy as np\n",
    "import pandas as pd\n",
    "import sklearn.preprocessing\n",
    "import sklearn.ensemble\n",
    "import sklearn.model_selection\n",
    "import joblib"
   ]
  },
  {
   "cell_type": "markdown",
   "metadata": {
    "id": "-thYQcyDnhcL"
   },
   "source": [
    "### Загрузка данных"
   ]
  },
  {
   "cell_type": "code",
   "execution_count": 2,
   "metadata": {
    "id": "ZLemYbwDDt47"
   },
   "outputs": [],
   "source": [
    "data = pd.read_csv('data_2014.csv')"
   ]
  },
  {
   "cell_type": "markdown",
   "metadata": {
    "id": "gfwbte2Gnm6U"
   },
   "source": [
    "### Обработка пропущенных значений признака `Victim Age`"
   ]
  },
  {
   "cell_type": "code",
   "execution_count": 3,
   "metadata": {
    "id": "ksAzeWcYDt49"
   },
   "outputs": [],
   "source": [
    "data['Victim Age'] = data.apply(lambda row: -1 if row.is_victim_age_missing else row['Victim Age'], axis=1)"
   ]
  },
  {
   "cell_type": "code",
   "execution_count": 4,
   "metadata": {
    "id": "9dHiUDbBDt5A"
   },
   "outputs": [],
   "source": [
    "categorical_features = ['Agency Type', 'State', 'City', 'Crime Type', 'Victim Sex','Victim Race',\n",
    "       'Victim Ethnicity', 'Weapon', 'is_victim_age_missing']\n",
    "other_features = ['Victim Age', 'Victim Count', 'Perpetrator Count']\n",
    "target = ['Crime Solved']"
   ]
  },
  {
   "cell_type": "markdown",
   "metadata": {
    "id": "c44RE2mlnuGu"
   },
   "source": [
    "### Кодирование категориальных признаков"
   ]
  },
  {
   "cell_type": "code",
   "execution_count": 5,
   "metadata": {
    "id": "9Uu-zOu3Dt5C"
   },
   "outputs": [],
   "source": [
    "encoder = sklearn.preprocessing.OrdinalEncoder()\n",
    "X = encoder.fit_transform(data[categorical_features].values)"
   ]
  },
  {
   "cell_type": "code",
   "execution_count": 6,
   "metadata": {
    "id": "1KIc-buVDt5E"
   },
   "outputs": [],
   "source": [
    "X = np.hstack([X, data[other_features].values]).astype(np.float32)\n",
    "y = (data['Crime Solved'] == 'No').values.astype(np.float32)\n",
    "\n",
    "np.save('X', X)\n",
    "np.save('y', y)"
   ]
  },
  {
   "cell_type": "markdown",
   "metadata": {
    "id": "27tb4Slmnz2V"
   },
   "source": [
    "### Подбор гиперпараметров"
   ]
  },
  {
   "cell_type": "code",
   "execution_count": null,
   "metadata": {
    "id": "d4-GvxrsDt5G",
    "outputId": "9740dd03-fe77-4d75-879d-8735b9b6911e"
   },
   "outputs": [
    {
     "name": "stdout",
     "output_type": "stream",
     "text": [
      "Fitting 5 folds for each of 8100 candidates, totalling 40500 fits\n"
     ]
    },
    {
     "name": "stderr",
     "output_type": "stream",
     "text": [
      "[Parallel(n_jobs=-1)]: Using backend LokyBackend with 16 concurrent workers.\n",
      "[Parallel(n_jobs=-1)]: Done  96 tasks      | elapsed:   10.0s\n",
      "[Parallel(n_jobs=-1)]: Done 256 tasks      | elapsed:   27.3s\n",
      "[Parallel(n_jobs=-1)]: Done 480 tasks      | elapsed:   50.7s\n",
      "[Parallel(n_jobs=-1)]: Done 768 tasks      | elapsed:  1.4min\n",
      "[Parallel(n_jobs=-1)]: Done 1120 tasks      | elapsed:  2.0min\n",
      "[Parallel(n_jobs=-1)]: Done 1536 tasks      | elapsed:  2.7min\n",
      "[Parallel(n_jobs=-1)]: Done 2016 tasks      | elapsed:  4.2min\n",
      "[Parallel(n_jobs=-1)]: Done 2560 tasks      | elapsed:  5.4min\n",
      "[Parallel(n_jobs=-1)]: Done 3168 tasks      | elapsed:  6.6min\n",
      "[Parallel(n_jobs=-1)]: Done 3840 tasks      | elapsed:  7.9min\n",
      "[Parallel(n_jobs=-1)]: Done 4576 tasks      | elapsed: 10.2min\n",
      "[Parallel(n_jobs=-1)]: Done 5376 tasks      | elapsed: 11.7min\n",
      "[Parallel(n_jobs=-1)]: Done 6240 tasks      | elapsed: 13.7min\n",
      "[Parallel(n_jobs=-1)]: Done 7168 tasks      | elapsed: 16.3min\n",
      "[Parallel(n_jobs=-1)]: Done 8160 tasks      | elapsed: 18.2min\n",
      "[Parallel(n_jobs=-1)]: Done 9216 tasks      | elapsed: 21.5min\n",
      "[Parallel(n_jobs=-1)]: Done 10336 tasks      | elapsed: 23.7min\n",
      "[Parallel(n_jobs=-1)]: Done 11520 tasks      | elapsed: 27.5min\n",
      "[Parallel(n_jobs=-1)]: Done 12768 tasks      | elapsed: 30.0min\n",
      "[Parallel(n_jobs=-1)]: Done 14080 tasks      | elapsed: 34.1min\n",
      "[Parallel(n_jobs=-1)]: Done 15456 tasks      | elapsed: 37.9min\n",
      "[Parallel(n_jobs=-1)]: Done 16896 tasks      | elapsed: 41.5min\n",
      "[Parallel(n_jobs=-1)]: Done 18400 tasks      | elapsed: 46.2min\n",
      "[Parallel(n_jobs=-1)]: Done 19968 tasks      | elapsed: 50.6min\n",
      "[Parallel(n_jobs=-1)]: Done 21600 tasks      | elapsed: 54.0min\n",
      "[Parallel(n_jobs=-1)]: Done 23296 tasks      | elapsed: 58.6min\n",
      "[Parallel(n_jobs=-1)]: Done 25056 tasks      | elapsed: 63.5min\n",
      "[Parallel(n_jobs=-1)]: Done 26880 tasks      | elapsed: 68.6min\n",
      "[Parallel(n_jobs=-1)]: Done 28768 tasks      | elapsed: 73.5min\n",
      "[Parallel(n_jobs=-1)]: Done 30720 tasks      | elapsed: 78.9min\n",
      "[Parallel(n_jobs=-1)]: Done 32736 tasks      | elapsed: 85.5min\n",
      "[Parallel(n_jobs=-1)]: Done 34816 tasks      | elapsed: 92.6min\n",
      "[Parallel(n_jobs=-1)]: Done 36960 tasks      | elapsed: 100.0min\n",
      "[Parallel(n_jobs=-1)]: Done 39168 tasks      | elapsed: 107.7min\n",
      "[Parallel(n_jobs=-1)]: Done 40500 out of 40500 | elapsed: 113.5min finished\n"
     ]
    },
    {
     "data": {
      "text/plain": [
       "GridSearchCV(cv=5, estimator=RandomForestClassifier(n_jobs=-1, random_state=0),\n",
       "             n_jobs=-1,\n",
       "             param_grid={'bootstrap': [True, False],\n",
       "                         'max_depth': [7, 8, 9, 10, 11, 12, 13, 14, 15],\n",
       "                         'max_features': ['sqrt', 'log2', None],\n",
       "                         'min_samples_leaf': [1, 3, 6, 9, 12],\n",
       "                         'min_samples_split': [2, 3, 6, 9, 12],\n",
       "                         'n_estimators': [10, 50, 100, 200, 400, 800]},\n",
       "             refit='f1', scoring=['f1', 'precision', 'recall'], verbose=3)"
      ]
     },
     "execution_count": 7,
     "metadata": {
      "tags": []
     },
     "output_type": "execute_result"
    }
   ],
   "source": [
    "def print_results(grid_search_cv, metrics=['f1', 'precision', 'recall']):\n",
    "    print('=' * 80)\n",
    "    print(grid_search_cv.best_params_)\n",
    "    print('=' * 80)\n",
    "    index = grid_search_cv.best_index_\n",
    "    results = grid_search_cv.cv_results_\n",
    "    for metric in metrics:\n",
    "        print(metric, '=', results[f'mean_test_{metric}'][index], '±', results[f'std_test_{metric}'][index])\n",
    "\n",
    "\n",
    "param_grid = {\n",
    "    'bootstrap': [True, False],\n",
    "    'max_depth': [7, 8, 9, 10, 11, 12, 13, 14, 15],\n",
    "    'max_features': ['sqrt', 'log2', None],\n",
    "    'min_samples_leaf': [1, 3, 6, 9, 12],\n",
    "    'min_samples_split': [2, 3, 6, 9, 12],\n",
    "    'n_estimators': [10, 50, 100, 200, 400, 800]\n",
    "}\n",
    "\n",
    "rfc = sklearn.ensemble.RandomForestClassifier(n_jobs=-1, random_state=0)\n",
    "grid_search = sklearn.model_selection.GridSearchCV(\n",
    "    estimator=rfc,\n",
    "    param_grid=param_grid,\n",
    "    scoring=['f1', 'precision', 'recall'],\n",
    "    n_jobs=-1,\n",
    "    cv=5,\n",
    "    refit='f1',\n",
    "    verbose=3\n",
    ")\n",
    "grid_search.fit(X, y)"
   ]
  },
  {
   "cell_type": "code",
   "execution_count": null,
   "metadata": {
    "id": "xOBrgOZnDt5K",
    "outputId": "b5b43797-32ea-4c4e-e284-4987ffeb619f"
   },
   "outputs": [
    {
     "name": "stdout",
     "output_type": "stream",
     "text": [
      "================================================================================\n",
      "{'bootstrap': False, 'max_depth': 10, 'max_features': 'sqrt', 'min_samples_leaf': 1, 'min_samples_split': 3, 'n_estimators': 800}\n",
      "================================================================================\n",
      "f1 = 0.7454823650838137 ± 0.006187559186625962\n",
      "precision = 0.7174443993645698 ± 0.00918098288375578\n",
      "recall = 0.7762866937041328 ± 0.01873953277528437\n"
     ]
    }
   ],
   "source": [
    "print_results(grid_search)"
   ]
  },
  {
   "cell_type": "markdown",
   "metadata": {
    "id": "jYte4y4coby1"
   },
   "source": [
    "### Быстродействие. Время обучения модели с оптимальными гиперпараметрами."
   ]
  },
  {
   "cell_type": "code",
   "execution_count": 7,
   "metadata": {
    "id": "rSccuPwZDt5M"
   },
   "outputs": [],
   "source": [
    "rfc = sklearn.ensemble.RandomForestClassifier(\n",
    "    bootstrap=False,\n",
    "    max_depth=10,\n",
    "    max_features='sqrt',\n",
    "    min_samples_leaf=1,\n",
    "    min_samples_split=3,\n",
    "    n_estimators=800,\n",
    "    n_jobs=-1,\n",
    "    random_state=0\n",
    ")"
   ]
  },
  {
   "cell_type": "code",
   "execution_count": null,
   "metadata": {
    "id": "UoLU2qXlDt5P"
   },
   "outputs": [],
   "source": [
    "N_RUNS = 31\n",
    "ticks = []\n",
    "for i in range(N_RUNS):\n",
    "    start = time.time()\n",
    "    rfc.fit(X, y)\n",
    "    stop = time.time()\n",
    "    ticks.append((start, stop))"
   ]
  },
  {
   "cell_type": "code",
   "execution_count": null,
   "metadata": {
    "colab": {
     "base_uri": "https://localhost:8080/"
    },
    "id": "okTPvvK3Dt5S",
    "outputId": "b727113b-db47-464d-e12f-a38d920366fa"
   },
   "outputs": [
    {
     "name": "stdout",
     "output_type": "stream",
     "text": [
      "Mean fit time: 4.3143184900283815\n",
      "Standard deviation: 0.025189985097125632\n"
     ]
    }
   ],
   "source": [
    "fit_times = np.array([stop - start for start, stop in ticks])[1:]\n",
    "print('Mean fit time:', fit_times.mean())\n",
    "print('Standard deviation:', fit_times.std(ddof=1))"
   ]
  },
  {
   "cell_type": "code",
   "execution_count": 8,
   "metadata": {},
   "outputs": [
    {
     "data": {
      "text/plain": [
       "['random_forest_classifier.joblib']"
      ]
     },
     "execution_count": 8,
     "metadata": {},
     "output_type": "execute_result"
    }
   ],
   "source": [
    "joblib.dump(rfc, 'random_forest_classifier.joblib')    "
   ]
  },
  {
   "cell_type": "markdown",
   "metadata": {
    "id": "s9zkjciEopQ6"
   },
   "source": [
    "### Быстродействие. Время вычисления предсказания модели с оптимальными гиперпараметрами для одного объекта.  "
   ]
  },
  {
   "cell_type": "code",
   "execution_count": null,
   "metadata": {
    "id": "jt7xe4JKG3iq"
   },
   "outputs": [],
   "source": [
    "ticks = []\n",
    "for i, x in enumerate(X):\n",
    "    x = x[np.newaxis, :]\n",
    "    start = time.time()\n",
    "    rfc.predict(x)\n",
    "    stop = time.time()\n",
    "    ticks.append((start, stop))"
   ]
  },
  {
   "cell_type": "code",
   "execution_count": null,
   "metadata": {
    "colab": {
     "base_uri": "https://localhost:8080/"
    },
    "id": "jBK-Dc64G3n0",
    "outputId": "02ad208f-7b03-433c-94fb-b5e94681fd42"
   },
   "outputs": [
    {
     "name": "stdout",
     "output_type": "stream",
     "text": [
      "Mean predict time: 0.20366137575813298\n",
      "Standard deviation: 0.011623671027443725\n"
     ]
    }
   ],
   "source": [
    "predict_times = np.array([stop - start for start, stop in ticks])[1:]\n",
    "print('Mean predict time:', predict_times.mean())\n",
    "print('Standard deviation:', predict_times.std(ddof=1))"
   ]
  },
  {
   "cell_type": "markdown",
   "metadata": {
    "id": "TCzEpO7yrCVF"
   },
   "source": [
    "### Важности признаков модели с оптимальными гиперпараметрами."
   ]
  },
  {
   "cell_type": "code",
   "execution_count": 36,
   "metadata": {
    "colab": {
     "base_uri": "https://localhost:8080/"
    },
    "id": "CWDldgfsnYgW",
    "outputId": "2cab7c82-9e6c-4c38-bdc3-91215010c9f8"
   },
   "outputs": [
    {
     "data": {
      "text/plain": [
       "[('is_victim_age_missing', 0.01262293551878417),\n",
       " ('Crime Type', 0.017220495698486875),\n",
       " ('Victim Count', 0.023767516895250307),\n",
       " ('Victim Ethnicity', 0.04259880078933585),\n",
       " ('Agency Type', 0.04910306334559364),\n",
       " ('Victim Age', 0.07720096225661899),\n",
       " ('City', 0.08409714843119104),\n",
       " ('State', 0.09994500391575852),\n",
       " ('Victim Sex', 0.10229358032343253),\n",
       " ('Victim Race', 0.11187816035438954),\n",
       " ('Weapon', 0.13044784958199024),\n",
       " ('Perpetrator Count', 0.24882448288916836)]"
      ]
     },
     "execution_count": 36,
     "metadata": {
      "tags": []
     },
     "output_type": "execute_result"
    }
   ],
   "source": [
    "sorted(list(zip(categorical_features + other_features, rfc.feature_importances_)), key=lambda pair: pair[1])"
   ]
  },
  {
   "cell_type": "code",
   "execution_count": null,
   "metadata": {
    "colab": {
     "base_uri": "https://localhost:8080/"
    },
    "id": "9XtL_W61cS5D",
    "outputId": "5e16f71b-d2e9-4d1a-f37d-44fcc47f01bb"
   },
   "outputs": [
    {
     "name": "stdout",
     "output_type": "stream",
     "text": [
      "processor\t: 0\n",
      "vendor_id\t: GenuineIntel\n",
      "cpu family\t: 6\n",
      "model\t\t: 63\n",
      "model name\t: Intel(R) Xeon(R) CPU @ 2.30GHz\n",
      "stepping\t: 0\n",
      "microcode\t: 0x1\n",
      "cpu MHz\t\t: 2300.000\n",
      "cache size\t: 46080 KB\n",
      "physical id\t: 0\n",
      "siblings\t: 2\n",
      "core id\t\t: 0\n",
      "cpu cores\t: 1\n",
      "apicid\t\t: 0\n",
      "initial apicid\t: 0\n",
      "fpu\t\t: yes\n",
      "fpu_exception\t: yes\n",
      "cpuid level\t: 13\n",
      "wp\t\t: yes\n",
      "flags\t\t: fpu vme de pse tsc msr pae mce cx8 apic sep mtrr pge mca cmov pat pse36 clflush mmx fxsr sse sse2 ss ht syscall nx pdpe1gb rdtscp lm constant_tsc rep_good nopl xtopology nonstop_tsc cpuid tsc_known_freq pni pclmulqdq ssse3 fma cx16 pcid sse4_1 sse4_2 x2apic movbe popcnt aes xsave avx f16c rdrand hypervisor lahf_lm abm invpcid_single ssbd ibrs ibpb stibp fsgsbase tsc_adjust bmi1 avx2 smep bmi2 erms invpcid xsaveopt arat md_clear arch_capabilities\n",
      "bugs\t\t: cpu_meltdown spectre_v1 spectre_v2 spec_store_bypass l1tf mds swapgs\n",
      "bogomips\t: 4600.00\n",
      "clflush size\t: 64\n",
      "cache_alignment\t: 64\n",
      "address sizes\t: 46 bits physical, 48 bits virtual\n",
      "power management:\n",
      "\n",
      "processor\t: 1\n",
      "vendor_id\t: GenuineIntel\n",
      "cpu family\t: 6\n",
      "model\t\t: 63\n",
      "model name\t: Intel(R) Xeon(R) CPU @ 2.30GHz\n",
      "stepping\t: 0\n",
      "microcode\t: 0x1\n",
      "cpu MHz\t\t: 2300.000\n",
      "cache size\t: 46080 KB\n",
      "physical id\t: 0\n",
      "siblings\t: 2\n",
      "core id\t\t: 0\n",
      "cpu cores\t: 1\n",
      "apicid\t\t: 1\n",
      "initial apicid\t: 1\n",
      "fpu\t\t: yes\n",
      "fpu_exception\t: yes\n",
      "cpuid level\t: 13\n",
      "wp\t\t: yes\n",
      "flags\t\t: fpu vme de pse tsc msr pae mce cx8 apic sep mtrr pge mca cmov pat pse36 clflush mmx fxsr sse sse2 ss ht syscall nx pdpe1gb rdtscp lm constant_tsc rep_good nopl xtopology nonstop_tsc cpuid tsc_known_freq pni pclmulqdq ssse3 fma cx16 pcid sse4_1 sse4_2 x2apic movbe popcnt aes xsave avx f16c rdrand hypervisor lahf_lm abm invpcid_single ssbd ibrs ibpb stibp fsgsbase tsc_adjust bmi1 avx2 smep bmi2 erms invpcid xsaveopt arat md_clear arch_capabilities\n",
      "bugs\t\t: cpu_meltdown spectre_v1 spectre_v2 spec_store_bypass l1tf mds swapgs\n",
      "bogomips\t: 4600.00\n",
      "clflush size\t: 64\n",
      "cache_alignment\t: 64\n",
      "address sizes\t: 46 bits physical, 48 bits virtual\n",
      "power management:\n",
      "\n"
     ]
    }
   ],
   "source": [
    "! cat /proc/cpuinfo"
   ]
  }
 ],
 "metadata": {
  "colab": {
   "name": "random_forest.ipynb",
   "provenance": []
  },
  "kernelspec": {
   "display_name": "Python 3",
   "language": "python",
   "name": "python3"
  },
  "language_info": {
   "codemirror_mode": {
    "name": "ipython",
    "version": 3
   },
   "file_extension": ".py",
   "mimetype": "text/x-python",
   "name": "python",
   "nbconvert_exporter": "python",
   "pygments_lexer": "ipython3",
   "version": "3.7.6"
  }
 },
 "nbformat": 4,
 "nbformat_minor": 1
}
