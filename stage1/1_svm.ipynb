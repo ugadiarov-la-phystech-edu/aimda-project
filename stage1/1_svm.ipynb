{
 "cells": [
  {
   "cell_type": "code",
   "execution_count": 1,
   "metadata": {
    "id": "0L1pTI6tU6CJ"
   },
   "outputs": [],
   "source": [
    "import numpy as np\n",
    "import pandas as pd\n",
    "from sklearn.model_selection import train_test_split\n",
    "from sklearn.model_selection import GridSearchCV\n",
    "from sklearn.svm import SVC\n",
    "from sklearn.metrics import f1_score\n",
    "\n",
    "SEED = 42"
   ]
  },
  {
   "cell_type": "code",
   "execution_count": 2,
   "metadata": {
    "id": "9THL0ubcU6CN"
   },
   "outputs": [],
   "source": [
    "from sklearn.preprocessing import OneHotEncoder\n",
    "from sklearn.preprocessing import OrdinalEncoder\n",
    "\n",
    "def preprocess_data(dataframe, encoding='one-hot'):\n",
    "    df = dataframe.copy()\n",
    "    mean_age = int(df[df['is_victim_age_missing'] == False]['Victim Age'].mean())\n",
    "    df.loc[df['is_victim_age_missing'], 'Victim Age'] = mean_age\n",
    "    df.drop(columns='is_victim_age_missing', inplace=True)\n",
    "    y = df['Crime Solved'].apply(lambda x: 1 if x == 'No' else 0)\n",
    "    df.drop(columns='Crime Solved', inplace=True)\n",
    "    \n",
    "    non_cat_features = ['Perpetrator Count', 'Victim Age', 'Victim Count']\n",
    "    cat_features = list(set(df.columns) - set(non_cat_features))\n",
    "    \n",
    "    if encoding == 'one-hot':\n",
    "        enc_cat = OneHotEncoder().fit_transform(df[cat_features]).toarray()\n",
    "    elif encoding == 'ordinal':\n",
    "        enc_cat = OrdinalEncoder().fit_transform(df[cat_features])\n",
    "\n",
    "    enc_X = np.concatenate((enc_cat, df[non_cat_features]), axis=1)\n",
    "    \n",
    "    return enc_X, y"
   ]
  },
  {
   "cell_type": "code",
   "execution_count": 3,
   "metadata": {
    "id": "E8GJCrVuU6CP"
   },
   "outputs": [],
   "source": [
    "df = pd.read_csv('data_2014.csv')"
   ]
  },
  {
   "cell_type": "markdown",
   "metadata": {
    "id": "_i8RgxSuU6CR"
   },
   "source": [
    "**Предобработка данных - кодирование категориальных признаков**\n",
    "\n",
    "Категориальные признаки можно кодировать как One-hot вектора, либо кодировать натуральным числом (Ordinal encoding), упорядочивая некоторым образом значения признаков.\n",
    "\n",
    "Так как в данной задаче у значений признаков нет порядка, то применять Ordinal encoding мы не будем, поскольку это может отрицательно сказаться на линейных моделях (куда входит и svm)."
   ]
  },
  {
   "cell_type": "code",
   "execution_count": 4,
   "metadata": {
    "id": "ZP8RBmPJU6CS"
   },
   "outputs": [],
   "source": [
    "X, y = preprocess_data(df)"
   ]
  },
  {
   "cell_type": "markdown",
   "metadata": {
    "id": "_92Cb9xNU6CU"
   },
   "source": [
    "**Подбор гиперпараметров**"
   ]
  },
  {
   "cell_type": "code",
   "execution_count": 5,
   "metadata": {
    "id": "McclZtuCU6CU"
   },
   "outputs": [],
   "source": [
    "def get_best_estimator(params, X, y, print_=True):\n",
    "    grid_search = GridSearchCV(SVC(random_state=SEED), params, scoring=['f1', 'precision', 'recall'], \n",
    "                               refit='f1', cv=5, n_jobs=-1, verbose=3)\n",
    "    grid_search.fit(X, y)\n",
    "\n",
    "    if print_:\n",
    "        print('Best params of grid search: ', grid_search.best_params_)\n",
    "        index = grid_search.best_index_\n",
    "        results = grid_search.cv_results_\n",
    "        for metric in ['f1', 'precision', 'recall']:\n",
    "            print(metric, '=', results[f'mean_test_{metric}'][index], '±', results[f'std_test_{metric}'][index])\n",
    "            \n",
    "    return grid_search.best_estimator_"
   ]
  },
  {
   "cell_type": "markdown",
   "metadata": {
    "id": "-IEM56RCYYnK"
   },
   "source": [
    "Поскольку для полиномиального ядра при некоторых гиперпараметрах обучение происходило очень долго, а прироста качества не было, то из сетки параметров пришлось полиномиальное ядро пришлось убрать вовсе.\n",
    "\n",
    "![Screenshot_1.png](data:image/png;base64,iVBORw0KGgoAAAANSUhEUgAABPYAAAA0CAYAAAAJ67b1AAAAAXNSR0IArs4c6QAAAARnQU1BAACxjwv8YQUAAAAJcEhZcwAAEnQAABJ0Ad5mH3gAAB6zSURBVHhe7Z3reeWsDoVPAd90M72kkzSSStLH9JSzAQvLWEILG+/sy/rxPpNty6C7gSST//33338/iT9/P3++/33/fP79kz9ryr1/P9+ff3f3Wj6+/v38+/78+fvn78/n9+3rrw9TLiHjfn3s5+wxok8PGeffv6+fjz+rDn8+vm7XbF+MsPri3DiaP4BfNT35rF9je75myNZxsr+cPAFkPHT+fXzd/v24fc6++/j5WnLkj/raGqOlZ/vfz+9FzxU9rves5Z+jeSx4c5U8XONzKF7GvWgcxPbe+AISL893nl1ngHR2al/rOZqHbowu6D+IjWdA4oX6J6rBRFsDLVCODcZrlGz75D6fQPyT5+7VssolL4cRGWQulFBnoP8IXj7me0At6+tnyfFKeZDn3a9P0DyMcx7pz2M5f6ZveM9u8mowFj192nvJ7rNrQUIIIYSQZwc72JOFFLB5qQu4dDATLCyPLrARfarMbXyLNKe3eKwL9MDWHrKwPrJQjrA2Rh6ejZ5+1uZJ442nQWRaij4p/27/Zt+nMZbPsjkYHNe3vVzv5qbz7PDmUsZZ8q4FzcPRePm2x+OgtufPBzagGtFHb8w8HWcQ6uxtNNVmG7FLMxqjbdwXmeQPg52eg7qNgsQLi3uR6dVg4ughh2ZIRvlW4+l5Va4i/vHm3tSyPlxRuS3P5q8RGWQuwIdD4ygZL4bd3gvUsr5+Fl23+etmbs+GlqM5H/mwh+tfuZ5iZlBiaj9bfLD0zMFYRPqvz6V8mh9LQgghhJBnAzrYW+9vF1p58fW1PQCrC/dMf8HVW5RHoPpElAXiqkNPp7xwbub0KLK2/TLO0e8yu7Z/7vXyFsj1ujrAROyT+PZ0R2RaRJ/v7+/6XNko3T4rP1obJo/Q9q6dtozePAneZhXFmqvNwyoDxiu0vTMOajuSh0i88rj1IEv1j2b+Knu7d2XtlDnWnLPyeSQPW79pRvoPghc7zVkfIvGK/IPomYgOORJILEbiNUKbK/t7x/yM+KfK9Go5+2/GwV48FwI6TolX8Wt9xpir5p+jQxsfq5a3ssfrIuts2KVzDsnDKOe93Mjz7XzYn0vwxkSwnpU80r4ciUWkT4174oDOhBBCCCGvBnywl9gspjK2vCxoowXX+U0spk+EbK4FS5/e5iIhi+hKx/ZV1l+8R0S27/Qx5MT/ci8tsPNzSndrnHYhjsgglLwx9FObpYRpW6BzQY3dxLyyjINunoTWl6OxtXRu8/BovAp43EdsR2rQ1EmNs6mtG8nu1i5hHeu62knUHrZg5XNkl+DljID0n4hW35VePI75EI1X5J+oBleZWE8kFmi8euzG6Dy/yh70M+KfqJbzGCUHRDbFS2ogfw3IIHOhIOO0Odabqx2v9TdSy4mz8crPq3eVtkF8WOWUPhlte5DzI/05msu8n9n3DY82VoK2WYhiMaJPkcX1JIQQQgh5ZYYO9majNxHW/VelHiw0B1bkPkjetZuKd83HZ4K1c55H8OE71OAZP7NH3R/2lmN4B41Xkw/2GCtCCCGEkAwP9n4B+a40N2e/g7dp5k8APD6snfM8gg/foQbP+Jk96v6wtxzjNw729E+ZWvcJIYQQQt6N5mDvtjgTLvpOqPVrG++ykF59/D4L0vpTEAH3zgH719y4UXhU3rF2ZvNoPnzVGpzlZ/ao+8Deco57Huytv8rLWBFCCCGEaOrBHiGEEEIIIYQQQggh5HngwR4hhBBCCCGEEEIIIU8ID/YIIYQQQgghhBBCCHlCeLBHCCGEEEIIIYQQQsgTwoM9QgghhBBCCCGEEEKekHqwt/5luAX+VdyXZ/dXF+/wV+0ejb+f34dtv+dfA5w516vEPf+FxBfK2ZqLC+yLNq8Wd0JGyb3iojXaVTzae+eR34N8F7wfZ9aimlnjkNcB6XXcD74ejCnGq/XM5mDv++fzr7+A2B/KFfk/fz5+vjpOKU77+vloFqFymHjlosXT2ZLt0RbI9+dfU67HrsgWfnvRds8DqkdDCvpQPAf8djbXr4jRs8f9lQ54Sm/we9OM/pN4hT72Lgd7j/q+eFfusV5Bye+tJzvYEx7tvfNw+gTvgsSMjcjZd0Fd9ztInez7mG3bWX2enTNrUc2scWYwM6btWG0frjVh3Edz9dVBet2Mfniv3lLlg9xAZWYwa50wc70x6x0XvXfy2nzxr+djRKbHFbX8SD1zBvDBXnWmWkzmZPkqn0uwjMO7TkJdvVCOdG7lPaQhiJ6i93CzyuPsffTbzCr6d2PEb2dz/YoYPXvcX+mAJ9vibNTn9p/n72OvFPcej/q+eFeuXq+MkBeiPNibwqPp030X1J79cUrnWe8CizK2v5com6jt/Sv1Ib/DzJh6+0vvfpSDAir3KiC97mw/vLKWrXhFuZFAZGYh9p5dJ8waJ3E6pjWG/nsn+1hdb/MAlTnKu9VyD/hgLweks5D0AtRLzpmJaxHpjOAVxJGxi48eb6P2aAvbZ2HEb2dz/YoYPXvc25fEM+PZMqv/zBon8dt97JXi3uNR3xfvytXrlRF4sDePR9PHfxekb1SXNfoZnWe+C1oQveQb7lJHV+pDfoeZMY3eg20+lWtIHsYyr8bVfpkZ9xZrbGSNdO911Kx1wsz1xrmYHnvvILJn9NLMGudVgA72pHH2TtxFpnVs+e6cXVRXLpQRnREsHautg6fDv7FRyw016+rrGxWF/JhqxZArtikZw05Epke2paejenHs5mqei+4LW/+tpLzSftv4SOmx890G3H5kLgGJV+JM3OXZ5IdIn0SUh0g89vljy80i0hnx81CeWc9P6j/P3MeQuCN+7tVyHSPnr/il0L6fkLkQmYgyxv38HPkn0e0J4j+xPX295J3Ygcggc42A9LF2bF2Pu+c3XKNzRJ4n52qZW+q7reUoD2s8nJwf6fPRXFUueO/0GNEHjYWnT3neeFcZvXQm3rtAc8qHE98FLSUH+mO081+pTwuaP1FdbOTUfS8e2946VqOuXNN70HF6dTFSXz1mxjT5Tr+DWspc+zGz/h29i7/m5peQx75T/iR6MdUgfeOZekuUGwlEZga7GGzA1wmzxtGcialmZJyrc03T5katP6mv9PWSm9qHUf2Jfmf74b3BDvaMYrUozUc5LQgaOu4RZo29SxgZ93N8/F0SDT4/Qm2mKgFzPD73sejFKemsm6KMu7kG+HpGPHJ+OQWV7y36Fz/rPFx8YdnXsb0U8r4JiA312TT2opflnyx70v7eXFp3JF7rveNx3+gjfjfmqjp28hCJV5HZv9Qt3c+C6LzLDVdnX6bcv322kBg3dh/tP7PGSVh6n6nrHq3eiTbuRaYfi6iW9TV93X7uXNxRtD6tXrNB/dPtCaJvyt2cX98/39+3MVXvQ2SQuVBCnZ0eaPWWqIcjPWEWeS7pEYteO32zr/v61Hgou7QdcJ8H5qqyjs8RNvqI/cZ4I7Hw9LHsTPTWIUfRcdhhzHXKh3muOe8CTdUp8E3rv6v0sUDzJ6qLVSaoL7mm7U3zja7Dg96j6Y0T1cXGP/WaXQc9ZsVU5v76WPQUtD8d37S2aqqdQa4e5Z75k8bpveM0vdwQEBmPWXFvseIF5QYgM5uoVtF3UzTO7LgjjIzT00dAZCLM3JD6S9eyH+115m6MNgZyPY213Juh89VgB3uLk6KibOXCxAzunwHReRM0g/RsGaf4Rftohu6lwK9JkN5LrWWkWBP2xtrOHQGRicg2LcW7icWif/Kj/nr3rOEPz3brejt2lWleEqObwjrOknctOQ+duZA4W/okLBt76HFQ2yP9ZJxevDwZz66zxDqXxt7GctMrALv0dTdGQP+psVA5o8kyT9jHkLiP5I/2r/Vc8dHWFxtfDcwF6bPEp8WLxdV+jvxjsYmF8p/kVXpe1wsi084hWHEXn7UMj6Nsb2WEXq0gPUFfP0vOhbpoNXR14qfzMMuBOd/r8+hcgufzej3ZY5B09PTZ1tdYLDx9EtlONReSp2excq/llA+VHzax7uQ3Qrc+ljwrbGNwlT4WSP5kObAuopz3asCil4de7lr4uRHXhecfs2fWeG5J48+Kqei8iU1jn6WzzOP5/orc0vxG/mi8HtL6zsKTqdezX/fMjHuL9TyWG7HMbHq2IjVYrx3w2WjckZia8oDvsi6NTS2ITISZG6r+5H5vnRn6p9MPH5G5B3tSRIvBUVM6krgoqM4RteA+t4U3Q3cvaWYwknhRsZbia1Cy9fl8z8khQCaixKLkU8ktKdYyti7cqueGfS72bG/zt80p71nL92fzxZur5qfyZxQvoWd7ojcOarvlCw0SL8930dhHCXU2fJ6vKz1H89Cbc1b/mTWORc2FyX0MiTvq56iW12v72NT7SK4Oxn2Eq/ycQPyTyL5v7ZJYSI7dcsuqhfw1IIPMNUJXZ7CPJXq1ou3aXJ9QXxby/tO2aNA8jHM+9s9ozntjInjPbvJqMBY9fdpnIn/NwMq9llM+FP9MfhdkvYHeJPPIocZV+lgg+bN+7tUFlvNILIVuHsq9PP6qpwVqY72u/Ow9O2JHYlZMrfdCvt7Gq43HLQ8/Uo908hHN1aPcO3+yXDtOL486YyIyHrPi3mLFC8kNNH9m0rPVm9d6BvHZzLgjoOOIXu3BtQaRQTBzQ+eA8qObD45d3vU850lfXsnQr+IiAVidHCcAkrhHGdG5h4zTNulZjcFKyrOMFnFPvhTf1nYvqes42V9OLgEyHjpHP75u/37cPmffrcXqFa5Hz/bN5mlBj+s9a/nnbK57c5U8bBYCo/Ey7kXjILb3xheQeHm+8+w6A6Qz8HIezUM3RpP6z6xxPLL+s/sYEHfUz1EtJ9paaoFydTDuo1zh5wTinzx3ryeoXPJqAZFB5kIJdQb6mODlY77n1FHvmTPkeKU8yPPu1zloHsY5j/T5sZxHeqyH9+wmrwZj0dOnvZfsPrumjLByr+WUDxc/tHH3/IYwmufZxqWPXaGPB5I/6+deXcQ5PxojRL7KZH/ZvkFtrNdV7LxnkZzUzIqp+HnX34BxPJ1Hc/UI98yfbGczl2v7SI4NxFu4opa9eCG5cSZ/jtLLL29e65koT2fHHQEZR9aSvfckIoPg5obOASXj1Z1nl3fd8/OjAP7xjMU4YENRHZoOXQwHaqLEPQOic5W56WBREsEObF1YB/7oIUl2RYJYRe/h2ejpFyW1N54GkWkp+qQcvf2bfZ/GWD5LEQ+O69ternfz13nW8k8v1+s4S961oHk4Gi/f9ngc1Pb8ubvAscfRiD76JeDpOINQ5+7LpDyH2KUZjdE27otM8ofBs/YxJO5Y/hSZXi0ndPzM+wNzQTJLfFo8Pa/zc+wfb+5NTwAWU5AMMhfgw6FxlIwXw24PB3qCvn4WXbf562Zuz4aWozkf+bCH61+5nmJmUGJqP1t8sPTewVhE+q/PpXyaH8sW712gucyHB98FWecB32T59v01UR+P7lxK/6N10TLiF3TMRE/Wu4fUhfesWe9Nbgkzc6w7Tjc+6/ukvTeaq0e4V/4g7zgNMq8nU6+rWGvu3Vu6cy3yiIy+PoNZ64TuOJPijsTUlDfmyPezHf79BCKD4uZGnqO/ztzIR/5prnt+fhSgg731/taYbPTXtlhrwmX6hdNL3BmgOkdIIoqePb1Lom3n9PCScr13/ETbtX3gP+2t11VDRuyTHOjpjsi0iD7f39/1ufLCuH1WfixNG8ur0PaunbaMVfReI0ax5mrzsMqA8Qpt74yD2o7kIRKvPO6iz6bHNPNX2du9K2unzLHmnJXPI3nY+k0z0n96PGMfy88HcY/87OVqS/FP/52FxHQk7iNc5WfEP1Wm1xOAxRQkA8yFgI5T4lX8Wp8x5qr55+jQxsfqCVvZ43WRdTbs0jmH5GGU815u5Pl2PuzPJXhjIljPSh5pX47EItKnxj3R0flsTIXWtxZnfJiY+S6w/N+jndu6huhzxM9o/kR1kYDqaxl7M1/SYfCPZ7QczeeoLrxnkZxsmZVjZZx1b9qzPd/v5GPvnuZMjiXulT81XuC7EskxRKbHrLgnonghuTGSP2fjnpDxPZvKHPG7qTfOFXFH6I0jce/NgcgIZ3JDx1znn/i0zUXPLu961g2w4beAD/YSNdEqtnwUEKFX8LNAdY6oCblg6VyTIMkYtksjr3T8s8r2Xw49Itt3+hhyEiO5l4ooP6d0t8Zpiw2RQSi5ZeinGlzCtC3QuaDGbmJeWcYZLfrWl6OxtXTeNaiD8SrgcR+xHalBUyc1zqa2biS7W7uEdazraidR+9yClc+RXYKXMwLSfxCerY+hcY/8HNXyKhPricQUkYnYjdF5fpU96GfEP1FPyGOUOhHZFC+ppfw1IIPMhYKM0+ZYb652vNbfSE9InI1Xfl6987QN4sMqp/TJaNuDnK/jNr6w+lU0l3k/s++tHm2sBG2zEMViRJ8i29dzHe9YTIXeu6C1aQX3odDWvOXDjb+7Ovk273W2ZRF9Emf8jOZPVBeCmUONn2aswy2Zo/ncq4uRekeYlWOtbX3b/VqIclVYxxvPscQ98wd5x5nzZPo51sqg3Ku3JFq929xAZbZyx+IuzFon9MaZFXeEVt92HK+vCin+iIzMdzY3Sv4tui1+Kjps15mRf6oejQ55bkevR2DoYG822uHW/XemNvPmwIrcB8nNtuEyZx8f1s7j8AixeIdaPuNn9rr7wx51DG+hfTV5AxDEijG9D6d63S/lD3kuWMvvCeNOXgEe7D0ocpJM3/wO3ma3xOW+dULGYO08Do8Qi3eo5TN+Zq+7P+xRx/iNgxn93X/rvsCY3odTvY4HewSAtfyeMO7kFWgO9m4vPOGiE+v6YlVzsYhW1ji8z4aqfpck4N550v44eYEb3UflHWvnUXm0WLxqLc/yM3vdfWCPOsc9D2bWXz/qx4oxvQ8z/MyDPdKDtfyeMO7klagHe4QQQgghhBBCCCGEkOeBB3uEEEIIIYQQQgghhDwhPNgjhBBCCCGEEEIIIeQJ4cEeIYQQQgghhBBCCCFPCA/2CCGEEEIIIYQQQgh5QurB3vpXYRb4V3Gfmt1fOXzDvwImf7r8iO33/OtpM+d6lbjnv0j4Qjlbc3Hh1Xreq8WLkFFyjV+0brqKR3tfcN1CCCGEEHKM5mAv+LP+u0O5Iv/nz8fPV2cRVja1Xz8fzYJXDhOPbnI9fSzZHu1i8vvzrynXY7cgXfjtDfw9D6geDTlMORTPAb9Ny+OJMXr2uL/SQVHpDX5vmtF/hDOH2Wd4l4O9R+3z78rZ3juTZzzYEx7tffHO6xZCCCGEkCPAB3v18E4tXPPi66t8zhs76/Cus0A7syiP9GnlPWSjJjqITqOb6zLO3v7fhgvkY4z4jQd783mlg6Jsi7Phn9Z/6nMfvxL39zrYe7w+/66c7b0z4cHePLhuIYQQQggZAz7Y621OE+0GtV7vLLzPLMojfRC8xeORsXmw91qM+O3s5vKKGD173F/poMizZVb/Kd/kkJ+e/p24v1K8evBg77Hgwd4cHu198ezvL0IIIYSQewMd7MlPx/V+isT7ddzyq2H2RujoohzRB8Gav9rROeS0+I0NX95MZ119faMFcv3VPcGQk0Pblb2diEyP3sFAu2HazdU8F90Xtv5bSXml/bbxkdJj57sNuP3IXAISr8SZuMuzyQ+RPokoD5F47PPHlptFpDPi56E8s56f2H+EKO6zQOKF+KdXg3WMnHfil0L7zkDmQuPVo4xxvz4f+SfRrWXxn9ievl7yTuxAZJC5RkD6Tzu2rqPd8xuu0Tkiz5Nztcwt9d3WcpSHNR5Ozo/052iuKneib4zog8bC06c8b7xjjF5KCCGEEPJOYAd74KKpbELWRXW0WDy6GJu1iCuL3tXmOu7n+Pi7BfTg8yPUzb/eRCRff+793ItB0llvEK0DU8TXM+KRc8fYCNR7i/7FzzrHFl9Y9nVsLxsENc4SP7GhPpvGXvSy/JNlT9rfm0vrjsRrvXc87ht9xO/GXFXHTh4i8Soy296jYz4TROddbrg6+zLl/u2zhcS4sftM/xF6cZ8FEq/IP4moBvU1fd1+7ly8ULQ+rV6zQf3TrWXRN+Vczq/vn+/v25iqZyEyyFwooc5ODls9Ieq9SC3PIs8ltb3otdM3+7qvT42HskvbAfdnYK4qe6JvbPQR+43xRmLh6WPZmeitHwghhBBC3gHsYG9ZaHqLZ6GVixbd0X0PRJ/NYtMgPVvGKTZr+4/qpSmL2PFND0K7QO4xumC3N+h2XgiITMR+U7TEYtE/+VF/vXvW8Ie/Odhfb8euMs1mYXRzWcdZ8q4l56EzFxJnS5+EZWMPPQ5qe6SfjNOLlyfj2XWWWOeycWxjuekVgF36uhsjoP/UWKic0ez0FPkLfJdA4oX4x9LTeq74aGun1x/kfgLJMVOfxr9C6+ftGPuxz4L6x2ITC+U/yav0vM5zRKadQ7DiLj5rGR5H2d7KCLpW9PV8D6hlff0sORdSz1x02unqxE/nYZYDc77Xn9G5BM/n9XqyxyDp6Omzra+xWHj6JLKdai4kTwkhhBBCXp25B3vLAksWY94iUugtynug+kTUReXndnF5VC+Nt9idgbXB8egtkBN5rBQzjZLdLuyd/ABkIkosSq6UvJHNZRlbbzSrnhvwzUoi2kx5z45uLhG8uWp+Kn9G8RJ6tid646C2W77QIPHyfBeNfZRQZ8Pn+brSczQPvTmv6D9R3M+CxAv1T1SD67W9T+t9JMcG4zVC9fcFfR7xTyL7vrVLYqHy2crh/DUgg8w1QldnsP8kerWi7dpcP1FfPeS9pW3RoHkY53zsn9GcP9M3vGc3eTUYi54+7TORvwghhBBC3oGhX8Vtv/trkReXeZMTLxSPLrBH9Okh47SLQm8ROsrqi3kLztEFeE++bK62tlubp0QdJ/vLyRNAxkPn38fX7d+P2+fsO7UBNTaaPXq2bzZhC3pc71nLP0fzWPDmajcsh+Jl3IvGQWzvjS8g8fJ859l1BkhnYAM6modujC7oP4iNZ0DihfonqsFEtGmHcmwwXqNk2y872Ov7J8/dq2WVS14OIzLIXCihzkD/Ebx8zPeAWtbXz5LjlfIgz7tfn6B5GOc80p/Hcv5M3/Ce3eTVYCx6+rT3kt1n14KEEEIIIc8O+MczloUUsHmpC7h0MBMsLI8usBF9qsxtfIs0p7d4rAv0wNYesrA+slCOsDZGHp6Nnn7W5knjjadBZFqKPin/bv9m36cxls+yORgc17e9XO/mpvPs8OZSxlnyrgXNw9F4+bbH46C2588HNqAa0UdvzDwdZxDq7G001WYbsUszGqNt3BeZ5A+DnZ6Duo2CxAuLe5Hp1WDi6CGHZkhG+Vbj6XlVriL+8ebe1LI+XFG5Lc/mrxEZZC7Ah0PjKBkvht3eC9Syvn4WXbf562Zuz4aWozkf+bCH61+5nmJmUGJqP1t8sPTMwVhE+q/PpXyaH0tCCCGEkGcDOthb728XWnnx9bU9AKsL90x/wdVblEeg+kSUBeKqQ0+nvHBu5vQosrb9Ms7R7zK7tg/88Yx6XR1gIvZJfHu6IzItos/393d9rmyUbp+VH60Nk0doe9dOW0ZvngRvs4pizdXmYZUB4xXa3hkHtR3JQyReedx6kKX6RzN/lb3du7J2yhxrzln5PJKHrd80I/0HwYud5qwPkXhF/kH0TESHHAkkFiPxGqHNlf29Y35G/FNlerWc/TfjYC+eCwEdp8Sr+LU+Y8xV88/RoY2PVctb2eN1kXU27NI5h+RhlPNebuT5dj7szyV4YyJYz0oeaV+OxCLSp8Y9cUBnQgghhJBXAz7YS2wWUxlbXha00YLr/CYW0ydCNteCpU9vc5GQRXSlY/sq6y/eIyLbd/oYcuJ/uZcW2Pk5pbs1TrsQR2QQSt4Y+qnNUsK0LdC5oMZuYl5ZxkE3T0Lry9HYWjq3eXg0XgU87iO2IzVo6qTG2dTWjWR3a5ewjnVd7SRqD1uw8jmyS/ByRkD6T0Sr70ovHsd8iMYr8k9Ug6tMrCcSCzRePXZjdJ5fZQ/6GfFPVMt5jJIDIpviJTWQvwZkkLlQkHHaHOvN1Y7X+hup5cTZeOXn1btK2yA+rHJKn4y2Pcj5kf4czWXez+z7hkcbK0HbLESxGNGnyOJ6EkIIIYS8MkMHe7PRmwjr/qtSDxaaAytyHyTv2k3Fu+bjM8HaOc8j+PAdavCMn9mj7g97yzG8g8aryQd7jBUhhBBCSIYHe7+AfFeam7Pfwds08ycAHh/WznkewYfvUINn/MwedX/YW47xGwd7+qdMrfuEEEIIIe9Gc7B3W5wJF30n1Pq1jXdZSK8+fp8Faf0piIB754D9a27cKDwq71g7s3k0H75qDc7yM3vUfWBvOcc9D/bWX+VlrAghhBBCNPVgjxBCCCGEEEIIIYQQ8jzwYI8QQgghhBBCCCGEkCeEB3uEEEIIIYQQQgghhDwhPNgjhBBCCCGEEEIIIeQJ4cEeIYQQQgghhBBCCCFPx38//wcP6v4k8CDR3QAAAABJRU5ErkJggg==)"
   ]
  },
  {
   "cell_type": "code",
   "execution_count": null,
   "metadata": {
    "id": "t90IYRUSU6CW"
   },
   "outputs": [],
   "source": [
    "params = {\n",
    "    'C': [0.1, 0.5, 1, 5],\n",
    "    'kernel': ['linear', 'rbf', 'sigmoid'],\n",
    "    'gamma': ['scale', 'auto', 1, 5],\n",
    "    'class_weight': ['balanced', None],\n",
    "    'coef0': [0, 1, 5]\n",
    "}"
   ]
  },
  {
   "cell_type": "code",
   "execution_count": null,
   "metadata": {
    "id": "gx44iE7PU6CZ",
    "outputId": "21ae3ee0-3f78-4814-9586-367155b1f858"
   },
   "outputs": [
    {
     "name": "stdout",
     "output_type": "stream",
     "text": [
      "Fitting 5 folds for each of 288 candidates, totalling 1440 fits\n"
     ]
    },
    {
     "name": "stderr",
     "output_type": "stream",
     "text": [
      "[Parallel(n_jobs=-1)]: Using backend LokyBackend with 12 concurrent workers.\n",
      "[Parallel(n_jobs=-1)]: Done   8 tasks      | elapsed:   43.5s\n",
      "[Parallel(n_jobs=-1)]: Done 104 tasks      | elapsed:  5.0min\n",
      "[Parallel(n_jobs=-1)]: Done 264 tasks      | elapsed: 12.1min\n",
      "[Parallel(n_jobs=-1)]: Done 488 tasks      | elapsed: 22.0min\n",
      "[Parallel(n_jobs=-1)]: Done 776 tasks      | elapsed: 34.5min\n",
      "[Parallel(n_jobs=-1)]: Done 1128 tasks      | elapsed: 50.3min\n",
      "[Parallel(n_jobs=-1)]: Done 1440 out of 1440 | elapsed: 65.7min finished\n"
     ]
    },
    {
     "name": "stdout",
     "output_type": "stream",
     "text": [
      "Best params of grid search:  {'C': 0.1, 'class_weight': None, 'coef0': 0, 'gamma': 'scale', 'kernel': 'linear'}\n",
      "f1 = 0.7351118730671619 ± 0.0070851210784109\n",
      "precision = 0.7032649535987657 ± 0.005563472325392974\n",
      "recall = 0.7702574460323591 ± 0.016960582667482876\n"
     ]
    }
   ],
   "source": [
    "best_svm = get_best_estimator(params, X, y)"
   ]
  },
  {
   "cell_type": "code",
   "execution_count": 6,
   "metadata": {
    "id": "r4YYICaQU6Cc"
   },
   "outputs": [],
   "source": [
    "import joblib\n",
    "\n",
    "joblib.dump(best_svm, '1_svm_clf.joblib')\n",
    "# best_svm = joblib.load('1_svm_clf.joblib')"
   ]
  },
  {
   "cell_type": "markdown",
   "metadata": {
    "id": "nHxskbH7U6Ce"
   },
   "source": [
    "**Время обучения модели с оптимальными гиперпараметрами**"
   ]
  },
  {
   "cell_type": "code",
   "execution_count": 8,
   "metadata": {
    "id": "C65gYjgIU6Cf"
   },
   "outputs": [],
   "source": [
    "import time\n",
    "\n",
    "N_RUNS = 31\n",
    "ticks = []\n",
    "for i in range(N_RUNS):\n",
    "    start = time.time()\n",
    "    best_svm.fit(X, y)\n",
    "    stop = time.time()\n",
    "    ticks.append((start, stop))"
   ]
  },
  {
   "cell_type": "code",
   "execution_count": 9,
   "metadata": {
    "colab": {
     "base_uri": "https://localhost:8080/"
    },
    "id": "QQuFEUhlU6Ch",
    "outputId": "a26bde78-edf8-48b1-9fb8-446f401ddfc1"
   },
   "outputs": [
    {
     "name": "stdout",
     "output_type": "stream",
     "text": [
      "Mean fit time: 16.41548660596212\n",
      "Standard deviation: 0.4984726985128031\n"
     ]
    }
   ],
   "source": [
    "fit_times = np.array([stop - start for start, stop in ticks])[1:]\n",
    "print('Mean fit time:', fit_times.mean())\n",
    "print('Standard deviation:', fit_times.std(ddof=1))"
   ]
  },
  {
   "cell_type": "markdown",
   "metadata": {
    "id": "ht2mEA0jU6Cj"
   },
   "source": [
    "**Время вычисления предсказания модели с оптимальными гиперпараметрами для одного объекта**"
   ]
  },
  {
   "cell_type": "code",
   "execution_count": 10,
   "metadata": {
    "id": "fR4Rd-dnU6Cj"
   },
   "outputs": [],
   "source": [
    "ticks = []\n",
    "for i, x in enumerate(X):\n",
    "    x = x[np.newaxis, :]\n",
    "    start = time.time()\n",
    "    best_svm.predict(x)\n",
    "    stop = time.time()\n",
    "    ticks.append((start, stop))"
   ]
  },
  {
   "cell_type": "code",
   "execution_count": 11,
   "metadata": {
    "colab": {
     "base_uri": "https://localhost:8080/"
    },
    "id": "X8nsbxrCU6Cl",
    "outputId": "aff75c06-51b1-407d-fde8-5a64991b0f3b"
   },
   "outputs": [
    {
     "name": "stdout",
     "output_type": "stream",
     "text": [
      "Mean predict time: 0.001353273656786558\n",
      "Standard deviation: 0.00010094701862708233\n"
     ]
    }
   ],
   "source": [
    "predict_times = np.array([stop - start for start, stop in ticks])[1:]\n",
    "print('Mean predict time:', predict_times.mean())\n",
    "print('Standard deviation:', predict_times.std(ddof=1))"
   ]
  },
  {
   "cell_type": "markdown",
   "metadata": {
    "id": "KGPp2fs1aPpc"
   },
   "source": [
    "**Характеристики используемых ресурсов** (для последних измерений использовался google colab)"
   ]
  },
  {
   "cell_type": "code",
   "execution_count": 12,
   "metadata": {
    "colab": {
     "base_uri": "https://localhost:8080/"
    },
    "id": "bLaLuha5agw0",
    "outputId": "64677283-7c5e-4c2f-92a7-b9ce453c54a0"
   },
   "outputs": [
    {
     "name": "stdout",
     "output_type": "stream",
     "text": [
      "processor\t: 0\n",
      "vendor_id\t: GenuineIntel\n",
      "cpu family\t: 6\n",
      "model\t\t: 79\n",
      "model name\t: Intel(R) Xeon(R) CPU @ 2.20GHz\n",
      "stepping\t: 0\n",
      "microcode\t: 0x1\n",
      "cpu MHz\t\t: 2200.000\n",
      "cache size\t: 56320 KB\n",
      "physical id\t: 0\n",
      "siblings\t: 2\n",
      "core id\t\t: 0\n",
      "cpu cores\t: 1\n",
      "apicid\t\t: 0\n",
      "initial apicid\t: 0\n",
      "fpu\t\t: yes\n",
      "fpu_exception\t: yes\n",
      "cpuid level\t: 13\n",
      "wp\t\t: yes\n",
      "flags\t\t: fpu vme de pse tsc msr pae mce cx8 apic sep mtrr pge mca cmov pat pse36 clflush mmx fxsr sse sse2 ss ht syscall nx pdpe1gb rdtscp lm constant_tsc rep_good nopl xtopology nonstop_tsc cpuid tsc_known_freq pni pclmulqdq ssse3 fma cx16 pcid sse4_1 sse4_2 x2apic movbe popcnt aes xsave avx f16c rdrand hypervisor lahf_lm abm 3dnowprefetch invpcid_single ssbd ibrs ibpb stibp fsgsbase tsc_adjust bmi1 hle avx2 smep bmi2 erms invpcid rtm rdseed adx smap xsaveopt arat md_clear arch_capabilities\n",
      "bugs\t\t: cpu_meltdown spectre_v1 spectre_v2 spec_store_bypass l1tf mds swapgs taa\n",
      "bogomips\t: 4400.00\n",
      "clflush size\t: 64\n",
      "cache_alignment\t: 64\n",
      "address sizes\t: 46 bits physical, 48 bits virtual\n",
      "power management:\n",
      "\n",
      "processor\t: 1\n",
      "vendor_id\t: GenuineIntel\n",
      "cpu family\t: 6\n",
      "model\t\t: 79\n",
      "model name\t: Intel(R) Xeon(R) CPU @ 2.20GHz\n",
      "stepping\t: 0\n",
      "microcode\t: 0x1\n",
      "cpu MHz\t\t: 2200.000\n",
      "cache size\t: 56320 KB\n",
      "physical id\t: 0\n",
      "siblings\t: 2\n",
      "core id\t\t: 0\n",
      "cpu cores\t: 1\n",
      "apicid\t\t: 1\n",
      "initial apicid\t: 1\n",
      "fpu\t\t: yes\n",
      "fpu_exception\t: yes\n",
      "cpuid level\t: 13\n",
      "wp\t\t: yes\n",
      "flags\t\t: fpu vme de pse tsc msr pae mce cx8 apic sep mtrr pge mca cmov pat pse36 clflush mmx fxsr sse sse2 ss ht syscall nx pdpe1gb rdtscp lm constant_tsc rep_good nopl xtopology nonstop_tsc cpuid tsc_known_freq pni pclmulqdq ssse3 fma cx16 pcid sse4_1 sse4_2 x2apic movbe popcnt aes xsave avx f16c rdrand hypervisor lahf_lm abm 3dnowprefetch invpcid_single ssbd ibrs ibpb stibp fsgsbase tsc_adjust bmi1 hle avx2 smep bmi2 erms invpcid rtm rdseed adx smap xsaveopt arat md_clear arch_capabilities\n",
      "bugs\t\t: cpu_meltdown spectre_v1 spectre_v2 spec_store_bypass l1tf mds swapgs taa\n",
      "bogomips\t: 4400.00\n",
      "clflush size\t: 64\n",
      "cache_alignment\t: 64\n",
      "address sizes\t: 46 bits physical, 48 bits virtual\n",
      "power management:\n",
      "\n"
     ]
    }
   ],
   "source": [
    "! cat /proc/cpuinfo"
   ]
  }
 ],
 "metadata": {
  "colab": {
   "name": "Untitled.ipynb",
   "provenance": []
  },
  "kernelspec": {
   "display_name": "Python 3",
   "language": "python",
   "name": "python3"
  },
  "language_info": {
   "codemirror_mode": {
    "name": "ipython",
    "version": 3
   },
   "file_extension": ".py",
   "mimetype": "text/x-python",
   "name": "python",
   "nbconvert_exporter": "python",
   "pygments_lexer": "ipython3",
   "version": "3.7.3"
  }
 },
 "nbformat": 4,
 "nbformat_minor": 1
}
