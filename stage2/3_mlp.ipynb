{
 "cells": [
  {
   "cell_type": "markdown",
   "metadata": {
    "id": "TFZAilOBi8r4"
   },
   "source": [
    "# Полносвязные нейронные сети"
   ]
  },
  {
   "cell_type": "code",
   "execution_count": 1,
   "metadata": {
    "id": "Liw5rQq59Pto"
   },
   "outputs": [],
   "source": [
    "import collections\n",
    "import time\n",
    "\n",
    "import joblib\n",
    "import matplotlib.pyplot as plt\n",
    "import numpy as np\n",
    "import pandas as pd\n",
    "import sklearn.linear_model\n",
    "import sklearn.model_selection\n",
    "import torch\n",
    "import torch.nn as nn\n",
    "import torch.nn.functional as F\n",
    "from tqdm import notebook"
   ]
  },
  {
   "cell_type": "code",
   "execution_count": 2,
   "metadata": {
    "id": "nEOtxGF99sz0"
   },
   "outputs": [],
   "source": [
    "def build_fcnn(model_id, n_tier, n_features, use_batchnorm=False, p_dropout=None):\n",
    "    torch.manual_seed(0)\n",
    "    np.random.seed(0)\n",
    "\n",
    "    layers = collections.OrderedDict()\n",
    "    for i in range(n_tier):\n",
    "        layers[f'linear{i}'] = nn.Linear(n_features, n_features)\n",
    "        if use_batchnorm:\n",
    "            layers[f'batchnorm{i}'] = nn.BatchNorm1d(n_features)\n",
    "        layers[f'relu{i}'] = nn.ReLU(inplace=True)\n",
    "        if p_dropout:\n",
    "            layers[f'dropout{i}'] = nn.Dropout(p_dropout)\n",
    "    \n",
    "    layers[f'linear_out'] = nn.Linear(n_features, 1)\n",
    "\n",
    "    net = nn.Sequential(layers)\n",
    "    net.model_id = model_id\n",
    "    return net\n",
    "\n",
    "\n",
    "def batch_generator(X, Y, batch_size=24):\n",
    "    for i in range(0, X.shape[0], batch_size):\n",
    "        yield X[i:i+batch_size], Y[i:i+batch_size]\n",
    "\n",
    "\n",
    "def train_model(model, n_epochs, n_early_stop, X_train, Y_train, X_val, Y_val, device, verbose=False, batch_size=24):\n",
    "    model_state_dict_path = f'{model.model_id}.pth'\n",
    "    best_val_loss = np.inf\n",
    "    best_epoch = -1\n",
    "    optimizer = torch.optim.Adam(model.parameters(), lr=0.0001)\n",
    "    loss_func = nn.MSELoss()\n",
    "    train_time_seconds = 0\n",
    "    i = 0\n",
    "    for epoch in notebook.tqdm(range(n_epochs)):\n",
    "        start = time.time()\n",
    "        model.train()\n",
    "        sum_loss = 0\n",
    "        n = 0\n",
    "        for batch_x, batch_y in batch_generator(X_train, Y_train, batch_size):\n",
    "            batch_x = torch.from_numpy(batch_x).to(device)\n",
    "            batch_y = torch.from_numpy(batch_y).to(device)\n",
    "            prediction = model(batch_x)\n",
    "\n",
    "            loss = loss_func(prediction, batch_y)\n",
    "            optimizer.zero_grad()\n",
    "            loss.backward()\n",
    "            optimizer.step()\n",
    "\n",
    "            sum_loss += loss * batch_x.size(0)\n",
    "            n += batch_x.size(0)\n",
    "        \n",
    "        model.eval()\n",
    "        with torch.no_grad():\n",
    "            prediction = model(torch.from_numpy(X_val).to(device))\n",
    "            val_loss = loss_func(prediction, torch.from_numpy(Y_val).to(device)).numpy()\n",
    "        \n",
    "        finish = time.time()\n",
    "        train_time_seconds += finish - start\n",
    "\n",
    "        if verbose:\n",
    "            print('model_id:', model.model_id, 'epoch:', epoch, 'train_loss:', sum_loss.detach().numpy() / n, 'val_loss:', val_loss)\n",
    "\n",
    "        if val_loss < best_val_loss:\n",
    "            best_val_loss = val_loss\n",
    "            best_epoch = epoch\n",
    "            torch.save(model.state_dict(), model_state_dict_path)\n",
    "            i = 0\n",
    "        else:\n",
    "            i += 1\n",
    "            if i > n_early_stop:\n",
    "                break\n",
    "        \n",
    "    return {'best_epoch': best_epoch, 'best_val_loss': best_val_loss.item(), 'model_state_dict_path': model_state_dict_path, 'train_time_seconds': train_time_seconds}\n",
    "\n",
    "\n",
    "def features_target(data_frame):\n",
    "    return data_frame[data_frame.columns[3:]].to_numpy(), data_frame['NumCases'].to_numpy()"
   ]
  },
  {
   "cell_type": "markdown",
   "metadata": {
    "id": "RZSW0JeKjU77"
   },
   "source": [
    "## 1 Предсказания значений на следующий месяц по данным за предыдущий год"
   ]
  },
  {
   "cell_type": "code",
   "execution_count": 3,
   "metadata": {
    "colab": {
     "base_uri": "https://localhost:8080/",
     "height": 206
    },
    "id": "X4g-jNb29YNi",
    "outputId": "59ebb49e-3863-4eec-efc6-19fcfae03bbd"
   },
   "outputs": [
    {
     "data": {
      "text/html": [
       "<div>\n",
       "<style scoped>\n",
       "    .dataframe tbody tr th:only-of-type {\n",
       "        vertical-align: middle;\n",
       "    }\n",
       "\n",
       "    .dataframe tbody tr th {\n",
       "        vertical-align: top;\n",
       "    }\n",
       "\n",
       "    .dataframe thead th {\n",
       "        text-align: right;\n",
       "    }\n",
       "</style>\n",
       "<table border=\"1\" class=\"dataframe\">\n",
       "  <thead>\n",
       "    <tr style=\"text-align: right;\">\n",
       "      <th></th>\n",
       "      <th>Year</th>\n",
       "      <th>Month</th>\n",
       "      <th>NumCases</th>\n",
       "    </tr>\n",
       "  </thead>\n",
       "  <tbody>\n",
       "    <tr>\n",
       "      <th>0</th>\n",
       "      <td>1980.0</td>\n",
       "      <td>1.0</td>\n",
       "      <td>1825.0</td>\n",
       "    </tr>\n",
       "    <tr>\n",
       "      <th>1</th>\n",
       "      <td>1980.0</td>\n",
       "      <td>2.0</td>\n",
       "      <td>1730.0</td>\n",
       "    </tr>\n",
       "    <tr>\n",
       "      <th>2</th>\n",
       "      <td>1980.0</td>\n",
       "      <td>3.0</td>\n",
       "      <td>1743.0</td>\n",
       "    </tr>\n",
       "    <tr>\n",
       "      <th>3</th>\n",
       "      <td>1980.0</td>\n",
       "      <td>4.0</td>\n",
       "      <td>1760.0</td>\n",
       "    </tr>\n",
       "    <tr>\n",
       "      <th>4</th>\n",
       "      <td>1980.0</td>\n",
       "      <td>5.0</td>\n",
       "      <td>1863.0</td>\n",
       "    </tr>\n",
       "  </tbody>\n",
       "</table>\n",
       "</div>"
      ],
      "text/plain": [
       "     Year  Month  NumCases\n",
       "0  1980.0    1.0    1825.0\n",
       "1  1980.0    2.0    1730.0\n",
       "2  1980.0    3.0    1743.0\n",
       "3  1980.0    4.0    1760.0\n",
       "4  1980.0    5.0    1863.0"
      ]
     },
     "execution_count": 3,
     "metadata": {
      "tags": []
     },
     "output_type": "execute_result"
    }
   ],
   "source": [
    "time_series = pd.read_csv('time_series.csv').astype('float32')\n",
    "time_series.head()"
   ]
  },
  {
   "cell_type": "code",
   "execution_count": 4,
   "metadata": {
    "id": "yJSdcU8q9ciA"
   },
   "outputs": [],
   "source": [
    "for i in range(1, 13, 1):\n",
    "    time_series[f'NumCases_{i}'] = time_series['NumCases'].shift(i)"
   ]
  },
  {
   "cell_type": "code",
   "execution_count": 5,
   "metadata": {
    "colab": {
     "base_uri": "https://localhost:8080/",
     "height": 206
    },
    "id": "TFG4tGCh9fEx",
    "outputId": "248cc018-e948-49c9-a646-85d0eb175b36"
   },
   "outputs": [
    {
     "data": {
      "text/html": [
       "<div>\n",
       "<style scoped>\n",
       "    .dataframe tbody tr th:only-of-type {\n",
       "        vertical-align: middle;\n",
       "    }\n",
       "\n",
       "    .dataframe tbody tr th {\n",
       "        vertical-align: top;\n",
       "    }\n",
       "\n",
       "    .dataframe thead th {\n",
       "        text-align: right;\n",
       "    }\n",
       "</style>\n",
       "<table border=\"1\" class=\"dataframe\">\n",
       "  <thead>\n",
       "    <tr style=\"text-align: right;\">\n",
       "      <th></th>\n",
       "      <th>Year</th>\n",
       "      <th>Month</th>\n",
       "      <th>NumCases</th>\n",
       "      <th>NumCases_1</th>\n",
       "      <th>NumCases_2</th>\n",
       "      <th>NumCases_3</th>\n",
       "      <th>NumCases_4</th>\n",
       "      <th>NumCases_5</th>\n",
       "      <th>NumCases_6</th>\n",
       "      <th>NumCases_7</th>\n",
       "      <th>NumCases_8</th>\n",
       "      <th>NumCases_9</th>\n",
       "      <th>NumCases_10</th>\n",
       "      <th>NumCases_11</th>\n",
       "      <th>NumCases_12</th>\n",
       "    </tr>\n",
       "  </thead>\n",
       "  <tbody>\n",
       "    <tr>\n",
       "      <th>12</th>\n",
       "      <td>1981.0</td>\n",
       "      <td>1.0</td>\n",
       "      <td>1987.0</td>\n",
       "      <td>1965.0</td>\n",
       "      <td>1861.0</td>\n",
       "      <td>1935.0</td>\n",
       "      <td>1869.0</td>\n",
       "      <td>2371.0</td>\n",
       "      <td>2179.0</td>\n",
       "      <td>1991.0</td>\n",
       "      <td>1863.0</td>\n",
       "      <td>1760.0</td>\n",
       "      <td>1743.0</td>\n",
       "      <td>1730.0</td>\n",
       "      <td>1825.0</td>\n",
       "    </tr>\n",
       "    <tr>\n",
       "      <th>13</th>\n",
       "      <td>1981.0</td>\n",
       "      <td>2.0</td>\n",
       "      <td>1777.0</td>\n",
       "      <td>1987.0</td>\n",
       "      <td>1965.0</td>\n",
       "      <td>1861.0</td>\n",
       "      <td>1935.0</td>\n",
       "      <td>1869.0</td>\n",
       "      <td>2371.0</td>\n",
       "      <td>2179.0</td>\n",
       "      <td>1991.0</td>\n",
       "      <td>1863.0</td>\n",
       "      <td>1760.0</td>\n",
       "      <td>1743.0</td>\n",
       "      <td>1730.0</td>\n",
       "    </tr>\n",
       "    <tr>\n",
       "      <th>14</th>\n",
       "      <td>1981.0</td>\n",
       "      <td>3.0</td>\n",
       "      <td>1910.0</td>\n",
       "      <td>1777.0</td>\n",
       "      <td>1987.0</td>\n",
       "      <td>1965.0</td>\n",
       "      <td>1861.0</td>\n",
       "      <td>1935.0</td>\n",
       "      <td>1869.0</td>\n",
       "      <td>2371.0</td>\n",
       "      <td>2179.0</td>\n",
       "      <td>1991.0</td>\n",
       "      <td>1863.0</td>\n",
       "      <td>1760.0</td>\n",
       "      <td>1743.0</td>\n",
       "    </tr>\n",
       "    <tr>\n",
       "      <th>15</th>\n",
       "      <td>1981.0</td>\n",
       "      <td>4.0</td>\n",
       "      <td>1771.0</td>\n",
       "      <td>1910.0</td>\n",
       "      <td>1777.0</td>\n",
       "      <td>1987.0</td>\n",
       "      <td>1965.0</td>\n",
       "      <td>1861.0</td>\n",
       "      <td>1935.0</td>\n",
       "      <td>1869.0</td>\n",
       "      <td>2371.0</td>\n",
       "      <td>2179.0</td>\n",
       "      <td>1991.0</td>\n",
       "      <td>1863.0</td>\n",
       "      <td>1760.0</td>\n",
       "    </tr>\n",
       "    <tr>\n",
       "      <th>16</th>\n",
       "      <td>1981.0</td>\n",
       "      <td>5.0</td>\n",
       "      <td>1860.0</td>\n",
       "      <td>1771.0</td>\n",
       "      <td>1910.0</td>\n",
       "      <td>1777.0</td>\n",
       "      <td>1987.0</td>\n",
       "      <td>1965.0</td>\n",
       "      <td>1861.0</td>\n",
       "      <td>1935.0</td>\n",
       "      <td>1869.0</td>\n",
       "      <td>2371.0</td>\n",
       "      <td>2179.0</td>\n",
       "      <td>1991.0</td>\n",
       "      <td>1863.0</td>\n",
       "    </tr>\n",
       "  </tbody>\n",
       "</table>\n",
       "</div>"
      ],
      "text/plain": [
       "      Year  Month  NumCases  ...  NumCases_10  NumCases_11  NumCases_12\n",
       "12  1981.0    1.0    1987.0  ...       1743.0       1730.0       1825.0\n",
       "13  1981.0    2.0    1777.0  ...       1760.0       1743.0       1730.0\n",
       "14  1981.0    3.0    1910.0  ...       1863.0       1760.0       1743.0\n",
       "15  1981.0    4.0    1771.0  ...       1991.0       1863.0       1760.0\n",
       "16  1981.0    5.0    1860.0  ...       2179.0       1991.0       1863.0\n",
       "\n",
       "[5 rows x 15 columns]"
      ]
     },
     "execution_count": 5,
     "metadata": {
      "tags": []
     },
     "output_type": "execute_result"
    }
   ],
   "source": [
    "time_series = time_series[12:]\n",
    "time_series.head()"
   ]
  },
  {
   "cell_type": "code",
   "execution_count": 6,
   "metadata": {
    "colab": {
     "base_uri": "https://localhost:8080/"
    },
    "id": "Jjg-Gz0v9lxR",
    "outputId": "f8c92bb4-3d9a-49a7-a276-912088b742da"
   },
   "outputs": [
    {
     "data": {
      "text/plain": [
       "((288, 15), (60, 15), (60, 15))"
      ]
     },
     "execution_count": 6,
     "metadata": {
      "tags": []
     },
     "output_type": "execute_result"
    }
   ],
   "source": [
    "test = time_series[-60:]\n",
    "train = time_series[:-60]\n",
    "val = train[-60:]\n",
    "train = train[:-60]\n",
    "\n",
    "train.shape, val.shape, test.shape"
   ]
  },
  {
   "cell_type": "code",
   "execution_count": 7,
   "metadata": {
    "id": "MXbPSBMJIxMq"
   },
   "outputs": [],
   "source": [
    "X_train, Y_train = features_target(train)\n",
    "X_val, Y_val = features_target(val)\n",
    "X_test, Y_test = features_target(test)"
   ]
  },
  {
   "cell_type": "code",
   "execution_count": 8,
   "metadata": {
    "id": "iDgCU7zoI0Ui"
   },
   "outputs": [],
   "source": [
    "scaler_x = sklearn.preprocessing.StandardScaler()\n",
    "scaler_y = sklearn.preprocessing.StandardScaler()\n",
    "\n",
    "X_train = scaler_x.fit_transform(X_train)\n",
    "Y_train = scaler_y.fit_transform(Y_train.reshape(-1, 1))\n",
    "\n",
    "X_val = scaler_x.transform(X_val)\n",
    "Y_val = scaler_y.transform(Y_val.reshape(-1, 1))\n",
    "\n",
    "X_test = scaler_x.transform(X_test)"
   ]
  },
  {
   "cell_type": "code",
   "execution_count": 9,
   "metadata": {
    "id": "9Vg13l4jJCQf"
   },
   "outputs": [],
   "source": [
    "device = torch.device('cuda' if torch.cuda.is_available() else 'cpu')\n",
    "N_EPOCHS = 10000\n",
    "N_EARLY_STOP = 1000"
   ]
  },
  {
   "cell_type": "markdown",
   "metadata": {
    "id": "ZrLbOQmajo2j"
   },
   "source": [
    "### 1.1 Двухслойные модели"
   ]
  },
  {
   "cell_type": "code",
   "execution_count": 10,
   "metadata": {
    "colab": {
     "base_uri": "https://localhost:8080/"
    },
    "id": "gNgvY5UCJHnD",
    "outputId": "6cbf8731-0eec-4c49-939e-6596f5282eb2"
   },
   "outputs": [
    {
     "data": {
      "text/plain": [
       "Sequential(\n",
       "  (linear0): Linear(in_features=12, out_features=12, bias=True)\n",
       "  (relu0): ReLU(inplace=True)\n",
       "  (linear_out): Linear(in_features=12, out_features=1, bias=True)\n",
       ")"
      ]
     },
     "execution_count": 10,
     "metadata": {
      "tags": []
     },
     "output_type": "execute_result"
    }
   ],
   "source": [
    "fcnn_2_layers_no_batchnorm_no_dropout = build_fcnn('fcnn_2_layers_no_batchnorm_no_dropout', n_tier=1, n_features=12)\n",
    "fcnn_2_layers_no_batchnorm_no_dropout"
   ]
  },
  {
   "cell_type": "code",
   "execution_count": 11,
   "metadata": {
    "colab": {
     "base_uri": "https://localhost:8080/",
     "height": 118,
     "referenced_widgets": [
      "65af1c9982c7493d94319221f104bc84",
      "e623d1ff487948f2af661b7ec30de261",
      "21dfc9f444f54afea1c745fee8cb3f27",
      "4f64f38c700a48819277a32bab4ab276",
      "9a7738fba6534fa2975fd4f5821c246f",
      "94f4daff15fb4d229508c91f646701ba",
      "0b78818fae004cdabe40660411e18cb0",
      "3052b85a92874c3fab5e443889a49152"
     ]
    },
    "id": "ybMoJVKjJ9wf",
    "outputId": "b416484e-528e-4ef7-f039-1ee472ce6a63"
   },
   "outputs": [
    {
     "data": {
      "application/vnd.jupyter.widget-view+json": {
       "model_id": "65af1c9982c7493d94319221f104bc84",
       "version_major": 2,
       "version_minor": 0
      },
      "text/plain": [
       "HBox(children=(FloatProgress(value=0.0, max=10000.0), HTML(value='')))"
      ]
     },
     "metadata": {
      "tags": []
     },
     "output_type": "display_data"
    },
    {
     "data": {
      "text/plain": [
       "{'best_epoch': 2092,\n",
       " 'best_val_loss': 0.10251366347074509,\n",
       " 'model_state_dict_path': 'fcnn_2_layers_no_batchnorm_no_dropout.pth',\n",
       " 'train_time_seconds': 32.41977906227112}"
      ]
     },
     "execution_count": 11,
     "metadata": {
      "tags": []
     },
     "output_type": "execute_result"
    }
   ],
   "source": [
    "train_model(fcnn_2_layers_no_batchnorm_no_dropout, N_EPOCHS, N_EARLY_STOP, X_train, Y_train, X_val, Y_val, device)"
   ]
  },
  {
   "cell_type": "code",
   "execution_count": 12,
   "metadata": {
    "colab": {
     "base_uri": "https://localhost:8080/"
    },
    "id": "biQVSveZQaJC",
    "outputId": "0240f24d-c3a7-41be-9451-c8047e116e9a"
   },
   "outputs": [
    {
     "data": {
      "text/plain": [
       "Sequential(\n",
       "  (linear0): Linear(in_features=12, out_features=12, bias=True)\n",
       "  (batchnorm0): BatchNorm1d(12, eps=1e-05, momentum=0.1, affine=True, track_running_stats=True)\n",
       "  (relu0): ReLU(inplace=True)\n",
       "  (linear_out): Linear(in_features=12, out_features=1, bias=True)\n",
       ")"
      ]
     },
     "execution_count": 12,
     "metadata": {
      "tags": []
     },
     "output_type": "execute_result"
    }
   ],
   "source": [
    "fcnn_2_layers_batchnorm_no_dropout = build_fcnn('fcnn_2_layers_batchnorm_no_dropout', n_tier=1, n_features=12, use_batchnorm=True)\n",
    "fcnn_2_layers_batchnorm_no_dropout"
   ]
  },
  {
   "cell_type": "code",
   "execution_count": 13,
   "metadata": {
    "colab": {
     "base_uri": "https://localhost:8080/",
     "height": 118,
     "referenced_widgets": [
      "a219bd3387184fdeb91635073f309884",
      "71d30786819040e0bb19d2738d8d2762",
      "d3d195a44c5d4d62ab965175825d60ec",
      "808202c908524f508ab3487bdce260ba",
      "3175d7cc7d1d4f1283caf328ea6cb530",
      "de65b950c52e46c7b56ca337366d24a5",
      "b9802ed0e8df4693aadcae2270102916",
      "3184ea71c14240c789efb27ab821a047"
     ]
    },
    "id": "9iBmzVqTQgda",
    "outputId": "d6b69262-38b6-4489-bfa8-1b97db325436"
   },
   "outputs": [
    {
     "data": {
      "application/vnd.jupyter.widget-view+json": {
       "model_id": "a219bd3387184fdeb91635073f309884",
       "version_major": 2,
       "version_minor": 0
      },
      "text/plain": [
       "HBox(children=(FloatProgress(value=0.0, max=10000.0), HTML(value='')))"
      ]
     },
     "metadata": {
      "tags": []
     },
     "output_type": "display_data"
    },
    {
     "data": {
      "text/plain": [
       "{'best_epoch': 72,\n",
       " 'best_val_loss': 0.15864112973213196,\n",
       " 'model_state_dict_path': 'fcnn_2_layers_batchnorm_no_dropout.pth',\n",
       " 'train_time_seconds': 16.75825786590576}"
      ]
     },
     "execution_count": 13,
     "metadata": {
      "tags": []
     },
     "output_type": "execute_result"
    }
   ],
   "source": [
    "train_model(fcnn_2_layers_batchnorm_no_dropout, N_EPOCHS, N_EARLY_STOP, X_train, Y_train, X_val, Y_val, device)"
   ]
  },
  {
   "cell_type": "code",
   "execution_count": 14,
   "metadata": {
    "colab": {
     "base_uri": "https://localhost:8080/"
    },
    "id": "KqR4LPkNQx-H",
    "outputId": "185f467c-133c-409a-dd80-14c4e9bb2624"
   },
   "outputs": [
    {
     "data": {
      "text/plain": [
       "Sequential(\n",
       "  (linear0): Linear(in_features=12, out_features=12, bias=True)\n",
       "  (relu0): ReLU(inplace=True)\n",
       "  (dropout0): Dropout(p=0.5, inplace=False)\n",
       "  (linear_out): Linear(in_features=12, out_features=1, bias=True)\n",
       ")"
      ]
     },
     "execution_count": 14,
     "metadata": {
      "tags": []
     },
     "output_type": "execute_result"
    }
   ],
   "source": [
    "fcnn_2_layers_no_batchnorm_dropout = build_fcnn('fcnn_2_layers_no_batchnorm_dropout', n_tier=1, n_features=12, use_batchnorm=False, p_dropout=0.5)\n",
    "fcnn_2_layers_no_batchnorm_dropout"
   ]
  },
  {
   "cell_type": "code",
   "execution_count": 15,
   "metadata": {
    "colab": {
     "base_uri": "https://localhost:8080/",
     "height": 118,
     "referenced_widgets": [
      "2df9441074e747c187d5d7dcf7ffb851",
      "780ae207accb4286b83cc054e36245ab",
      "d9e3524142f7461088e4464b4b0251f7",
      "4c3bbd12e16147279e290e50d532fc0f",
      "7e423cb2f57f4880840d27571a4227a1",
      "eee9c2ef10794e06a916552a7a536c66",
      "c96e155b63414f879485f953b54c5977",
      "b498d509b8c14a9d86f53428e53386ea"
     ]
    },
    "id": "IZWe6RxFRAWr",
    "outputId": "fc837609-c000-4580-8771-0c54e9d574b9"
   },
   "outputs": [
    {
     "data": {
      "application/vnd.jupyter.widget-view+json": {
       "model_id": "2df9441074e747c187d5d7dcf7ffb851",
       "version_major": 2,
       "version_minor": 0
      },
      "text/plain": [
       "HBox(children=(FloatProgress(value=0.0, max=10000.0), HTML(value='')))"
      ]
     },
     "metadata": {
      "tags": []
     },
     "output_type": "display_data"
    },
    {
     "data": {
      "text/plain": [
       "{'best_epoch': 1519,\n",
       " 'best_val_loss': 0.1179535835981369,\n",
       " 'model_state_dict_path': 'fcnn_2_layers_no_batchnorm_dropout.pth',\n",
       " 'train_time_seconds': 28.60511803627014}"
      ]
     },
     "execution_count": 15,
     "metadata": {
      "tags": []
     },
     "output_type": "execute_result"
    }
   ],
   "source": [
    "train_model(fcnn_2_layers_no_batchnorm_dropout, N_EPOCHS, N_EARLY_STOP, X_train, Y_train, X_val, Y_val, device)"
   ]
  },
  {
   "cell_type": "code",
   "execution_count": 16,
   "metadata": {
    "colab": {
     "base_uri": "https://localhost:8080/"
    },
    "id": "B295tkMoRTih",
    "outputId": "d73bb9d7-b98b-47a4-c6d5-a6f03a139353"
   },
   "outputs": [
    {
     "data": {
      "text/plain": [
       "Sequential(\n",
       "  (linear0): Linear(in_features=12, out_features=12, bias=True)\n",
       "  (batchnorm0): BatchNorm1d(12, eps=1e-05, momentum=0.1, affine=True, track_running_stats=True)\n",
       "  (relu0): ReLU(inplace=True)\n",
       "  (dropout0): Dropout(p=0.5, inplace=False)\n",
       "  (linear_out): Linear(in_features=12, out_features=1, bias=True)\n",
       ")"
      ]
     },
     "execution_count": 16,
     "metadata": {
      "tags": []
     },
     "output_type": "execute_result"
    }
   ],
   "source": [
    "fcnn_2_layers_batchnorm_dropout = build_fcnn('fcnn_2_layers_batchnorm_dropout', n_tier=1, n_features=12, use_batchnorm=True, p_dropout=0.5)\n",
    "fcnn_2_layers_batchnorm_dropout"
   ]
  },
  {
   "cell_type": "code",
   "execution_count": 17,
   "metadata": {
    "colab": {
     "base_uri": "https://localhost:8080/",
     "height": 118,
     "referenced_widgets": [
      "48d2ac301ab341ad94d154237804ba0d",
      "af5ba12400524ea18e4c20cc28654c45",
      "ab16401f58724c39b8fc016b0d07ce4e",
      "84288c4297fb4fac9ef0fd6965d79f7d",
      "9f73691a8ff144eebeb4707a234de857",
      "2497851514d14bab8d013280019592a6",
      "bf390e6321ee467c97f6c83501fc08eb",
      "b9408c5551f145569c02ad972693d3e5"
     ]
    },
    "id": "G3KPr_1KRXse",
    "outputId": "74bbb85e-f2cb-428b-82fa-0bc4afaecd25"
   },
   "outputs": [
    {
     "data": {
      "application/vnd.jupyter.widget-view+json": {
       "model_id": "48d2ac301ab341ad94d154237804ba0d",
       "version_major": 2,
       "version_minor": 0
      },
      "text/plain": [
       "HBox(children=(FloatProgress(value=0.0, max=10000.0), HTML(value='')))"
      ]
     },
     "metadata": {
      "tags": []
     },
     "output_type": "display_data"
    },
    {
     "data": {
      "text/plain": [
       "{'best_epoch': 41,\n",
       " 'best_val_loss': 0.19744552671909332,\n",
       " 'model_state_dict_path': 'fcnn_2_layers_batchnorm_dropout.pth',\n",
       " 'train_time_seconds': 17.340676069259644}"
      ]
     },
     "execution_count": 17,
     "metadata": {
      "tags": []
     },
     "output_type": "execute_result"
    }
   ],
   "source": [
    "train_model(fcnn_2_layers_batchnorm_dropout, N_EPOCHS, N_EARLY_STOP, X_train, Y_train, X_val, Y_val, device)"
   ]
  },
  {
   "cell_type": "markdown",
   "metadata": {
    "id": "qa6w9F9fjysF"
   },
   "source": [
    "### 1.2 Трёхслойные модели"
   ]
  },
  {
   "cell_type": "code",
   "execution_count": 18,
   "metadata": {
    "colab": {
     "base_uri": "https://localhost:8080/",
     "height": 240,
     "referenced_widgets": [
      "7270f06ffd114ad6a2a727866056bca9",
      "177406bfa0314846a3b9195b4426936e",
      "b5fa1c29e8b54d139cf72df93932400e",
      "6be5a8b9d10a4918a13c5db8f8e51b8e",
      "e733931d03d14f87ba895440e4147aec",
      "30eb130909be45818d41908dc1e9ac13",
      "b164ddc950ec43b1bbc5c22ac674d051",
      "d09641ef886e4e9cbb3f3af7847346de"
     ]
    },
    "id": "8YGhzoCeR1w8",
    "outputId": "5013c16a-37a1-433c-c479-96da82c254d9"
   },
   "outputs": [
    {
     "name": "stdout",
     "output_type": "stream",
     "text": [
      "Sequential(\n",
      "  (linear0): Linear(in_features=12, out_features=12, bias=True)\n",
      "  (relu0): ReLU(inplace=True)\n",
      "  (linear1): Linear(in_features=12, out_features=12, bias=True)\n",
      "  (relu1): ReLU(inplace=True)\n",
      "  (linear_out): Linear(in_features=12, out_features=1, bias=True)\n",
      ")\n"
     ]
    },
    {
     "data": {
      "application/vnd.jupyter.widget-view+json": {
       "model_id": "7270f06ffd114ad6a2a727866056bca9",
       "version_major": 2,
       "version_minor": 0
      },
      "text/plain": [
       "HBox(children=(FloatProgress(value=0.0, max=10000.0), HTML(value='')))"
      ]
     },
     "metadata": {
      "tags": []
     },
     "output_type": "display_data"
    },
    {
     "data": {
      "text/plain": [
       "{'best_epoch': 1642,\n",
       " 'best_val_loss': 0.11353575438261032,\n",
       " 'model_state_dict_path': 'fcnn_3_layers_no_batchnorm_no_dropout.pth',\n",
       " 'train_time_seconds': 37.069236755371094}"
      ]
     },
     "execution_count": 18,
     "metadata": {
      "tags": []
     },
     "output_type": "execute_result"
    }
   ],
   "source": [
    "fcnn_3_layers_no_batchnorm_no_dropout = build_fcnn('fcnn_3_layers_no_batchnorm_no_dropout', n_tier=2, n_features=12)\n",
    "print(fcnn_3_layers_no_batchnorm_no_dropout)\n",
    "train_model(fcnn_3_layers_no_batchnorm_no_dropout, N_EPOCHS, N_EARLY_STOP, X_train, Y_train, X_val, Y_val, device)"
   ]
  },
  {
   "cell_type": "code",
   "execution_count": 19,
   "metadata": {
    "colab": {
     "base_uri": "https://localhost:8080/",
     "height": 275,
     "referenced_widgets": [
      "12134056053f4ccfb39909e37d3d032b",
      "0d006d1e0bac49068df2128043442847",
      "12258d97e3ef4de19c2945b84f6bab2f",
      "ee4ace3468d34608bcb98680a4930423",
      "fe93b7b0f2dc4cbe991e4611854646c1",
      "659ec1d734414595b435941002427dbc",
      "7be35c2c6c7a41a8889f5d84f1f1481f",
      "528ae25ef0934108a6af114f94d172fc"
     ]
    },
    "id": "2iklPbwBSKVa",
    "outputId": "f220d9d7-8e7c-4266-82aa-e80a0d432884"
   },
   "outputs": [
    {
     "name": "stdout",
     "output_type": "stream",
     "text": [
      "Sequential(\n",
      "  (linear0): Linear(in_features=12, out_features=12, bias=True)\n",
      "  (batchnorm0): BatchNorm1d(12, eps=1e-05, momentum=0.1, affine=True, track_running_stats=True)\n",
      "  (relu0): ReLU(inplace=True)\n",
      "  (linear1): Linear(in_features=12, out_features=12, bias=True)\n",
      "  (batchnorm1): BatchNorm1d(12, eps=1e-05, momentum=0.1, affine=True, track_running_stats=True)\n",
      "  (relu1): ReLU(inplace=True)\n",
      "  (linear_out): Linear(in_features=12, out_features=1, bias=True)\n",
      ")\n"
     ]
    },
    {
     "data": {
      "application/vnd.jupyter.widget-view+json": {
       "model_id": "12134056053f4ccfb39909e37d3d032b",
       "version_major": 2,
       "version_minor": 0
      },
      "text/plain": [
       "HBox(children=(FloatProgress(value=0.0, max=10000.0), HTML(value='')))"
      ]
     },
     "metadata": {
      "tags": []
     },
     "output_type": "display_data"
    },
    {
     "data": {
      "text/plain": [
       "{'best_epoch': 818,\n",
       " 'best_val_loss': 0.23208311200141907,\n",
       " 'model_state_dict_path': 'fcnn_3_layers_batchnorm_no_dropout.pth',\n",
       " 'train_time_seconds': 44.965867042541504}"
      ]
     },
     "execution_count": 19,
     "metadata": {
      "tags": []
     },
     "output_type": "execute_result"
    }
   ],
   "source": [
    "fcnn_3_layers_batchnorm_no_dropout = build_fcnn('fcnn_3_layers_batchnorm_no_dropout', n_tier=2, n_features=12, use_batchnorm=True)\n",
    "print(fcnn_3_layers_batchnorm_no_dropout)\n",
    "train_model(fcnn_3_layers_batchnorm_no_dropout, N_EPOCHS, N_EARLY_STOP, X_train, Y_train, X_val, Y_val, device)"
   ]
  },
  {
   "cell_type": "code",
   "execution_count": 20,
   "metadata": {
    "colab": {
     "base_uri": "https://localhost:8080/",
     "height": 275,
     "referenced_widgets": [
      "38c94e66dd9943c6b84272c3fa70449c",
      "77cc79cf02fd4f6db4f12c1ab97c8e4b",
      "730bf64ed08c442a93485889304603a0",
      "f175f4c52ec54614b9df21e4987ae1aa",
      "eb53a3c05f254b2cbc4e771327850c61",
      "85fd14f9c5314c5c832950485fb1190e",
      "b730c8c819204d0b8e5f71e33e1ea1bf",
      "c38a8c67073a46dfb3278eeec98ecee2"
     ]
    },
    "id": "bMfUtr8KSbCP",
    "outputId": "beabdb9b-fd03-493a-8f55-8431c13624a2"
   },
   "outputs": [
    {
     "name": "stdout",
     "output_type": "stream",
     "text": [
      "Sequential(\n",
      "  (linear0): Linear(in_features=12, out_features=12, bias=True)\n",
      "  (relu0): ReLU(inplace=True)\n",
      "  (dropout0): Dropout(p=0.5, inplace=False)\n",
      "  (linear1): Linear(in_features=12, out_features=12, bias=True)\n",
      "  (relu1): ReLU(inplace=True)\n",
      "  (dropout1): Dropout(p=0.5, inplace=False)\n",
      "  (linear_out): Linear(in_features=12, out_features=1, bias=True)\n",
      ")\n"
     ]
    },
    {
     "data": {
      "application/vnd.jupyter.widget-view+json": {
       "model_id": "38c94e66dd9943c6b84272c3fa70449c",
       "version_major": 2,
       "version_minor": 0
      },
      "text/plain": [
       "HBox(children=(FloatProgress(value=0.0, max=10000.0), HTML(value='')))"
      ]
     },
     "metadata": {
      "tags": []
     },
     "output_type": "display_data"
    },
    {
     "data": {
      "text/plain": [
       "{'best_epoch': 2559,\n",
       " 'best_val_loss': 0.1610182374715805,\n",
       " 'model_state_dict_path': 'fcnn_3_layers_no_batchnorm_dropout.pth',\n",
       " 'train_time_seconds': 57.41144847869873}"
      ]
     },
     "execution_count": 20,
     "metadata": {
      "tags": []
     },
     "output_type": "execute_result"
    }
   ],
   "source": [
    "fcnn_3_layers_no_batchnorm_dropout = build_fcnn('fcnn_3_layers_no_batchnorm_dropout', n_tier=2, n_features=12, use_batchnorm=False, p_dropout=0.5)\n",
    "print(fcnn_3_layers_no_batchnorm_dropout)\n",
    "train_model(fcnn_3_layers_no_batchnorm_dropout, N_EPOCHS, N_EARLY_STOP, X_train, Y_train, X_val, Y_val, device)"
   ]
  },
  {
   "cell_type": "code",
   "execution_count": 21,
   "metadata": {
    "colab": {
     "base_uri": "https://localhost:8080/",
     "height": 310,
     "referenced_widgets": [
      "67dbf9d066444f779c5379b86b76194c",
      "7b9844ab2de44b06b83dcb10a38ce442",
      "a3fbab14459f45068e21d4ee0d93eec9",
      "c3c970ebb6be407b9f4c5e98ced90d8c",
      "b7d2150ee5044137a4fa7c7debcb0ac6",
      "433f3391aa2e4d8db0c973d9f8ca66a1",
      "1cf38ff8e9cb4e949b35aa548747219b",
      "4dbb430abed640799ce6ea7d109eaa91"
     ]
    },
    "id": "nMWDa7EESndZ",
    "outputId": "b5eaad60-435d-4a41-a01b-05c767afc84e"
   },
   "outputs": [
    {
     "name": "stdout",
     "output_type": "stream",
     "text": [
      "Sequential(\n",
      "  (linear0): Linear(in_features=12, out_features=12, bias=True)\n",
      "  (batchnorm0): BatchNorm1d(12, eps=1e-05, momentum=0.1, affine=True, track_running_stats=True)\n",
      "  (relu0): ReLU(inplace=True)\n",
      "  (dropout0): Dropout(p=0.5, inplace=False)\n",
      "  (linear1): Linear(in_features=12, out_features=12, bias=True)\n",
      "  (batchnorm1): BatchNorm1d(12, eps=1e-05, momentum=0.1, affine=True, track_running_stats=True)\n",
      "  (relu1): ReLU(inplace=True)\n",
      "  (dropout1): Dropout(p=0.5, inplace=False)\n",
      "  (linear_out): Linear(in_features=12, out_features=1, bias=True)\n",
      ")\n"
     ]
    },
    {
     "data": {
      "application/vnd.jupyter.widget-view+json": {
       "model_id": "67dbf9d066444f779c5379b86b76194c",
       "version_major": 2,
       "version_minor": 0
      },
      "text/plain": [
       "HBox(children=(FloatProgress(value=0.0, max=10000.0), HTML(value='')))"
      ]
     },
     "metadata": {
      "tags": []
     },
     "output_type": "display_data"
    },
    {
     "data": {
      "text/plain": [
       "{'best_epoch': 7649,\n",
       " 'best_val_loss': 0.2764314115047455,\n",
       " 'model_state_dict_path': 'fcnn_3_layers_batchnorm_dropout.pth',\n",
       " 'train_time_seconds': 228.35610580444336}"
      ]
     },
     "execution_count": 21,
     "metadata": {
      "tags": []
     },
     "output_type": "execute_result"
    }
   ],
   "source": [
    "fcnn_3_layers_batchnorm_dropout = build_fcnn('fcnn_3_layers_batchnorm_dropout', n_tier=2, n_features=12, use_batchnorm=True, p_dropout=0.5)\n",
    "print(fcnn_3_layers_batchnorm_dropout)\n",
    "train_model(fcnn_3_layers_batchnorm_dropout, N_EPOCHS, N_EARLY_STOP, X_train, Y_train, X_val, Y_val, device)"
   ]
  },
  {
   "cell_type": "markdown",
   "metadata": {
    "id": "hArlu-SvUDwk"
   },
   "source": [
    "### 1.3 Лучшая модель на данных за предыдущий года"
   ]
  },
  {
   "cell_type": "code",
   "execution_count": 22,
   "metadata": {
    "colab": {
     "base_uri": "https://localhost:8080/"
    },
    "id": "0ims0NjoT0Hd",
    "outputId": "169bbe1d-eba7-482b-d3ef-6aaf0f43079a"
   },
   "outputs": [
    {
     "data": {
      "text/plain": [
       "Sequential(\n",
       "  (linear0): Linear(in_features=12, out_features=12, bias=True)\n",
       "  (relu0): ReLU(inplace=True)\n",
       "  (linear_out): Linear(in_features=12, out_features=1, bias=True)\n",
       ")"
      ]
     },
     "execution_count": 22,
     "metadata": {
      "tags": []
     },
     "output_type": "execute_result"
    }
   ],
   "source": [
    "best_model_12months = build_fcnn('fcnn_2_layers_no_batchnorm_no_dropout', n_tier=1, n_features=12).to(device)\n",
    "best_model_12months.load_state_dict(torch.load('fcnn_2_layers_no_batchnorm_no_dropout.pth'))\n",
    "best_model_12months.eval()"
   ]
  },
  {
   "cell_type": "code",
   "execution_count": 23,
   "metadata": {
    "id": "_BDZB3SXUdMK"
   },
   "outputs": [],
   "source": [
    "with torch.no_grad():\n",
    "    Y_predict_scaled = best_model_12months(torch.from_numpy(X_test).to(device)).numpy()\n",
    "\n",
    "Y_predict = scaler_y.inverse_transform(Y_predict_scaled).squeeze()"
   ]
  },
  {
   "cell_type": "code",
   "execution_count": 24,
   "metadata": {
    "colab": {
     "base_uri": "https://localhost:8080/"
    },
    "id": "GmTuxQASUx1w",
    "outputId": "745745cc-2be0-4943-bb03-2ddc9ac95e7b"
   },
   "outputs": [
    {
     "name": "stdout",
     "output_type": "stream",
     "text": [
      "RMSE: 70.164116\n"
     ]
    }
   ],
   "source": [
    "print('RMSE:', sklearn.metrics.mean_squared_error(Y_test, Y_predict, squared=False))"
   ]
  },
  {
   "cell_type": "code",
   "execution_count": 25,
   "metadata": {
    "id": "NntkKEL8WY7I"
   },
   "outputs": [],
   "source": [
    "prediction = [np.nan] * time_series.shape[0]\n",
    "prediction[-60:] = Y_predict\n",
    "time_series['NumCases_predict'] = prediction\n",
    "time_series['Date'] = time_series['Year'] + (time_series['Month'] - 1) / 12"
   ]
  },
  {
   "cell_type": "code",
   "execution_count": 26,
   "metadata": {
    "colab": {
     "base_uri": "https://localhost:8080/",
     "height": 607
    },
    "id": "PWKOkpY4WjKH",
    "outputId": "66497fd3-6265-4cdd-80fa-5756f45f1a63"
   },
   "outputs": [
    {
     "data": {
      "image/png": "[encoded data removed]",
      "text/plain": [
       "<Figure size 1440x720 with 1 Axes>"
      ]
     },
     "metadata": {
      "needs_background": "light",
      "tags": []
     },
     "output_type": "display_data"
    }
   ],
   "source": [
    "plt.figure(figsize=(20,10)) \n",
    "plt.plot(time_series['Date'], time_series['NumCases'], color='b', alpha=0.7, label=\"True\")\n",
    "plt.plot(time_series['Date'][-60:], time_series['NumCases_predict'][-60:], color='r', alpha=0.7, label=\"FCNN (2 слоя без дроп-аута и батч-нормализации)\")\n",
    "plt.title('Лучшая модель на данных за предыдущий года')\n",
    "plt.grid()\n",
    "plt.legend()\n",
    "plt.show()"
   ]
  },
  {
   "cell_type": "markdown",
   "metadata": {
    "id": "Kc0C5blHkM6k"
   },
   "source": [
    "**RMSE: 70.164116**\n",
    "#### Быстродействие"
   ]
  },
  {
   "cell_type": "code",
   "execution_count": 27,
   "metadata": {
    "colab": {
     "base_uri": "https://localhost:8080/"
    },
    "id": "h-ItI84oVDLv",
    "outputId": "22a36da7-b475-4352-f7d6-4e6a1e404e21"
   },
   "outputs": [
    {
     "name": "stdout",
     "output_type": "stream",
     "text": [
      "Mean predict time: 0.0002506017684936523 Std: 0.0011668463123703581\n"
     ]
    }
   ],
   "source": [
    "spans = []\n",
    "with torch.no_grad():\n",
    "    for i in range(101):\n",
    "        start = time.time()\n",
    "        best_model_12months(torch.from_numpy(X_test).to(device)).numpy()\n",
    "        finish = time.time()\n",
    "        spans.append(finish - start)\n",
    "\n",
    "spans = np.asarray(spans[1:])\n",
    "print('Mean predict time:', spans.mean(), 'Std:', spans.std(ddof=1))"
   ]
  },
  {
   "cell_type": "markdown",
   "metadata": {
    "id": "08qC0QJTVeyy"
   },
   "source": [
    "## 2 Предсказания значений на следующий месяц по данным за 2 предыдущих года"
   ]
  },
  {
   "cell_type": "code",
   "execution_count": 28,
   "metadata": {
    "colab": {
     "base_uri": "https://localhost:8080/",
     "height": 206
    },
    "id": "TO9IFMD8VZYH",
    "outputId": "449bfece-3234-49be-b0ca-7d4c576c101c"
   },
   "outputs": [
    {
     "data": {
      "text/html": [
       "<div>\n",
       "<style scoped>\n",
       "    .dataframe tbody tr th:only-of-type {\n",
       "        vertical-align: middle;\n",
       "    }\n",
       "\n",
       "    .dataframe tbody tr th {\n",
       "        vertical-align: top;\n",
       "    }\n",
       "\n",
       "    .dataframe thead th {\n",
       "        text-align: right;\n",
       "    }\n",
       "</style>\n",
       "<table border=\"1\" class=\"dataframe\">\n",
       "  <thead>\n",
       "    <tr style=\"text-align: right;\">\n",
       "      <th></th>\n",
       "      <th>Year</th>\n",
       "      <th>Month</th>\n",
       "      <th>NumCases</th>\n",
       "    </tr>\n",
       "  </thead>\n",
       "  <tbody>\n",
       "    <tr>\n",
       "      <th>0</th>\n",
       "      <td>1980.0</td>\n",
       "      <td>1.0</td>\n",
       "      <td>1825.0</td>\n",
       "    </tr>\n",
       "    <tr>\n",
       "      <th>1</th>\n",
       "      <td>1980.0</td>\n",
       "      <td>2.0</td>\n",
       "      <td>1730.0</td>\n",
       "    </tr>\n",
       "    <tr>\n",
       "      <th>2</th>\n",
       "      <td>1980.0</td>\n",
       "      <td>3.0</td>\n",
       "      <td>1743.0</td>\n",
       "    </tr>\n",
       "    <tr>\n",
       "      <th>3</th>\n",
       "      <td>1980.0</td>\n",
       "      <td>4.0</td>\n",
       "      <td>1760.0</td>\n",
       "    </tr>\n",
       "    <tr>\n",
       "      <th>4</th>\n",
       "      <td>1980.0</td>\n",
       "      <td>5.0</td>\n",
       "      <td>1863.0</td>\n",
       "    </tr>\n",
       "  </tbody>\n",
       "</table>\n",
       "</div>"
      ],
      "text/plain": [
       "     Year  Month  NumCases\n",
       "0  1980.0    1.0    1825.0\n",
       "1  1980.0    2.0    1730.0\n",
       "2  1980.0    3.0    1743.0\n",
       "3  1980.0    4.0    1760.0\n",
       "4  1980.0    5.0    1863.0"
      ]
     },
     "execution_count": 28,
     "metadata": {
      "tags": []
     },
     "output_type": "execute_result"
    }
   ],
   "source": [
    "time_series = pd.read_csv('time_series.csv').astype('float32')\n",
    "time_series.head()"
   ]
  },
  {
   "cell_type": "code",
   "execution_count": 29,
   "metadata": {
    "id": "OHTApMMGVngh"
   },
   "outputs": [],
   "source": [
    "for i in range(1, 25, 1):\n",
    "    time_series[f'NumCases_{i}'] = time_series['NumCases'].shift(i)"
   ]
  },
  {
   "cell_type": "code",
   "execution_count": 30,
   "metadata": {
    "colab": {
     "base_uri": "https://localhost:8080/",
     "height": 226
    },
    "id": "qHZf19o-VtAG",
    "outputId": "e2b1eaa2-1082-460f-c5b9-e174b1bb5a9c"
   },
   "outputs": [
    {
     "data": {
      "text/html": [
       "<div>\n",
       "<style scoped>\n",
       "    .dataframe tbody tr th:only-of-type {\n",
       "        vertical-align: middle;\n",
       "    }\n",
       "\n",
       "    .dataframe tbody tr th {\n",
       "        vertical-align: top;\n",
       "    }\n",
       "\n",
       "    .dataframe thead th {\n",
       "        text-align: right;\n",
       "    }\n",
       "</style>\n",
       "<table border=\"1\" class=\"dataframe\">\n",
       "  <thead>\n",
       "    <tr style=\"text-align: right;\">\n",
       "      <th></th>\n",
       "      <th>Year</th>\n",
       "      <th>Month</th>\n",
       "      <th>NumCases</th>\n",
       "      <th>NumCases_1</th>\n",
       "      <th>NumCases_2</th>\n",
       "      <th>NumCases_3</th>\n",
       "      <th>NumCases_4</th>\n",
       "      <th>NumCases_5</th>\n",
       "      <th>NumCases_6</th>\n",
       "      <th>NumCases_7</th>\n",
       "      <th>NumCases_8</th>\n",
       "      <th>NumCases_9</th>\n",
       "      <th>NumCases_10</th>\n",
       "      <th>NumCases_11</th>\n",
       "      <th>NumCases_12</th>\n",
       "      <th>NumCases_13</th>\n",
       "      <th>NumCases_14</th>\n",
       "      <th>NumCases_15</th>\n",
       "      <th>NumCases_16</th>\n",
       "      <th>NumCases_17</th>\n",
       "      <th>NumCases_18</th>\n",
       "      <th>NumCases_19</th>\n",
       "      <th>NumCases_20</th>\n",
       "      <th>NumCases_21</th>\n",
       "      <th>NumCases_22</th>\n",
       "      <th>NumCases_23</th>\n",
       "      <th>NumCases_24</th>\n",
       "    </tr>\n",
       "  </thead>\n",
       "  <tbody>\n",
       "    <tr>\n",
       "      <th>24</th>\n",
       "      <td>1982.0</td>\n",
       "      <td>1.0</td>\n",
       "      <td>1755.0</td>\n",
       "      <td>1533.0</td>\n",
       "      <td>1615.0</td>\n",
       "      <td>1648.0</td>\n",
       "      <td>1659.0</td>\n",
       "      <td>1804.0</td>\n",
       "      <td>1930.0</td>\n",
       "      <td>1714.0</td>\n",
       "      <td>1860.0</td>\n",
       "      <td>1771.0</td>\n",
       "      <td>1910.0</td>\n",
       "      <td>1777.0</td>\n",
       "      <td>1987.0</td>\n",
       "      <td>1965.0</td>\n",
       "      <td>1861.0</td>\n",
       "      <td>1935.0</td>\n",
       "      <td>1869.0</td>\n",
       "      <td>2371.0</td>\n",
       "      <td>2179.0</td>\n",
       "      <td>1991.0</td>\n",
       "      <td>1863.0</td>\n",
       "      <td>1760.0</td>\n",
       "      <td>1743.0</td>\n",
       "      <td>1730.0</td>\n",
       "      <td>1825.0</td>\n",
       "    </tr>\n",
       "    <tr>\n",
       "      <th>25</th>\n",
       "      <td>1982.0</td>\n",
       "      <td>2.0</td>\n",
       "      <td>1587.0</td>\n",
       "      <td>1755.0</td>\n",
       "      <td>1533.0</td>\n",
       "      <td>1615.0</td>\n",
       "      <td>1648.0</td>\n",
       "      <td>1659.0</td>\n",
       "      <td>1804.0</td>\n",
       "      <td>1930.0</td>\n",
       "      <td>1714.0</td>\n",
       "      <td>1860.0</td>\n",
       "      <td>1771.0</td>\n",
       "      <td>1910.0</td>\n",
       "      <td>1777.0</td>\n",
       "      <td>1987.0</td>\n",
       "      <td>1965.0</td>\n",
       "      <td>1861.0</td>\n",
       "      <td>1935.0</td>\n",
       "      <td>1869.0</td>\n",
       "      <td>2371.0</td>\n",
       "      <td>2179.0</td>\n",
       "      <td>1991.0</td>\n",
       "      <td>1863.0</td>\n",
       "      <td>1760.0</td>\n",
       "      <td>1743.0</td>\n",
       "      <td>1730.0</td>\n",
       "    </tr>\n",
       "    <tr>\n",
       "      <th>26</th>\n",
       "      <td>1982.0</td>\n",
       "      <td>3.0</td>\n",
       "      <td>1686.0</td>\n",
       "      <td>1587.0</td>\n",
       "      <td>1755.0</td>\n",
       "      <td>1533.0</td>\n",
       "      <td>1615.0</td>\n",
       "      <td>1648.0</td>\n",
       "      <td>1659.0</td>\n",
       "      <td>1804.0</td>\n",
       "      <td>1930.0</td>\n",
       "      <td>1714.0</td>\n",
       "      <td>1860.0</td>\n",
       "      <td>1771.0</td>\n",
       "      <td>1910.0</td>\n",
       "      <td>1777.0</td>\n",
       "      <td>1987.0</td>\n",
       "      <td>1965.0</td>\n",
       "      <td>1861.0</td>\n",
       "      <td>1935.0</td>\n",
       "      <td>1869.0</td>\n",
       "      <td>2371.0</td>\n",
       "      <td>2179.0</td>\n",
       "      <td>1991.0</td>\n",
       "      <td>1863.0</td>\n",
       "      <td>1760.0</td>\n",
       "      <td>1743.0</td>\n",
       "    </tr>\n",
       "    <tr>\n",
       "      <th>27</th>\n",
       "      <td>1982.0</td>\n",
       "      <td>4.0</td>\n",
       "      <td>1673.0</td>\n",
       "      <td>1686.0</td>\n",
       "      <td>1587.0</td>\n",
       "      <td>1755.0</td>\n",
       "      <td>1533.0</td>\n",
       "      <td>1615.0</td>\n",
       "      <td>1648.0</td>\n",
       "      <td>1659.0</td>\n",
       "      <td>1804.0</td>\n",
       "      <td>1930.0</td>\n",
       "      <td>1714.0</td>\n",
       "      <td>1860.0</td>\n",
       "      <td>1771.0</td>\n",
       "      <td>1910.0</td>\n",
       "      <td>1777.0</td>\n",
       "      <td>1987.0</td>\n",
       "      <td>1965.0</td>\n",
       "      <td>1861.0</td>\n",
       "      <td>1935.0</td>\n",
       "      <td>1869.0</td>\n",
       "      <td>2371.0</td>\n",
       "      <td>2179.0</td>\n",
       "      <td>1991.0</td>\n",
       "      <td>1863.0</td>\n",
       "      <td>1760.0</td>\n",
       "    </tr>\n",
       "    <tr>\n",
       "      <th>28</th>\n",
       "      <td>1982.0</td>\n",
       "      <td>5.0</td>\n",
       "      <td>1803.0</td>\n",
       "      <td>1673.0</td>\n",
       "      <td>1686.0</td>\n",
       "      <td>1587.0</td>\n",
       "      <td>1755.0</td>\n",
       "      <td>1533.0</td>\n",
       "      <td>1615.0</td>\n",
       "      <td>1648.0</td>\n",
       "      <td>1659.0</td>\n",
       "      <td>1804.0</td>\n",
       "      <td>1930.0</td>\n",
       "      <td>1714.0</td>\n",
       "      <td>1860.0</td>\n",
       "      <td>1771.0</td>\n",
       "      <td>1910.0</td>\n",
       "      <td>1777.0</td>\n",
       "      <td>1987.0</td>\n",
       "      <td>1965.0</td>\n",
       "      <td>1861.0</td>\n",
       "      <td>1935.0</td>\n",
       "      <td>1869.0</td>\n",
       "      <td>2371.0</td>\n",
       "      <td>2179.0</td>\n",
       "      <td>1991.0</td>\n",
       "      <td>1863.0</td>\n",
       "    </tr>\n",
       "  </tbody>\n",
       "</table>\n",
       "</div>"
      ],
      "text/plain": [
       "      Year  Month  NumCases  ...  NumCases_22  NumCases_23  NumCases_24\n",
       "24  1982.0    1.0    1755.0  ...       1743.0       1730.0       1825.0\n",
       "25  1982.0    2.0    1587.0  ...       1760.0       1743.0       1730.0\n",
       "26  1982.0    3.0    1686.0  ...       1863.0       1760.0       1743.0\n",
       "27  1982.0    4.0    1673.0  ...       1991.0       1863.0       1760.0\n",
       "28  1982.0    5.0    1803.0  ...       2179.0       1991.0       1863.0\n",
       "\n",
       "[5 rows x 27 columns]"
      ]
     },
     "execution_count": 30,
     "metadata": {
      "tags": []
     },
     "output_type": "execute_result"
    }
   ],
   "source": [
    "time_series = time_series[24:]\n",
    "time_series.head()"
   ]
  },
  {
   "cell_type": "code",
   "execution_count": 31,
   "metadata": {
    "colab": {
     "base_uri": "https://localhost:8080/"
    },
    "id": "H7kQkUJ5VtCz",
    "outputId": "d088a971-b48a-4604-9782-c4ea5eb0fe9d"
   },
   "outputs": [
    {
     "data": {
      "text/plain": [
       "((276, 27), (60, 27), (60, 27))"
      ]
     },
     "execution_count": 31,
     "metadata": {
      "tags": []
     },
     "output_type": "execute_result"
    }
   ],
   "source": [
    "test = time_series[-60:]\n",
    "train = time_series[:-60]\n",
    "val = train[-60:]\n",
    "train = train[:-60]\n",
    "\n",
    "train.shape, val.shape, test.shape"
   ]
  },
  {
   "cell_type": "code",
   "execution_count": 32,
   "metadata": {
    "id": "Qa0dbVctVtE1"
   },
   "outputs": [],
   "source": [
    "X_train, Y_train = features_target(train)\n",
    "X_val, Y_val = features_target(val)\n",
    "X_test, Y_test = features_target(test)"
   ]
  },
  {
   "cell_type": "code",
   "execution_count": 33,
   "metadata": {
    "id": "ik1pHt4gVtJk"
   },
   "outputs": [],
   "source": [
    "scaler_x = sklearn.preprocessing.StandardScaler()\n",
    "scaler_y = sklearn.preprocessing.StandardScaler()\n",
    "\n",
    "X_train = scaler_x.fit_transform(X_train)\n",
    "Y_train = scaler_y.fit_transform(Y_train.reshape(-1, 1))\n",
    "\n",
    "X_val = scaler_x.transform(X_val)\n",
    "Y_val = scaler_y.transform(Y_val.reshape(-1, 1))\n",
    "\n",
    "X_test = scaler_x.transform(X_test)"
   ]
  },
  {
   "cell_type": "markdown",
   "metadata": {
    "id": "zciUh1HvktRU"
   },
   "source": [
    "### 2.1 Двухслойные модели"
   ]
  },
  {
   "cell_type": "code",
   "execution_count": 34,
   "metadata": {
    "colab": {
     "base_uri": "https://localhost:8080/",
     "height": 205,
     "referenced_widgets": [
      "1d3b57dacd4f409eb450c4d8a32665b7",
      "cdb4e0a44a3149bdb981362601a05c9b",
      "157a5f5f54574713ad07a8f33e924971",
      "ebab3a46e4444b508af74e25bdf87db2",
      "bde81281c8274281bd14880f2a10af1b",
      "b609d1ce609749ab8ddd4b577f573a67",
      "3e9173ff8dc449fbb6bffe9ae21ab799",
      "46d079336c594a29bca5527e4ddc8e97"
     ]
    },
    "id": "KQMwWKcRVtMM",
    "outputId": "05f775b4-d85b-4f54-e7a5-b813e9ceba3c"
   },
   "outputs": [
    {
     "name": "stdout",
     "output_type": "stream",
     "text": [
      "Sequential(\n",
      "  (linear0): Linear(in_features=24, out_features=24, bias=True)\n",
      "  (relu0): ReLU(inplace=True)\n",
      "  (linear_out): Linear(in_features=24, out_features=1, bias=True)\n",
      ")\n"
     ]
    },
    {
     "data": {
      "application/vnd.jupyter.widget-view+json": {
       "model_id": "1d3b57dacd4f409eb450c4d8a32665b7",
       "version_major": 2,
       "version_minor": 0
      },
      "text/plain": [
       "HBox(children=(FloatProgress(value=0.0, max=10000.0), HTML(value='')))"
      ]
     },
     "metadata": {
      "tags": []
     },
     "output_type": "display_data"
    },
    {
     "data": {
      "text/plain": [
       "{'best_epoch': 803,\n",
       " 'best_val_loss': 0.08764254301786423,\n",
       " 'model_state_dict_path': 'fcnn_2_layers_no_batchnorm_no_dropout_24_months.pth',\n",
       " 'train_time_seconds': 19.60670518875122}"
      ]
     },
     "execution_count": 34,
     "metadata": {
      "tags": []
     },
     "output_type": "execute_result"
    }
   ],
   "source": [
    "fcnn_2_layers_no_batchnorm_no_dropout_24_months = build_fcnn('fcnn_2_layers_no_batchnorm_no_dropout_24_months', n_tier=1, n_features=24)\n",
    "print(fcnn_2_layers_no_batchnorm_no_dropout_24_months)\n",
    "train_model(fcnn_2_layers_no_batchnorm_no_dropout_24_months, N_EPOCHS, N_EARLY_STOP, X_train, Y_train, X_val, Y_val, device)"
   ]
  },
  {
   "cell_type": "code",
   "execution_count": 35,
   "metadata": {
    "colab": {
     "base_uri": "https://localhost:8080/",
     "height": 223,
     "referenced_widgets": [
      "df58d3f3d6d4468983b142596e005bf2",
      "193f6ddda6a840a297f40f929677dca2",
      "54551821bf554d2fa5faed7f3731b2e3",
      "9b0552f4e28a437685d0ada7e3634e56",
      "e5c0152d907f4f3ca9490b8c033f9866",
      "9b44a495a1384c32ae933dd4f603c3b9",
      "7f5766c577834e3da4b81827c7bba627",
      "305c61e0d3df4f0fab949b23b349cd0c"
     ]
    },
    "id": "RaRyMU58VtPT",
    "outputId": "f53f3cbb-c1b1-4562-d9cd-df1c998b0419"
   },
   "outputs": [
    {
     "name": "stdout",
     "output_type": "stream",
     "text": [
      "Sequential(\n",
      "  (linear0): Linear(in_features=24, out_features=24, bias=True)\n",
      "  (batchnorm0): BatchNorm1d(24, eps=1e-05, momentum=0.1, affine=True, track_running_stats=True)\n",
      "  (relu0): ReLU(inplace=True)\n",
      "  (linear_out): Linear(in_features=24, out_features=1, bias=True)\n",
      ")\n"
     ]
    },
    {
     "data": {
      "application/vnd.jupyter.widget-view+json": {
       "model_id": "df58d3f3d6d4468983b142596e005bf2",
       "version_major": 2,
       "version_minor": 0
      },
      "text/plain": [
       "HBox(children=(FloatProgress(value=0.0, max=10000.0), HTML(value='')))"
      ]
     },
     "metadata": {
      "tags": []
     },
     "output_type": "display_data"
    },
    {
     "data": {
      "text/plain": [
       "{'best_epoch': 119,\n",
       " 'best_val_loss': 0.35312166810035706,\n",
       " 'model_state_dict_path': 'fcnn_2_layers_batchnorm_no_dropout_24months.pth',\n",
       " 'train_time_seconds': 19.337968587875366}"
      ]
     },
     "execution_count": 35,
     "metadata": {
      "tags": []
     },
     "output_type": "execute_result"
    }
   ],
   "source": [
    "fcnn_2_layers_batchnorm_no_dropout_24months = build_fcnn('fcnn_2_layers_batchnorm_no_dropout_24months', n_tier=1, n_features=24, use_batchnorm=True)\n",
    "print(fcnn_2_layers_batchnorm_no_dropout_24months)\n",
    "train_model(fcnn_2_layers_batchnorm_no_dropout_24months, N_EPOCHS, N_EARLY_STOP, X_train, Y_train, X_val, Y_val, device)"
   ]
  },
  {
   "cell_type": "code",
   "execution_count": 36,
   "metadata": {
    "colab": {
     "base_uri": "https://localhost:8080/",
     "height": 223,
     "referenced_widgets": [
      "8c6a4da2fa104daaa93c1f667543163c",
      "a13791638d044d58be74e1bca7b2be13",
      "e894e073f26a4cc7a24b55d510361d8e",
      "be799150b219477195fa4e7ca8a36710",
      "526014903b54433e87d45ae637595a80",
      "b9ae18a5338346a99a2c27d6b9f063fd",
      "c64de23e852b4ba7875e8a7ad2dd52f0",
      "45542842b50b401a932063bb56fa827c"
     ]
    },
    "id": "jf6yybaOVtSK",
    "outputId": "3165c816-efaf-4e12-ff4a-9a37d1aca5b8"
   },
   "outputs": [
    {
     "name": "stdout",
     "output_type": "stream",
     "text": [
      "Sequential(\n",
      "  (linear0): Linear(in_features=24, out_features=24, bias=True)\n",
      "  (relu0): ReLU(inplace=True)\n",
      "  (dropout0): Dropout(p=0.5, inplace=False)\n",
      "  (linear_out): Linear(in_features=24, out_features=1, bias=True)\n",
      ")\n"
     ]
    },
    {
     "data": {
      "application/vnd.jupyter.widget-view+json": {
       "model_id": "8c6a4da2fa104daaa93c1f667543163c",
       "version_major": 2,
       "version_minor": 0
      },
      "text/plain": [
       "HBox(children=(FloatProgress(value=0.0, max=10000.0), HTML(value='')))"
      ]
     },
     "metadata": {
      "tags": []
     },
     "output_type": "display_data"
    },
    {
     "data": {
      "text/plain": [
       "{'best_epoch': 4714,\n",
       " 'best_val_loss': 0.07963141798973083,\n",
       " 'model_state_dict_path': 'fcnn_2_layers_no_batchnorm_dropout_24months.pth',\n",
       " 'train_time_seconds': 66.16088199615479}"
      ]
     },
     "execution_count": 36,
     "metadata": {
      "tags": []
     },
     "output_type": "execute_result"
    }
   ],
   "source": [
    "fcnn_2_layers_no_batchnorm_dropout_24months = build_fcnn('fcnn_2_layers_no_batchnorm_dropout_24months', n_tier=1, n_features=24, use_batchnorm=False, p_dropout=0.5)\n",
    "print(fcnn_2_layers_no_batchnorm_dropout_24months)\n",
    "train_model(fcnn_2_layers_no_batchnorm_dropout_24months, N_EPOCHS, N_EARLY_STOP, X_train, Y_train, X_val, Y_val, device)"
   ]
  },
  {
   "cell_type": "code",
   "execution_count": 37,
   "metadata": {
    "colab": {
     "base_uri": "https://localhost:8080/",
     "height": 240,
     "referenced_widgets": [
      "ffa7cc4507a044d19f866e12805bf119",
      "3f56464a3e7b4b6da6bd5c11863848be",
      "c54fb531041647f48aca51ac6153c4f8",
      "1c669089a53b44b7962c5b86e4c2d97a",
      "71ea446189604e07884014cffeaf5266",
      "ed3faab0627a442b8cd5738519cc9d13",
      "47b97a972ada465abbdf785cf4ffc141",
      "89b9f114af134520b8ec3fe4a8eb4555"
     ]
    },
    "id": "ev888WazXvCU",
    "outputId": "e09032d7-2b90-42cb-c501-20eb1b9d3c72"
   },
   "outputs": [
    {
     "name": "stdout",
     "output_type": "stream",
     "text": [
      "Sequential(\n",
      "  (linear0): Linear(in_features=24, out_features=24, bias=True)\n",
      "  (batchnorm0): BatchNorm1d(24, eps=1e-05, momentum=0.1, affine=True, track_running_stats=True)\n",
      "  (relu0): ReLU(inplace=True)\n",
      "  (dropout0): Dropout(p=0.5, inplace=False)\n",
      "  (linear_out): Linear(in_features=24, out_features=1, bias=True)\n",
      ")\n"
     ]
    },
    {
     "data": {
      "application/vnd.jupyter.widget-view+json": {
       "model_id": "ffa7cc4507a044d19f866e12805bf119",
       "version_major": 2,
       "version_minor": 0
      },
      "text/plain": [
       "HBox(children=(FloatProgress(value=0.0, max=10000.0), HTML(value='')))"
      ]
     },
     "metadata": {
      "tags": []
     },
     "output_type": "display_data"
    },
    {
     "data": {
      "text/plain": [
       "{'best_epoch': 1397,\n",
       " 'best_val_loss': 0.28147363662719727,\n",
       " 'model_state_dict_path': 'fcnn_2_layers_batchnorm_dropout_24months.pth',\n",
       " 'train_time_seconds': 43.76898908615112}"
      ]
     },
     "execution_count": 37,
     "metadata": {
      "tags": []
     },
     "output_type": "execute_result"
    }
   ],
   "source": [
    "fcnn_2_layers_batchnorm_dropout_24months = build_fcnn('fcnn_2_layers_batchnorm_dropout_24months', n_tier=1, n_features=24, use_batchnorm=True, p_dropout=0.5)\n",
    "print(fcnn_2_layers_batchnorm_dropout_24months)\n",
    "train_model(fcnn_2_layers_batchnorm_dropout_24months, N_EPOCHS, N_EARLY_STOP, X_train, Y_train, X_val, Y_val, device)"
   ]
  },
  {
   "cell_type": "markdown",
   "metadata": {
    "id": "JGHadv8PkyD4"
   },
   "source": [
    "### 2.2 Трёхслойные модели"
   ]
  },
  {
   "cell_type": "code",
   "execution_count": 38,
   "metadata": {
    "colab": {
     "base_uri": "https://localhost:8080/",
     "height": 240,
     "referenced_widgets": [
      "5c5f513235ee47dfb59c83eef1537fb0",
      "f26077febd6d46e0b0a3ccde2c53c378",
      "40c614abeebe47a599ca927713136f47",
      "b324371a5eca4fe5a4c585c50f7eebfd",
      "3c6494f3df824f3ea1f58d0a3d35f533",
      "955144e9ca684990b0feedcedae5e04d",
      "0a9bcd7053d44bbdb9848f54fa68625a",
      "69779c6fed78471bbce0e0a5776dfc54"
     ]
    },
    "id": "DfSOceNPYCxs",
    "outputId": "c7dba9dc-8b49-4a0b-babc-edfcaf57b66f"
   },
   "outputs": [
    {
     "name": "stdout",
     "output_type": "stream",
     "text": [
      "Sequential(\n",
      "  (linear0): Linear(in_features=24, out_features=24, bias=True)\n",
      "  (relu0): ReLU(inplace=True)\n",
      "  (linear1): Linear(in_features=24, out_features=24, bias=True)\n",
      "  (relu1): ReLU(inplace=True)\n",
      "  (linear_out): Linear(in_features=24, out_features=1, bias=True)\n",
      ")\n"
     ]
    },
    {
     "data": {
      "application/vnd.jupyter.widget-view+json": {
       "model_id": "5c5f513235ee47dfb59c83eef1537fb0",
       "version_major": 2,
       "version_minor": 0
      },
      "text/plain": [
       "HBox(children=(FloatProgress(value=0.0, max=10000.0), HTML(value='')))"
      ]
     },
     "metadata": {
      "tags": []
     },
     "output_type": "display_data"
    },
    {
     "data": {
      "text/plain": [
       "{'best_epoch': 524,\n",
       " 'best_val_loss': 0.09210003167390823,\n",
       " 'model_state_dict_path': 'fcnn_3_layers_no_batchnorm_no_dropout_24_months.pth',\n",
       " 'train_time_seconds': 21.54033875465393}"
      ]
     },
     "execution_count": 38,
     "metadata": {
      "tags": []
     },
     "output_type": "execute_result"
    }
   ],
   "source": [
    "fcnn_3_layers_no_batchnorm_no_dropout_24_months = build_fcnn('fcnn_3_layers_no_batchnorm_no_dropout_24_months', n_tier=2, n_features=24)\n",
    "print(fcnn_3_layers_no_batchnorm_no_dropout_24_months)\n",
    "train_model(fcnn_3_layers_no_batchnorm_no_dropout_24_months, N_EPOCHS, N_EARLY_STOP, X_train, Y_train, X_val, Y_val, device)"
   ]
  },
  {
   "cell_type": "code",
   "execution_count": 39,
   "metadata": {
    "colab": {
     "base_uri": "https://localhost:8080/",
     "height": 275,
     "referenced_widgets": [
      "b3fa7c21db474e0faf14b16e3fc0ee78",
      "43fa96bb26844012820c3bdbf6c58595",
      "6d752ceade63446abb037120800dcb17",
      "1cbad68a773b40efbc2239c3d3728eac",
      "2d9500948e434a4abfceadca7e53b657",
      "4231842a749a41f0a6336e84be95fbaf",
      "aebee33c7b304117a7cd97844071f75a",
      "97ab960f64eb4eeb9e8782320d3f3245"
     ]
    },
    "id": "5JJ1spCvYIzk",
    "outputId": "caa2e5af-e117-43d8-f68f-7ab4361dedef"
   },
   "outputs": [
    {
     "name": "stdout",
     "output_type": "stream",
     "text": [
      "Sequential(\n",
      "  (linear0): Linear(in_features=24, out_features=24, bias=True)\n",
      "  (batchnorm0): BatchNorm1d(24, eps=1e-05, momentum=0.1, affine=True, track_running_stats=True)\n",
      "  (relu0): ReLU(inplace=True)\n",
      "  (linear1): Linear(in_features=24, out_features=24, bias=True)\n",
      "  (batchnorm1): BatchNorm1d(24, eps=1e-05, momentum=0.1, affine=True, track_running_stats=True)\n",
      "  (relu1): ReLU(inplace=True)\n",
      "  (linear_out): Linear(in_features=24, out_features=1, bias=True)\n",
      ")\n"
     ]
    },
    {
     "data": {
      "application/vnd.jupyter.widget-view+json": {
       "model_id": "b3fa7c21db474e0faf14b16e3fc0ee78",
       "version_major": 2,
       "version_minor": 0
      },
      "text/plain": [
       "HBox(children=(FloatProgress(value=0.0, max=10000.0), HTML(value='')))"
      ]
     },
     "metadata": {
      "tags": []
     },
     "output_type": "display_data"
    },
    {
     "data": {
      "text/plain": [
       "{'best_epoch': 47,\n",
       " 'best_val_loss': 0.20825669169425964,\n",
       " 'model_state_dict_path': 'fcnn_3_layers_batchnorm_no_dropout_24months.pth',\n",
       " 'train_time_seconds': 28.15288257598877}"
      ]
     },
     "execution_count": 39,
     "metadata": {
      "tags": []
     },
     "output_type": "execute_result"
    }
   ],
   "source": [
    "fcnn_3_layers_batchnorm_no_dropout_24months = build_fcnn('fcnn_3_layers_batchnorm_no_dropout_24months', n_tier=2, n_features=24, use_batchnorm=True)\n",
    "print(fcnn_3_layers_batchnorm_no_dropout_24months)\n",
    "train_model(fcnn_3_layers_batchnorm_no_dropout_24months, N_EPOCHS, N_EARLY_STOP, X_train, Y_train, X_val, Y_val, device)"
   ]
  },
  {
   "cell_type": "code",
   "execution_count": 40,
   "metadata": {
    "colab": {
     "base_uri": "https://localhost:8080/",
     "height": 275,
     "referenced_widgets": [
      "1b1b4629afec42529a3d9a20fde31d5f",
      "4bc211ea274a4270b64e2cffc7535ad6",
      "b456aa72de554da699f24cfba7692463",
      "edd61372427c44b0af3347735f38379c",
      "82c0c561632f44cc8efac13047babc83",
      "e1a475888e6f49548dd78d03985eb5f5",
      "38ad70631e2742f0a982e281ef0b87f9",
      "b2021b43bcfa403caadfd70e160e9763"
     ]
    },
    "id": "6jgtRtS5YUEq",
    "outputId": "d81fbdcd-7685-4ee0-ae51-9eb0f5669f3f"
   },
   "outputs": [
    {
     "name": "stdout",
     "output_type": "stream",
     "text": [
      "Sequential(\n",
      "  (linear0): Linear(in_features=24, out_features=24, bias=True)\n",
      "  (relu0): ReLU(inplace=True)\n",
      "  (dropout0): Dropout(p=0.5, inplace=False)\n",
      "  (linear1): Linear(in_features=24, out_features=24, bias=True)\n",
      "  (relu1): ReLU(inplace=True)\n",
      "  (dropout1): Dropout(p=0.5, inplace=False)\n",
      "  (linear_out): Linear(in_features=24, out_features=1, bias=True)\n",
      ")\n"
     ]
    },
    {
     "data": {
      "application/vnd.jupyter.widget-view+json": {
       "model_id": "1b1b4629afec42529a3d9a20fde31d5f",
       "version_major": 2,
       "version_minor": 0
      },
      "text/plain": [
       "HBox(children=(FloatProgress(value=0.0, max=10000.0), HTML(value='')))"
      ]
     },
     "metadata": {
      "tags": []
     },
     "output_type": "display_data"
    },
    {
     "data": {
      "text/plain": [
       "{'best_epoch': 4466,\n",
       " 'best_val_loss': 0.07781736552715302,\n",
       " 'model_state_dict_path': 'fcnn_3_layers_no_batchnorm_dropout_24months.pth',\n",
       " 'train_time_seconds': 87.41014266014099}"
      ]
     },
     "execution_count": 40,
     "metadata": {
      "tags": []
     },
     "output_type": "execute_result"
    }
   ],
   "source": [
    "fcnn_3_layers_no_batchnorm_dropout_24months = build_fcnn('fcnn_3_layers_no_batchnorm_dropout_24months', n_tier=2, n_features=24, use_batchnorm=False, p_dropout=0.5)\n",
    "print(fcnn_3_layers_no_batchnorm_dropout_24months)\n",
    "train_model(fcnn_3_layers_no_batchnorm_dropout_24months, N_EPOCHS, N_EARLY_STOP, X_train, Y_train, X_val, Y_val, device)"
   ]
  },
  {
   "cell_type": "code",
   "execution_count": 41,
   "metadata": {
    "colab": {
     "base_uri": "https://localhost:8080/",
     "height": 310,
     "referenced_widgets": [
      "ee9b37b2d4dc4a84991fd368a6fe29a5",
      "3bcce830c9e049ddb25a46af71a2c740",
      "0b69f53b1f0a4e87811694bde75d8b2e",
      "19cb903041eb46878e9adc7d094bb1a2",
      "b5a5712d94684f33b8a91f5077ce0c70",
      "5bef31962a874d5c80c442822989f3bd",
      "d981da7873fc4862bcd27addc0ea9098",
      "efefc27ad0874b54afac368dec4b3686"
     ]
    },
    "id": "0YyAS9IJYfRt",
    "outputId": "3f6bbce8-8efa-4d58-a8e7-a381133e5f94"
   },
   "outputs": [
    {
     "name": "stdout",
     "output_type": "stream",
     "text": [
      "Sequential(\n",
      "  (linear0): Linear(in_features=24, out_features=24, bias=True)\n",
      "  (batchnorm0): BatchNorm1d(24, eps=1e-05, momentum=0.1, affine=True, track_running_stats=True)\n",
      "  (relu0): ReLU(inplace=True)\n",
      "  (dropout0): Dropout(p=0.5, inplace=False)\n",
      "  (linear1): Linear(in_features=24, out_features=24, bias=True)\n",
      "  (batchnorm1): BatchNorm1d(24, eps=1e-05, momentum=0.1, affine=True, track_running_stats=True)\n",
      "  (relu1): ReLU(inplace=True)\n",
      "  (dropout1): Dropout(p=0.5, inplace=False)\n",
      "  (linear_out): Linear(in_features=24, out_features=1, bias=True)\n",
      ")\n"
     ]
    },
    {
     "data": {
      "application/vnd.jupyter.widget-view+json": {
       "model_id": "ee9b37b2d4dc4a84991fd368a6fe29a5",
       "version_major": 2,
       "version_minor": 0
      },
      "text/plain": [
       "HBox(children=(FloatProgress(value=0.0, max=10000.0), HTML(value='')))"
      ]
     },
     "metadata": {
      "tags": []
     },
     "output_type": "display_data"
    },
    {
     "data": {
      "text/plain": [
       "{'best_epoch': 98,\n",
       " 'best_val_loss': 0.23458436131477356,\n",
       " 'model_state_dict_path': 'fcnn_3_layers_batchnorm_dropout_24months.pth',\n",
       " 'train_time_seconds': 31.178860664367676}"
      ]
     },
     "execution_count": 41,
     "metadata": {
      "tags": []
     },
     "output_type": "execute_result"
    }
   ],
   "source": [
    "fcnn_3_layers_batchnorm_dropout_24months = build_fcnn('fcnn_3_layers_batchnorm_dropout_24months', n_tier=2, n_features=24, use_batchnorm=True, p_dropout=0.5)\n",
    "print(fcnn_3_layers_batchnorm_dropout_24months)\n",
    "train_model(fcnn_3_layers_batchnorm_dropout_24months, N_EPOCHS, N_EARLY_STOP, X_train, Y_train, X_val, Y_val, device)"
   ]
  },
  {
   "cell_type": "markdown",
   "metadata": {
    "id": "C_GDwKMAZCbl"
   },
   "source": [
    "### 2.3 Лучшая модель на данных за два предыдущих года"
   ]
  },
  {
   "cell_type": "code",
   "execution_count": 42,
   "metadata": {
    "colab": {
     "base_uri": "https://localhost:8080/"
    },
    "id": "uEV9X9TxZBdn",
    "outputId": "993cf66e-af43-4ae0-aece-57cfb083be09"
   },
   "outputs": [
    {
     "data": {
      "text/plain": [
       "Sequential(\n",
       "  (linear0): Linear(in_features=24, out_features=24, bias=True)\n",
       "  (relu0): ReLU(inplace=True)\n",
       "  (linear_out): Linear(in_features=24, out_features=1, bias=True)\n",
       ")"
      ]
     },
     "execution_count": 42,
     "metadata": {
      "tags": []
     },
     "output_type": "execute_result"
    }
   ],
   "source": [
    "best_model_24months = build_fcnn('fcnn_2_layers_no_batchnorm_no_dropout_24_months', n_tier=1, n_features=24)\n",
    "best_model_24months.load_state_dict(torch.load('fcnn_2_layers_no_batchnorm_no_dropout_24_months.pth'))\n",
    "best_model_24months.eval()"
   ]
  },
  {
   "cell_type": "code",
   "execution_count": 43,
   "metadata": {
    "id": "qIiW85FGbQlI"
   },
   "outputs": [],
   "source": [
    "with torch.no_grad():\n",
    "    Y_predict_scaled = best_model_24months(torch.from_numpy(X_test).to(device)).numpy()\n",
    "\n",
    "Y_predict = scaler_y.inverse_transform(Y_predict_scaled).squeeze()"
   ]
  },
  {
   "cell_type": "code",
   "execution_count": 44,
   "metadata": {
    "colab": {
     "base_uri": "https://localhost:8080/"
    },
    "id": "2QILyzM2bXNV",
    "outputId": "a7eafb65-930f-466f-96ac-71b6a9b6d868"
   },
   "outputs": [
    {
     "name": "stdout",
     "output_type": "stream",
     "text": [
      "RMSE: 63.468422\n"
     ]
    }
   ],
   "source": [
    "print('RMSE:', sklearn.metrics.mean_squared_error(Y_test, Y_predict, squared=False))"
   ]
  },
  {
   "cell_type": "code",
   "execution_count": 45,
   "metadata": {
    "id": "9AkzlGnXb3YY"
   },
   "outputs": [],
   "source": [
    "prediction = [np.nan] * time_series.shape[0]\n",
    "prediction[-60:] = Y_predict\n",
    "time_series['NumCases_predict'] = prediction\n",
    "time_series['Date'] = time_series['Year'] + (time_series['Month'] - 1) / 12"
   ]
  },
  {
   "cell_type": "code",
   "execution_count": 46,
   "metadata": {
    "colab": {
     "base_uri": "https://localhost:8080/",
     "height": 607
    },
    "id": "W9j2kebVb600",
    "outputId": "b1052613-121a-42ff-fb0a-2633cc522409"
   },
   "outputs": [
    {
     "data": {
      "image/png": "[encoded data removed]",
      "text/plain": [
       "<Figure size 1440x720 with 1 Axes>"
      ]
     },
     "metadata": {
      "needs_background": "light",
      "tags": []
     },
     "output_type": "display_data"
    }
   ],
   "source": [
    "plt.figure(figsize=(20,10)) \n",
    "plt.plot(time_series['Date'], time_series['NumCases'], color='b', alpha=0.7, label=\"True\")\n",
    "plt.plot(time_series['Date'][-60:], time_series['NumCases_predict'][-60:], color='r', alpha=0.7, label=\"FCNN (2 слоя без дроп-аута и батч-нормализации)\")\n",
    "plt.title('Лучшая модель на данных за два предыдущих года')\n",
    "plt.grid()\n",
    "plt.legend()\n",
    "plt.show()"
   ]
  },
  {
   "cell_type": "markdown",
   "metadata": {
    "id": "XpcoAi-flFuA"
   },
   "source": [
    "**RMSE: 63.468422**\n",
    "#### Быстродействие"
   ]
  },
  {
   "cell_type": "code",
   "execution_count": 47,
   "metadata": {
    "colab": {
     "base_uri": "https://localhost:8080/"
    },
    "id": "iOGJpLJpcKrR",
    "outputId": "f4be085d-2669-48e2-fa1a-e3830fc8b8b9"
   },
   "outputs": [
    {
     "name": "stdout",
     "output_type": "stream",
     "text": [
      "Mean predict time: 0.00019400596618652344 Std: 0.0009213777725007539\n"
     ]
    }
   ],
   "source": [
    "spans = []\n",
    "with torch.no_grad():\n",
    "    for i in range(101):\n",
    "        start = time.time()\n",
    "        best_model_24months(torch.from_numpy(X_test).to(device)).numpy()\n",
    "        finish = time.time()\n",
    "        spans.append(finish - start)\n",
    "\n",
    "spans = np.asarray(spans[1:])\n",
    "print('Mean predict time:', spans.mean(), 'Std:', spans.std(ddof=1))"
   ]
  },
  {
   "cell_type": "markdown",
   "metadata": {
    "id": "yDNrVA_AlV2x"
   },
   "source": [
    "## 3 Результаты\n",
    " - Лучшей моделью, предсказывающей количество убийств на следующий месяц по данным за предыдущий год, оказалась полносвязная нейронная сеть с двумя слоями без дроп-аута и батч-нормализации. Значение метрики RMSE на тестовой выборке: 70.164116. Время обучения на 2092 эпохах - 32 секунды. Время предсказания на тестовой выборе - 0.0002 секунды.\n",
    " - Лучшей моделью, предсказывающей количество убийств на следующий месяц по данным за предыдущий год, оказалась полносвязная нейронная сеть с двумя слоями без дроп-аута и батч-нормализации. Значение метрики RMSE на тестовой выборке: 63.468422. Время обучения на 1803 эпохах - 19.6 секунд. Время предсказания на тестовой выборе - 0.0002 секунды.\n",
    "\n",
    "\n",
    "Hardware: 2 ядра процессора Intel Xeon E5-2699 v4 2.20 ГГц, 12ГБ оперативной памяти"
   ]
  },
  {
   "cell_type": "code",
   "execution_count": null,
   "metadata": {},
   "outputs": [],
   "source": []
  }
 ],
 "metadata": {
  "colab": {
   "name": "3_fcnn.ipynb",
   "provenance": []
  },
  "kernelspec": {
   "display_name": "Python 3",
   "language": "python",
   "name": "python3"
  },
  "language_info": {
   "codemirror_mode": {
    "name": "ipython",
    "version": 3
   },
   "file_extension": ".py",
   "mimetype": "text/x-python",
   "name": "python",
   "nbconvert_exporter": "python",
   "pygments_lexer": "ipython3",
   "version": "3.6.5"
  },
  "widgets": {
   "application/vnd.jupyter.widget-state+json": {
    "0a9bcd7053d44bbdb9848f54fa68625a": {
     "model_module": "@jupyter-widgets/controls",
     "model_name": "DescriptionStyleModel",
     "state": {
      "_model_module": "@jupyter-widgets/controls",
      "_model_module_version": "1.5.0",
      "_model_name": "DescriptionStyleModel",
      "_view_count": null,
      "_view_module": "@jupyter-widgets/base",
      "_view_module_version": "1.2.0",
      "_view_name": "StyleView",
      "description_width": ""
     }
    },
    "0b69f53b1f0a4e87811694bde75d8b2e": {
     "model_module": "@jupyter-widgets/controls",
     "model_name": "FloatProgressModel",
     "state": {
      "_dom_classes": [],
      "_model_module": "@jupyter-widgets/controls",
      "_model_module_version": "1.5.0",
      "_model_name": "FloatProgressModel",
      "_view_count": null,
      "_view_module": "@jupyter-widgets/controls",
      "_view_module_version": "1.5.0",
      "_view_name": "ProgressView",
      "bar_style": "danger",
      "description": " 11%",
      "description_tooltip": null,
      "layout": "IPY_MODEL_5bef31962a874d5c80c442822989f3bd",
      "max": 10000,
      "min": 0,
      "orientation": "horizontal",
      "style": "IPY_MODEL_b5a5712d94684f33b8a91f5077ce0c70",
      "value": 1098
     }
    },
    "0b78818fae004cdabe40660411e18cb0": {
     "model_module": "@jupyter-widgets/controls",
     "model_name": "DescriptionStyleModel",
     "state": {
      "_model_module": "@jupyter-widgets/controls",
      "_model_module_version": "1.5.0",
      "_model_name": "DescriptionStyleModel",
      "_view_count": null,
      "_view_module": "@jupyter-widgets/base",
      "_view_module_version": "1.2.0",
      "_view_name": "StyleView",
      "description_width": ""
     }
    },
    "0d006d1e0bac49068df2128043442847": {
     "model_module": "@jupyter-widgets/base",
     "model_name": "LayoutModel",
     "state": {
      "_model_module": "@jupyter-widgets/base",
      "_model_module_version": "1.2.0",
      "_model_name": "LayoutModel",
      "_view_count": null,
      "_view_module": "@jupyter-widgets/base",
      "_view_module_version": "1.2.0",
      "_view_name": "LayoutView",
      "align_content": null,
      "align_items": null,
      "align_self": null,
      "border": null,
      "bottom": null,
      "display": null,
      "flex": null,
      "flex_flow": null,
      "grid_area": null,
      "grid_auto_columns": null,
      "grid_auto_flow": null,
      "grid_auto_rows": null,
      "grid_column": null,
      "grid_gap": null,
      "grid_row": null,
      "grid_template_areas": null,
      "grid_template_columns": null,
      "grid_template_rows": null,
      "height": null,
      "justify_content": null,
      "justify_items": null,
      "left": null,
      "margin": null,
      "max_height": null,
      "max_width": null,
      "min_height": null,
      "min_width": null,
      "object_fit": null,
      "object_position": null,
      "order": null,
      "overflow": null,
      "overflow_x": null,
      "overflow_y": null,
      "padding": null,
      "right": null,
      "top": null,
      "visibility": null,
      "width": null
     }
    },
    "12134056053f4ccfb39909e37d3d032b": {
     "model_module": "@jupyter-widgets/controls",
     "model_name": "HBoxModel",
     "state": {
      "_dom_classes": [],
      "_model_module": "@jupyter-widgets/controls",
      "_model_module_version": "1.5.0",
      "_model_name": "HBoxModel",
      "_view_count": null,
      "_view_module": "@jupyter-widgets/controls",
      "_view_module_version": "1.5.0",
      "_view_name": "HBoxView",
      "box_style": "",
      "children": [
       "IPY_MODEL_12258d97e3ef4de19c2945b84f6bab2f",
       "IPY_MODEL_ee4ace3468d34608bcb98680a4930423"
      ],
      "layout": "IPY_MODEL_0d006d1e0bac49068df2128043442847"
     }
    },
    "12258d97e3ef4de19c2945b84f6bab2f": {
     "model_module": "@jupyter-widgets/controls",
     "model_name": "FloatProgressModel",
     "state": {
      "_dom_classes": [],
      "_model_module": "@jupyter-widgets/controls",
      "_model_module_version": "1.5.0",
      "_model_name": "FloatProgressModel",
      "_view_count": null,
      "_view_module": "@jupyter-widgets/controls",
      "_view_module_version": "1.5.0",
      "_view_name": "ProgressView",
      "bar_style": "danger",
      "description": " 18%",
      "description_tooltip": null,
      "layout": "IPY_MODEL_659ec1d734414595b435941002427dbc",
      "max": 10000,
      "min": 0,
      "orientation": "horizontal",
      "style": "IPY_MODEL_fe93b7b0f2dc4cbe991e4611854646c1",
      "value": 1819
     }
    },
    "157a5f5f54574713ad07a8f33e924971": {
     "model_module": "@jupyter-widgets/controls",
     "model_name": "FloatProgressModel",
     "state": {
      "_dom_classes": [],
      "_model_module": "@jupyter-widgets/controls",
      "_model_module_version": "1.5.0",
      "_model_name": "FloatProgressModel",
      "_view_count": null,
      "_view_module": "@jupyter-widgets/controls",
      "_view_module_version": "1.5.0",
      "_view_name": "ProgressView",
      "bar_style": "danger",
      "description": " 18%",
      "description_tooltip": null,
      "layout": "IPY_MODEL_b609d1ce609749ab8ddd4b577f573a67",
      "max": 10000,
      "min": 0,
      "orientation": "horizontal",
      "style": "IPY_MODEL_bde81281c8274281bd14880f2a10af1b",
      "value": 1803
     }
    },
    "177406bfa0314846a3b9195b4426936e": {
     "model_module": "@jupyter-widgets/base",
     "model_name": "LayoutModel",
     "state": {
      "_model_module": "@jupyter-widgets/base",
      "_model_module_version": "1.2.0",
      "_model_name": "LayoutModel",
      "_view_count": null,
      "_view_module": "@jupyter-widgets/base",
      "_view_module_version": "1.2.0",
      "_view_name": "LayoutView",
      "align_content": null,
      "align_items": null,
      "align_self": null,
      "border": null,
      "bottom": null,
      "display": null,
      "flex": null,
      "flex_flow": null,
      "grid_area": null,
      "grid_auto_columns": null,
      "grid_auto_flow": null,
      "grid_auto_rows": null,
      "grid_column": null,
      "grid_gap": null,
      "grid_row": null,
      "grid_template_areas": null,
      "grid_template_columns": null,
      "grid_template_rows": null,
      "height": null,
      "justify_content": null,
      "justify_items": null,
      "left": null,
      "margin": null,
      "max_height": null,
      "max_width": null,
      "min_height": null,
      "min_width": null,
      "object_fit": null,
      "object_position": null,
      "order": null,
      "overflow": null,
      "overflow_x": null,
      "overflow_y": null,
      "padding": null,
      "right": null,
      "top": null,
      "visibility": null,
      "width": null
     }
    },
    "193f6ddda6a840a297f40f929677dca2": {
     "model_module": "@jupyter-widgets/base",
     "model_name": "LayoutModel",
     "state": {
      "_model_module": "@jupyter-widgets/base",
      "_model_module_version": "1.2.0",
      "_model_name": "LayoutModel",
      "_view_count": null,
      "_view_module": "@jupyter-widgets/base",
      "_view_module_version": "1.2.0",
      "_view_name": "LayoutView",
      "align_content": null,
      "align_items": null,
      "align_self": null,
      "border": null,
      "bottom": null,
      "display": null,
      "flex": null,
      "flex_flow": null,
      "grid_area": null,
      "grid_auto_columns": null,
      "grid_auto_flow": null,
      "grid_auto_rows": null,
      "grid_column": null,
      "grid_gap": null,
      "grid_row": null,
      "grid_template_areas": null,
      "grid_template_columns": null,
      "grid_template_rows": null,
      "height": null,
      "justify_content": null,
      "justify_items": null,
      "left": null,
      "margin": null,
      "max_height": null,
      "max_width": null,
      "min_height": null,
      "min_width": null,
      "object_fit": null,
      "object_position": null,
      "order": null,
      "overflow": null,
      "overflow_x": null,
      "overflow_y": null,
      "padding": null,
      "right": null,
      "top": null,
      "visibility": null,
      "width": null
     }
    },
    "19cb903041eb46878e9adc7d094bb1a2": {
     "model_module": "@jupyter-widgets/controls",
     "model_name": "HTMLModel",
     "state": {
      "_dom_classes": [],
      "_model_module": "@jupyter-widgets/controls",
      "_model_module_version": "1.5.0",
      "_model_name": "HTMLModel",
      "_view_count": null,
      "_view_module": "@jupyter-widgets/controls",
      "_view_module_version": "1.5.0",
      "_view_name": "HTMLView",
      "description": "",
      "description_tooltip": null,
      "layout": "IPY_MODEL_efefc27ad0874b54afac368dec4b3686",
      "placeholder": "​",
      "style": "IPY_MODEL_d981da7873fc4862bcd27addc0ea9098",
      "value": " 1098/10000 [00:44&lt;04:12, 35.28it/s]"
     }
    },
    "1b1b4629afec42529a3d9a20fde31d5f": {
     "model_module": "@jupyter-widgets/controls",
     "model_name": "HBoxModel",
     "state": {
      "_dom_classes": [],
      "_model_module": "@jupyter-widgets/controls",
      "_model_module_version": "1.5.0",
      "_model_name": "HBoxModel",
      "_view_count": null,
      "_view_module": "@jupyter-widgets/controls",
      "_view_module_version": "1.5.0",
      "_view_name": "HBoxView",
      "box_style": "",
      "children": [
       "IPY_MODEL_b456aa72de554da699f24cfba7692463",
       "IPY_MODEL_edd61372427c44b0af3347735f38379c"
      ],
      "layout": "IPY_MODEL_4bc211ea274a4270b64e2cffc7535ad6"
     }
    },
    "1c669089a53b44b7962c5b86e4c2d97a": {
     "model_module": "@jupyter-widgets/controls",
     "model_name": "HTMLModel",
     "state": {
      "_dom_classes": [],
      "_model_module": "@jupyter-widgets/controls",
      "_model_module_version": "1.5.0",
      "_model_name": "HTMLModel",
      "_view_count": null,
      "_view_module": "@jupyter-widgets/controls",
      "_view_module_version": "1.5.0",
      "_view_name": "HTMLView",
      "description": "",
      "description_tooltip": null,
      "layout": "IPY_MODEL_89b9f114af134520b8ec3fe4a8eb4555",
      "placeholder": "​",
      "style": "IPY_MODEL_47b97a972ada465abbdf785cf4ffc141",
      "value": " 2395/10000 [00:58&lt;02:16, 55.79it/s]"
     }
    },
    "1cbad68a773b40efbc2239c3d3728eac": {
     "model_module": "@jupyter-widgets/controls",
     "model_name": "HTMLModel",
     "state": {
      "_dom_classes": [],
      "_model_module": "@jupyter-widgets/controls",
      "_model_module_version": "1.5.0",
      "_model_name": "HTMLModel",
      "_view_count": null,
      "_view_module": "@jupyter-widgets/controls",
      "_view_module_version": "1.5.0",
      "_view_name": "HTMLView",
      "description": "",
      "description_tooltip": null,
      "layout": "IPY_MODEL_97ab960f64eb4eeb9e8782320d3f3245",
      "placeholder": "​",
      "style": "IPY_MODEL_aebee33c7b304117a7cd97844071f75a",
      "value": " 1047/10000 [00:42&lt;04:05, 36.53it/s]"
     }
    },
    "1cf38ff8e9cb4e949b35aa548747219b": {
     "model_module": "@jupyter-widgets/controls",
     "model_name": "DescriptionStyleModel",
     "state": {
      "_model_module": "@jupyter-widgets/controls",
      "_model_module_version": "1.5.0",
      "_model_name": "DescriptionStyleModel",
      "_view_count": null,
      "_view_module": "@jupyter-widgets/base",
      "_view_module_version": "1.2.0",
      "_view_name": "StyleView",
      "description_width": ""
     }
    },
    "1d3b57dacd4f409eb450c4d8a32665b7": {
     "model_module": "@jupyter-widgets/controls",
     "model_name": "HBoxModel",
     "state": {
      "_dom_classes": [],
      "_model_module": "@jupyter-widgets/controls",
      "_model_module_version": "1.5.0",
      "_model_name": "HBoxModel",
      "_view_count": null,
      "_view_module": "@jupyter-widgets/controls",
      "_view_module_version": "1.5.0",
      "_view_name": "HBoxView",
      "box_style": "",
      "children": [
       "IPY_MODEL_157a5f5f54574713ad07a8f33e924971",
       "IPY_MODEL_ebab3a46e4444b508af74e25bdf87db2"
      ],
      "layout": "IPY_MODEL_cdb4e0a44a3149bdb981362601a05c9b"
     }
    },
    "21dfc9f444f54afea1c745fee8cb3f27": {
     "model_module": "@jupyter-widgets/controls",
     "model_name": "FloatProgressModel",
     "state": {
      "_dom_classes": [],
      "_model_module": "@jupyter-widgets/controls",
      "_model_module_version": "1.5.0",
      "_model_name": "FloatProgressModel",
      "_view_count": null,
      "_view_module": "@jupyter-widgets/controls",
      "_view_module_version": "1.5.0",
      "_view_name": "ProgressView",
      "bar_style": "danger",
      "description": " 31%",
      "description_tooltip": null,
      "layout": "IPY_MODEL_94f4daff15fb4d229508c91f646701ba",
      "max": 10000,
      "min": 0,
      "orientation": "horizontal",
      "style": "IPY_MODEL_9a7738fba6534fa2975fd4f5821c246f",
      "value": 3091
     }
    },
    "2497851514d14bab8d013280019592a6": {
     "model_module": "@jupyter-widgets/base",
     "model_name": "LayoutModel",
     "state": {
      "_model_module": "@jupyter-widgets/base",
      "_model_module_version": "1.2.0",
      "_model_name": "LayoutModel",
      "_view_count": null,
      "_view_module": "@jupyter-widgets/base",
      "_view_module_version": "1.2.0",
      "_view_name": "LayoutView",
      "align_content": null,
      "align_items": null,
      "align_self": null,
      "border": null,
      "bottom": null,
      "display": null,
      "flex": null,
      "flex_flow": null,
      "grid_area": null,
      "grid_auto_columns": null,
      "grid_auto_flow": null,
      "grid_auto_rows": null,
      "grid_column": null,
      "grid_gap": null,
      "grid_row": null,
      "grid_template_areas": null,
      "grid_template_columns": null,
      "grid_template_rows": null,
      "height": null,
      "justify_content": null,
      "justify_items": null,
      "left": null,
      "margin": null,
      "max_height": null,
      "max_width": null,
      "min_height": null,
      "min_width": null,
      "object_fit": null,
      "object_position": null,
      "order": null,
      "overflow": null,
      "overflow_x": null,
      "overflow_y": null,
      "padding": null,
      "right": null,
      "top": null,
      "visibility": null,
      "width": null
     }
    },
    "2d9500948e434a4abfceadca7e53b657": {
     "model_module": "@jupyter-widgets/controls",
     "model_name": "ProgressStyleModel",
     "state": {
      "_model_module": "@jupyter-widgets/controls",
      "_model_module_version": "1.5.0",
      "_model_name": "ProgressStyleModel",
      "_view_count": null,
      "_view_module": "@jupyter-widgets/base",
      "_view_module_version": "1.2.0",
      "_view_name": "StyleView",
      "bar_color": null,
      "description_width": "initial"
     }
    },
    "2df9441074e747c187d5d7dcf7ffb851": {
     "model_module": "@jupyter-widgets/controls",
     "model_name": "HBoxModel",
     "state": {
      "_dom_classes": [],
      "_model_module": "@jupyter-widgets/controls",
      "_model_module_version": "1.5.0",
      "_model_name": "HBoxModel",
      "_view_count": null,
      "_view_module": "@jupyter-widgets/controls",
      "_view_module_version": "1.5.0",
      "_view_name": "HBoxView",
      "box_style": "",
      "children": [
       "IPY_MODEL_d9e3524142f7461088e4464b4b0251f7",
       "IPY_MODEL_4c3bbd12e16147279e290e50d532fc0f"
      ],
      "layout": "IPY_MODEL_780ae207accb4286b83cc054e36245ab"
     }
    },
    "3052b85a92874c3fab5e443889a49152": {
     "model_module": "@jupyter-widgets/base",
     "model_name": "LayoutModel",
     "state": {
      "_model_module": "@jupyter-widgets/base",
      "_model_module_version": "1.2.0",
      "_model_name": "LayoutModel",
      "_view_count": null,
      "_view_module": "@jupyter-widgets/base",
      "_view_module_version": "1.2.0",
      "_view_name": "LayoutView",
      "align_content": null,
      "align_items": null,
      "align_self": null,
      "border": null,
      "bottom": null,
      "display": null,
      "flex": null,
      "flex_flow": null,
      "grid_area": null,
      "grid_auto_columns": null,
      "grid_auto_flow": null,
      "grid_auto_rows": null,
      "grid_column": null,
      "grid_gap": null,
      "grid_row": null,
      "grid_template_areas": null,
      "grid_template_columns": null,
      "grid_template_rows": null,
      "height": null,
      "justify_content": null,
      "justify_items": null,
      "left": null,
      "margin": null,
      "max_height": null,
      "max_width": null,
      "min_height": null,
      "min_width": null,
      "object_fit": null,
      "object_position": null,
      "order": null,
      "overflow": null,
      "overflow_x": null,
      "overflow_y": null,
      "padding": null,
      "right": null,
      "top": null,
      "visibility": null,
      "width": null
     }
    },
    "305c61e0d3df4f0fab949b23b349cd0c": {
     "model_module": "@jupyter-widgets/base",
     "model_name": "LayoutModel",
     "state": {
      "_model_module": "@jupyter-widgets/base",
      "_model_module_version": "1.2.0",
      "_model_name": "LayoutModel",
      "_view_count": null,
      "_view_module": "@jupyter-widgets/base",
      "_view_module_version": "1.2.0",
      "_view_name": "LayoutView",
      "align_content": null,
      "align_items": null,
      "align_self": null,
      "border": null,
      "bottom": null,
      "display": null,
      "flex": null,
      "flex_flow": null,
      "grid_area": null,
      "grid_auto_columns": null,
      "grid_auto_flow": null,
      "grid_auto_rows": null,
      "grid_column": null,
      "grid_gap": null,
      "grid_row": null,
      "grid_template_areas": null,
      "grid_template_columns": null,
      "grid_template_rows": null,
      "height": null,
      "justify_content": null,
      "justify_items": null,
      "left": null,
      "margin": null,
      "max_height": null,
      "max_width": null,
      "min_height": null,
      "min_width": null,
      "object_fit": null,
      "object_position": null,
      "order": null,
      "overflow": null,
      "overflow_x": null,
      "overflow_y": null,
      "padding": null,
      "right": null,
      "top": null,
      "visibility": null,
      "width": null
     }
    },
    "30eb130909be45818d41908dc1e9ac13": {
     "model_module": "@jupyter-widgets/base",
     "model_name": "LayoutModel",
     "state": {
      "_model_module": "@jupyter-widgets/base",
      "_model_module_version": "1.2.0",
      "_model_name": "LayoutModel",
      "_view_count": null,
      "_view_module": "@jupyter-widgets/base",
      "_view_module_version": "1.2.0",
      "_view_name": "LayoutView",
      "align_content": null,
      "align_items": null,
      "align_self": null,
      "border": null,
      "bottom": null,
      "display": null,
      "flex": null,
      "flex_flow": null,
      "grid_area": null,
      "grid_auto_columns": null,
      "grid_auto_flow": null,
      "grid_auto_rows": null,
      "grid_column": null,
      "grid_gap": null,
      "grid_row": null,
      "grid_template_areas": null,
      "grid_template_columns": null,
      "grid_template_rows": null,
      "height": null,
      "justify_content": null,
      "justify_items": null,
      "left": null,
      "margin": null,
      "max_height": null,
      "max_width": null,
      "min_height": null,
      "min_width": null,
      "object_fit": null,
      "object_position": null,
      "order": null,
      "overflow": null,
      "overflow_x": null,
      "overflow_y": null,
      "padding": null,
      "right": null,
      "top": null,
      "visibility": null,
      "width": null
     }
    },
    "3175d7cc7d1d4f1283caf328ea6cb530": {
     "model_module": "@jupyter-widgets/controls",
     "model_name": "ProgressStyleModel",
     "state": {
      "_model_module": "@jupyter-widgets/controls",
      "_model_module_version": "1.5.0",
      "_model_name": "ProgressStyleModel",
      "_view_count": null,
      "_view_module": "@jupyter-widgets/base",
      "_view_module_version": "1.2.0",
      "_view_name": "StyleView",
      "bar_color": null,
      "description_width": "initial"
     }
    },
    "3184ea71c14240c789efb27ab821a047": {
     "model_module": "@jupyter-widgets/base",
     "model_name": "LayoutModel",
     "state": {
      "_model_module": "@jupyter-widgets/base",
      "_model_module_version": "1.2.0",
      "_model_name": "LayoutModel",
      "_view_count": null,
      "_view_module": "@jupyter-widgets/base",
      "_view_module_version": "1.2.0",
      "_view_name": "LayoutView",
      "align_content": null,
      "align_items": null,
      "align_self": null,
      "border": null,
      "bottom": null,
      "display": null,
      "flex": null,
      "flex_flow": null,
      "grid_area": null,
      "grid_auto_columns": null,
      "grid_auto_flow": null,
      "grid_auto_rows": null,
      "grid_column": null,
      "grid_gap": null,
      "grid_row": null,
      "grid_template_areas": null,
      "grid_template_columns": null,
      "grid_template_rows": null,
      "height": null,
      "justify_content": null,
      "justify_items": null,
      "left": null,
      "margin": null,
      "max_height": null,
      "max_width": null,
      "min_height": null,
      "min_width": null,
      "object_fit": null,
      "object_position": null,
      "order": null,
      "overflow": null,
      "overflow_x": null,
      "overflow_y": null,
      "padding": null,
      "right": null,
      "top": null,
      "visibility": null,
      "width": null
     }
    },
    "38ad70631e2742f0a982e281ef0b87f9": {
     "model_module": "@jupyter-widgets/controls",
     "model_name": "DescriptionStyleModel",
     "state": {
      "_model_module": "@jupyter-widgets/controls",
      "_model_module_version": "1.5.0",
      "_model_name": "DescriptionStyleModel",
      "_view_count": null,
      "_view_module": "@jupyter-widgets/base",
      "_view_module_version": "1.2.0",
      "_view_name": "StyleView",
      "description_width": ""
     }
    },
    "38c94e66dd9943c6b84272c3fa70449c": {
     "model_module": "@jupyter-widgets/controls",
     "model_name": "HBoxModel",
     "state": {
      "_dom_classes": [],
      "_model_module": "@jupyter-widgets/controls",
      "_model_module_version": "1.5.0",
      "_model_name": "HBoxModel",
      "_view_count": null,
      "_view_module": "@jupyter-widgets/controls",
      "_view_module_version": "1.5.0",
      "_view_name": "HBoxView",
      "box_style": "",
      "children": [
       "IPY_MODEL_730bf64ed08c442a93485889304603a0",
       "IPY_MODEL_f175f4c52ec54614b9df21e4987ae1aa"
      ],
      "layout": "IPY_MODEL_77cc79cf02fd4f6db4f12c1ab97c8e4b"
     }
    },
    "3bcce830c9e049ddb25a46af71a2c740": {
     "model_module": "@jupyter-widgets/base",
     "model_name": "LayoutModel",
     "state": {
      "_model_module": "@jupyter-widgets/base",
      "_model_module_version": "1.2.0",
      "_model_name": "LayoutModel",
      "_view_count": null,
      "_view_module": "@jupyter-widgets/base",
      "_view_module_version": "1.2.0",
      "_view_name": "LayoutView",
      "align_content": null,
      "align_items": null,
      "align_self": null,
      "border": null,
      "bottom": null,
      "display": null,
      "flex": null,
      "flex_flow": null,
      "grid_area": null,
      "grid_auto_columns": null,
      "grid_auto_flow": null,
      "grid_auto_rows": null,
      "grid_column": null,
      "grid_gap": null,
      "grid_row": null,
      "grid_template_areas": null,
      "grid_template_columns": null,
      "grid_template_rows": null,
      "height": null,
      "justify_content": null,
      "justify_items": null,
      "left": null,
      "margin": null,
      "max_height": null,
      "max_width": null,
      "min_height": null,
      "min_width": null,
      "object_fit": null,
      "object_position": null,
      "order": null,
      "overflow": null,
      "overflow_x": null,
      "overflow_y": null,
      "padding": null,
      "right": null,
      "top": null,
      "visibility": null,
      "width": null
     }
    },
    "3c6494f3df824f3ea1f58d0a3d35f533": {
     "model_module": "@jupyter-widgets/controls",
     "model_name": "ProgressStyleModel",
     "state": {
      "_model_module": "@jupyter-widgets/controls",
      "_model_module_version": "1.5.0",
      "_model_name": "ProgressStyleModel",
      "_view_count": null,
      "_view_module": "@jupyter-widgets/base",
      "_view_module_version": "1.2.0",
      "_view_name": "StyleView",
      "bar_color": null,
      "description_width": "initial"
     }
    },
    "3e9173ff8dc449fbb6bffe9ae21ab799": {
     "model_module": "@jupyter-widgets/controls",
     "model_name": "DescriptionStyleModel",
     "state": {
      "_model_module": "@jupyter-widgets/controls",
      "_model_module_version": "1.5.0",
      "_model_name": "DescriptionStyleModel",
      "_view_count": null,
      "_view_module": "@jupyter-widgets/base",
      "_view_module_version": "1.2.0",
      "_view_name": "StyleView",
      "description_width": ""
     }
    },
    "3f56464a3e7b4b6da6bd5c11863848be": {
     "model_module": "@jupyter-widgets/base",
     "model_name": "LayoutModel",
     "state": {
      "_model_module": "@jupyter-widgets/base",
      "_model_module_version": "1.2.0",
      "_model_name": "LayoutModel",
      "_view_count": null,
      "_view_module": "@jupyter-widgets/base",
      "_view_module_version": "1.2.0",
      "_view_name": "LayoutView",
      "align_content": null,
      "align_items": null,
      "align_self": null,
      "border": null,
      "bottom": null,
      "display": null,
      "flex": null,
      "flex_flow": null,
      "grid_area": null,
      "grid_auto_columns": null,
      "grid_auto_flow": null,
      "grid_auto_rows": null,
      "grid_column": null,
      "grid_gap": null,
      "grid_row": null,
      "grid_template_areas": null,
      "grid_template_columns": null,
      "grid_template_rows": null,
      "height": null,
      "justify_content": null,
      "justify_items": null,
      "left": null,
      "margin": null,
      "max_height": null,
      "max_width": null,
      "min_height": null,
      "min_width": null,
      "object_fit": null,
      "object_position": null,
      "order": null,
      "overflow": null,
      "overflow_x": null,
      "overflow_y": null,
      "padding": null,
      "right": null,
      "top": null,
      "visibility": null,
      "width": null
     }
    },
    "40c614abeebe47a599ca927713136f47": {
     "model_module": "@jupyter-widgets/controls",
     "model_name": "FloatProgressModel",
     "state": {
      "_dom_classes": [],
      "_model_module": "@jupyter-widgets/controls",
      "_model_module_version": "1.5.0",
      "_model_name": "FloatProgressModel",
      "_view_count": null,
      "_view_module": "@jupyter-widgets/controls",
      "_view_module_version": "1.5.0",
      "_view_name": "ProgressView",
      "bar_style": "danger",
      "description": " 15%",
      "description_tooltip": null,
      "layout": "IPY_MODEL_955144e9ca684990b0feedcedae5e04d",
      "max": 10000,
      "min": 0,
      "orientation": "horizontal",
      "style": "IPY_MODEL_3c6494f3df824f3ea1f58d0a3d35f533",
      "value": 1525
     }
    },
    "4231842a749a41f0a6336e84be95fbaf": {
     "model_module": "@jupyter-widgets/base",
     "model_name": "LayoutModel",
     "state": {
      "_model_module": "@jupyter-widgets/base",
      "_model_module_version": "1.2.0",
      "_model_name": "LayoutModel",
      "_view_count": null,
      "_view_module": "@jupyter-widgets/base",
      "_view_module_version": "1.2.0",
      "_view_name": "LayoutView",
      "align_content": null,
      "align_items": null,
      "align_self": null,
      "border": null,
      "bottom": null,
      "display": null,
      "flex": null,
      "flex_flow": null,
      "grid_area": null,
      "grid_auto_columns": null,
      "grid_auto_flow": null,
      "grid_auto_rows": null,
      "grid_column": null,
      "grid_gap": null,
      "grid_row": null,
      "grid_template_areas": null,
      "grid_template_columns": null,
      "grid_template_rows": null,
      "height": null,
      "justify_content": null,
      "justify_items": null,
      "left": null,
      "margin": null,
      "max_height": null,
      "max_width": null,
      "min_height": null,
      "min_width": null,
      "object_fit": null,
      "object_position": null,
      "order": null,
      "overflow": null,
      "overflow_x": null,
      "overflow_y": null,
      "padding": null,
      "right": null,
      "top": null,
      "visibility": null,
      "width": null
     }
    },
    "433f3391aa2e4d8db0c973d9f8ca66a1": {
     "model_module": "@jupyter-widgets/base",
     "model_name": "LayoutModel",
     "state": {
      "_model_module": "@jupyter-widgets/base",
      "_model_module_version": "1.2.0",
      "_model_name": "LayoutModel",
      "_view_count": null,
      "_view_module": "@jupyter-widgets/base",
      "_view_module_version": "1.2.0",
      "_view_name": "LayoutView",
      "align_content": null,
      "align_items": null,
      "align_self": null,
      "border": null,
      "bottom": null,
      "display": null,
      "flex": null,
      "flex_flow": null,
      "grid_area": null,
      "grid_auto_columns": null,
      "grid_auto_flow": null,
      "grid_auto_rows": null,
      "grid_column": null,
      "grid_gap": null,
      "grid_row": null,
      "grid_template_areas": null,
      "grid_template_columns": null,
      "grid_template_rows": null,
      "height": null,
      "justify_content": null,
      "justify_items": null,
      "left": null,
      "margin": null,
      "max_height": null,
      "max_width": null,
      "min_height": null,
      "min_width": null,
      "object_fit": null,
      "object_position": null,
      "order": null,
      "overflow": null,
      "overflow_x": null,
      "overflow_y": null,
      "padding": null,
      "right": null,
      "top": null,
      "visibility": null,
      "width": null
     }
    },
    "43fa96bb26844012820c3bdbf6c58595": {
     "model_module": "@jupyter-widgets/base",
     "model_name": "LayoutModel",
     "state": {
      "_model_module": "@jupyter-widgets/base",
      "_model_module_version": "1.2.0",
      "_model_name": "LayoutModel",
      "_view_count": null,
      "_view_module": "@jupyter-widgets/base",
      "_view_module_version": "1.2.0",
      "_view_name": "LayoutView",
      "align_content": null,
      "align_items": null,
      "align_self": null,
      "border": null,
      "bottom": null,
      "display": null,
      "flex": null,
      "flex_flow": null,
      "grid_area": null,
      "grid_auto_columns": null,
      "grid_auto_flow": null,
      "grid_auto_rows": null,
      "grid_column": null,
      "grid_gap": null,
      "grid_row": null,
      "grid_template_areas": null,
      "grid_template_columns": null,
      "grid_template_rows": null,
      "height": null,
      "justify_content": null,
      "justify_items": null,
      "left": null,
      "margin": null,
      "max_height": null,
      "max_width": null,
      "min_height": null,
      "min_width": null,
      "object_fit": null,
      "object_position": null,
      "order": null,
      "overflow": null,
      "overflow_x": null,
      "overflow_y": null,
      "padding": null,
      "right": null,
      "top": null,
      "visibility": null,
      "width": null
     }
    },
    "45542842b50b401a932063bb56fa827c": {
     "model_module": "@jupyter-widgets/base",
     "model_name": "LayoutModel",
     "state": {
      "_model_module": "@jupyter-widgets/base",
      "_model_module_version": "1.2.0",
      "_model_name": "LayoutModel",
      "_view_count": null,
      "_view_module": "@jupyter-widgets/base",
      "_view_module_version": "1.2.0",
      "_view_name": "LayoutView",
      "align_content": null,
      "align_items": null,
      "align_self": null,
      "border": null,
      "bottom": null,
      "display": null,
      "flex": null,
      "flex_flow": null,
      "grid_area": null,
      "grid_auto_columns": null,
      "grid_auto_flow": null,
      "grid_auto_rows": null,
      "grid_column": null,
      "grid_gap": null,
      "grid_row": null,
      "grid_template_areas": null,
      "grid_template_columns": null,
      "grid_template_rows": null,
      "height": null,
      "justify_content": null,
      "justify_items": null,
      "left": null,
      "margin": null,
      "max_height": null,
      "max_width": null,
      "min_height": null,
      "min_width": null,
      "object_fit": null,
      "object_position": null,
      "order": null,
      "overflow": null,
      "overflow_x": null,
      "overflow_y": null,
      "padding": null,
      "right": null,
      "top": null,
      "visibility": null,
      "width": null
     }
    },
    "46d079336c594a29bca5527e4ddc8e97": {
     "model_module": "@jupyter-widgets/base",
     "model_name": "LayoutModel",
     "state": {
      "_model_module": "@jupyter-widgets/base",
      "_model_module_version": "1.2.0",
      "_model_name": "LayoutModel",
      "_view_count": null,
      "_view_module": "@jupyter-widgets/base",
      "_view_module_version": "1.2.0",
      "_view_name": "LayoutView",
      "align_content": null,
      "align_items": null,
      "align_self": null,
      "border": null,
      "bottom": null,
      "display": null,
      "flex": null,
      "flex_flow": null,
      "grid_area": null,
      "grid_auto_columns": null,
      "grid_auto_flow": null,
      "grid_auto_rows": null,
      "grid_column": null,
      "grid_gap": null,
      "grid_row": null,
      "grid_template_areas": null,
      "grid_template_columns": null,
      "grid_template_rows": null,
      "height": null,
      "justify_content": null,
      "justify_items": null,
      "left": null,
      "margin": null,
      "max_height": null,
      "max_width": null,
      "min_height": null,
      "min_width": null,
      "object_fit": null,
      "object_position": null,
      "order": null,
      "overflow": null,
      "overflow_x": null,
      "overflow_y": null,
      "padding": null,
      "right": null,
      "top": null,
      "visibility": null,
      "width": null
     }
    },
    "47b97a972ada465abbdf785cf4ffc141": {
     "model_module": "@jupyter-widgets/controls",
     "model_name": "DescriptionStyleModel",
     "state": {
      "_model_module": "@jupyter-widgets/controls",
      "_model_module_version": "1.5.0",
      "_model_name": "DescriptionStyleModel",
      "_view_count": null,
      "_view_module": "@jupyter-widgets/base",
      "_view_module_version": "1.2.0",
      "_view_name": "StyleView",
      "description_width": ""
     }
    },
    "48d2ac301ab341ad94d154237804ba0d": {
     "model_module": "@jupyter-widgets/controls",
     "model_name": "HBoxModel",
     "state": {
      "_dom_classes": [],
      "_model_module": "@jupyter-widgets/controls",
      "_model_module_version": "1.5.0",
      "_model_name": "HBoxModel",
      "_view_count": null,
      "_view_module": "@jupyter-widgets/controls",
      "_view_module_version": "1.5.0",
      "_view_name": "HBoxView",
      "box_style": "",
      "children": [
       "IPY_MODEL_ab16401f58724c39b8fc016b0d07ce4e",
       "IPY_MODEL_84288c4297fb4fac9ef0fd6965d79f7d"
      ],
      "layout": "IPY_MODEL_af5ba12400524ea18e4c20cc28654c45"
     }
    },
    "4bc211ea274a4270b64e2cffc7535ad6": {
     "model_module": "@jupyter-widgets/base",
     "model_name": "LayoutModel",
     "state": {
      "_model_module": "@jupyter-widgets/base",
      "_model_module_version": "1.2.0",
      "_model_name": "LayoutModel",
      "_view_count": null,
      "_view_module": "@jupyter-widgets/base",
      "_view_module_version": "1.2.0",
      "_view_name": "LayoutView",
      "align_content": null,
      "align_items": null,
      "align_self": null,
      "border": null,
      "bottom": null,
      "display": null,
      "flex": null,
      "flex_flow": null,
      "grid_area": null,
      "grid_auto_columns": null,
      "grid_auto_flow": null,
      "grid_auto_rows": null,
      "grid_column": null,
      "grid_gap": null,
      "grid_row": null,
      "grid_template_areas": null,
      "grid_template_columns": null,
      "grid_template_rows": null,
      "height": null,
      "justify_content": null,
      "justify_items": null,
      "left": null,
      "margin": null,
      "max_height": null,
      "max_width": null,
      "min_height": null,
      "min_width": null,
      "object_fit": null,
      "object_position": null,
      "order": null,
      "overflow": null,
      "overflow_x": null,
      "overflow_y": null,
      "padding": null,
      "right": null,
      "top": null,
      "visibility": null,
      "width": null
     }
    },
    "4c3bbd12e16147279e290e50d532fc0f": {
     "model_module": "@jupyter-widgets/controls",
     "model_name": "HTMLModel",
     "state": {
      "_dom_classes": [],
      "_model_module": "@jupyter-widgets/controls",
      "_model_module_version": "1.5.0",
      "_model_name": "HTMLModel",
      "_view_count": null,
      "_view_module": "@jupyter-widgets/controls",
      "_view_module_version": "1.5.0",
      "_view_name": "HTMLView",
      "description": "",
      "description_tooltip": null,
      "layout": "IPY_MODEL_b498d509b8c14a9d86f53428e53386ea",
      "placeholder": "​",
      "style": "IPY_MODEL_c96e155b63414f879485f953b54c5977",
      "value": " 2516/10000 [00:48&lt;01:27, 85.92it/s]"
     }
    },
    "4dbb430abed640799ce6ea7d109eaa91": {
     "model_module": "@jupyter-widgets/base",
     "model_name": "LayoutModel",
     "state": {
      "_model_module": "@jupyter-widgets/base",
      "_model_module_version": "1.2.0",
      "_model_name": "LayoutModel",
      "_view_count": null,
      "_view_module": "@jupyter-widgets/base",
      "_view_module_version": "1.2.0",
      "_view_name": "LayoutView",
      "align_content": null,
      "align_items": null,
      "align_self": null,
      "border": null,
      "bottom": null,
      "display": null,
      "flex": null,
      "flex_flow": null,
      "grid_area": null,
      "grid_auto_columns": null,
      "grid_auto_flow": null,
      "grid_auto_rows": null,
      "grid_column": null,
      "grid_gap": null,
      "grid_row": null,
      "grid_template_areas": null,
      "grid_template_columns": null,
      "grid_template_rows": null,
      "height": null,
      "justify_content": null,
      "justify_items": null,
      "left": null,
      "margin": null,
      "max_height": null,
      "max_width": null,
      "min_height": null,
      "min_width": null,
      "object_fit": null,
      "object_position": null,
      "order": null,
      "overflow": null,
      "overflow_x": null,
      "overflow_y": null,
      "padding": null,
      "right": null,
      "top": null,
      "visibility": null,
      "width": null
     }
    },
    "4f64f38c700a48819277a32bab4ab276": {
     "model_module": "@jupyter-widgets/controls",
     "model_name": "HTMLModel",
     "state": {
      "_dom_classes": [],
      "_model_module": "@jupyter-widgets/controls",
      "_model_module_version": "1.5.0",
      "_model_name": "HTMLModel",
      "_view_count": null,
      "_view_module": "@jupyter-widgets/controls",
      "_view_module_version": "1.5.0",
      "_view_name": "HTMLView",
      "description": "",
      "description_tooltip": null,
      "layout": "IPY_MODEL_3052b85a92874c3fab5e443889a49152",
      "placeholder": "​",
      "style": "IPY_MODEL_0b78818fae004cdabe40660411e18cb0",
      "value": " 3091/10000 [00:50&lt;01:11, 96.17it/s]"
     }
    },
    "526014903b54433e87d45ae637595a80": {
     "model_module": "@jupyter-widgets/controls",
     "model_name": "ProgressStyleModel",
     "state": {
      "_model_module": "@jupyter-widgets/controls",
      "_model_module_version": "1.5.0",
      "_model_name": "ProgressStyleModel",
      "_view_count": null,
      "_view_module": "@jupyter-widgets/base",
      "_view_module_version": "1.2.0",
      "_view_name": "StyleView",
      "bar_color": null,
      "description_width": "initial"
     }
    },
    "528ae25ef0934108a6af114f94d172fc": {
     "model_module": "@jupyter-widgets/base",
     "model_name": "LayoutModel",
     "state": {
      "_model_module": "@jupyter-widgets/base",
      "_model_module_version": "1.2.0",
      "_model_name": "LayoutModel",
      "_view_count": null,
      "_view_module": "@jupyter-widgets/base",
      "_view_module_version": "1.2.0",
      "_view_name": "LayoutView",
      "align_content": null,
      "align_items": null,
      "align_self": null,
      "border": null,
      "bottom": null,
      "display": null,
      "flex": null,
      "flex_flow": null,
      "grid_area": null,
      "grid_auto_columns": null,
      "grid_auto_flow": null,
      "grid_auto_rows": null,
      "grid_column": null,
      "grid_gap": null,
      "grid_row": null,
      "grid_template_areas": null,
      "grid_template_columns": null,
      "grid_template_rows": null,
      "height": null,
      "justify_content": null,
      "justify_items": null,
      "left": null,
      "margin": null,
      "max_height": null,
      "max_width": null,
      "min_height": null,
      "min_width": null,
      "object_fit": null,
      "object_position": null,
      "order": null,
      "overflow": null,
      "overflow_x": null,
      "overflow_y": null,
      "padding": null,
      "right": null,
      "top": null,
      "visibility": null,
      "width": null
     }
    },
    "54551821bf554d2fa5faed7f3731b2e3": {
     "model_module": "@jupyter-widgets/controls",
     "model_name": "FloatProgressModel",
     "state": {
      "_dom_classes": [],
      "_model_module": "@jupyter-widgets/controls",
      "_model_module_version": "1.5.0",
      "_model_name": "FloatProgressModel",
      "_view_count": null,
      "_view_module": "@jupyter-widgets/controls",
      "_view_module_version": "1.5.0",
      "_view_name": "ProgressView",
      "bar_style": "danger",
      "description": " 11%",
      "description_tooltip": null,
      "layout": "IPY_MODEL_9b44a495a1384c32ae933dd4f603c3b9",
      "max": 10000,
      "min": 0,
      "orientation": "horizontal",
      "style": "IPY_MODEL_e5c0152d907f4f3ca9490b8c033f9866",
      "value": 1119
     }
    },
    "5bef31962a874d5c80c442822989f3bd": {
     "model_module": "@jupyter-widgets/base",
     "model_name": "LayoutModel",
     "state": {
      "_model_module": "@jupyter-widgets/base",
      "_model_module_version": "1.2.0",
      "_model_name": "LayoutModel",
      "_view_count": null,
      "_view_module": "@jupyter-widgets/base",
      "_view_module_version": "1.2.0",
      "_view_name": "LayoutView",
      "align_content": null,
      "align_items": null,
      "align_self": null,
      "border": null,
      "bottom": null,
      "display": null,
      "flex": null,
      "flex_flow": null,
      "grid_area": null,
      "grid_auto_columns": null,
      "grid_auto_flow": null,
      "grid_auto_rows": null,
      "grid_column": null,
      "grid_gap": null,
      "grid_row": null,
      "grid_template_areas": null,
      "grid_template_columns": null,
      "grid_template_rows": null,
      "height": null,
      "justify_content": null,
      "justify_items": null,
      "left": null,
      "margin": null,
      "max_height": null,
      "max_width": null,
      "min_height": null,
      "min_width": null,
      "object_fit": null,
      "object_position": null,
      "order": null,
      "overflow": null,
      "overflow_x": null,
      "overflow_y": null,
      "padding": null,
      "right": null,
      "top": null,
      "visibility": null,
      "width": null
     }
    },
    "5c5f513235ee47dfb59c83eef1537fb0": {
     "model_module": "@jupyter-widgets/controls",
     "model_name": "HBoxModel",
     "state": {
      "_dom_classes": [],
      "_model_module": "@jupyter-widgets/controls",
      "_model_module_version": "1.5.0",
      "_model_name": "HBoxModel",
      "_view_count": null,
      "_view_module": "@jupyter-widgets/controls",
      "_view_module_version": "1.5.0",
      "_view_name": "HBoxView",
      "box_style": "",
      "children": [
       "IPY_MODEL_40c614abeebe47a599ca927713136f47",
       "IPY_MODEL_b324371a5eca4fe5a4c585c50f7eebfd"
      ],
      "layout": "IPY_MODEL_f26077febd6d46e0b0a3ccde2c53c378"
     }
    },
    "659ec1d734414595b435941002427dbc": {
     "model_module": "@jupyter-widgets/base",
     "model_name": "LayoutModel",
     "state": {
      "_model_module": "@jupyter-widgets/base",
      "_model_module_version": "1.2.0",
      "_model_name": "LayoutModel",
      "_view_count": null,
      "_view_module": "@jupyter-widgets/base",
      "_view_module_version": "1.2.0",
      "_view_name": "LayoutView",
      "align_content": null,
      "align_items": null,
      "align_self": null,
      "border": null,
      "bottom": null,
      "display": null,
      "flex": null,
      "flex_flow": null,
      "grid_area": null,
      "grid_auto_columns": null,
      "grid_auto_flow": null,
      "grid_auto_rows": null,
      "grid_column": null,
      "grid_gap": null,
      "grid_row": null,
      "grid_template_areas": null,
      "grid_template_columns": null,
      "grid_template_rows": null,
      "height": null,
      "justify_content": null,
      "justify_items": null,
      "left": null,
      "margin": null,
      "max_height": null,
      "max_width": null,
      "min_height": null,
      "min_width": null,
      "object_fit": null,
      "object_position": null,
      "order": null,
      "overflow": null,
      "overflow_x": null,
      "overflow_y": null,
      "padding": null,
      "right": null,
      "top": null,
      "visibility": null,
      "width": null
     }
    },
    "65af1c9982c7493d94319221f104bc84": {
     "model_module": "@jupyter-widgets/controls",
     "model_name": "HBoxModel",
     "state": {
      "_dom_classes": [],
      "_model_module": "@jupyter-widgets/controls",
      "_model_module_version": "1.5.0",
      "_model_name": "HBoxModel",
      "_view_count": null,
      "_view_module": "@jupyter-widgets/controls",
      "_view_module_version": "1.5.0",
      "_view_name": "HBoxView",
      "box_style": "",
      "children": [
       "IPY_MODEL_21dfc9f444f54afea1c745fee8cb3f27",
       "IPY_MODEL_4f64f38c700a48819277a32bab4ab276"
      ],
      "layout": "IPY_MODEL_e623d1ff487948f2af661b7ec30de261"
     }
    },
    "67dbf9d066444f779c5379b86b76194c": {
     "model_module": "@jupyter-widgets/controls",
     "model_name": "HBoxModel",
     "state": {
      "_dom_classes": [],
      "_model_module": "@jupyter-widgets/controls",
      "_model_module_version": "1.5.0",
      "_model_name": "HBoxModel",
      "_view_count": null,
      "_view_module": "@jupyter-widgets/controls",
      "_view_module_version": "1.5.0",
      "_view_name": "HBoxView",
      "box_style": "",
      "children": [
       "IPY_MODEL_a3fbab14459f45068e21d4ee0d93eec9",
       "IPY_MODEL_c3c970ebb6be407b9f4c5e98ced90d8c"
      ],
      "layout": "IPY_MODEL_7b9844ab2de44b06b83dcb10a38ce442"
     }
    },
    "69779c6fed78471bbce0e0a5776dfc54": {
     "model_module": "@jupyter-widgets/base",
     "model_name": "LayoutModel",
     "state": {
      "_model_module": "@jupyter-widgets/base",
      "_model_module_version": "1.2.0",
      "_model_name": "LayoutModel",
      "_view_count": null,
      "_view_module": "@jupyter-widgets/base",
      "_view_module_version": "1.2.0",
      "_view_name": "LayoutView",
      "align_content": null,
      "align_items": null,
      "align_self": null,
      "border": null,
      "bottom": null,
      "display": null,
      "flex": null,
      "flex_flow": null,
      "grid_area": null,
      "grid_auto_columns": null,
      "grid_auto_flow": null,
      "grid_auto_rows": null,
      "grid_column": null,
      "grid_gap": null,
      "grid_row": null,
      "grid_template_areas": null,
      "grid_template_columns": null,
      "grid_template_rows": null,
      "height": null,
      "justify_content": null,
      "justify_items": null,
      "left": null,
      "margin": null,
      "max_height": null,
      "max_width": null,
      "min_height": null,
      "min_width": null,
      "object_fit": null,
      "object_position": null,
      "order": null,
      "overflow": null,
      "overflow_x": null,
      "overflow_y": null,
      "padding": null,
      "right": null,
      "top": null,
      "visibility": null,
      "width": null
     }
    },
    "6be5a8b9d10a4918a13c5db8f8e51b8e": {
     "model_module": "@jupyter-widgets/controls",
     "model_name": "HTMLModel",
     "state": {
      "_dom_classes": [],
      "_model_module": "@jupyter-widgets/controls",
      "_model_module_version": "1.5.0",
      "_model_name": "HTMLModel",
      "_view_count": null,
      "_view_module": "@jupyter-widgets/controls",
      "_view_module_version": "1.5.0",
      "_view_name": "HTMLView",
      "description": "",
      "description_tooltip": null,
      "layout": "IPY_MODEL_d09641ef886e4e9cbb3f3af7847346de",
      "placeholder": "​",
      "style": "IPY_MODEL_b164ddc950ec43b1bbc5c22ac674d051",
      "value": " 2638/10000 [00:51&lt;01:42, 72.07it/s]"
     }
    },
    "6d752ceade63446abb037120800dcb17": {
     "model_module": "@jupyter-widgets/controls",
     "model_name": "FloatProgressModel",
     "state": {
      "_dom_classes": [],
      "_model_module": "@jupyter-widgets/controls",
      "_model_module_version": "1.5.0",
      "_model_name": "FloatProgressModel",
      "_view_count": null,
      "_view_module": "@jupyter-widgets/controls",
      "_view_module_version": "1.5.0",
      "_view_name": "ProgressView",
      "bar_style": "danger",
      "description": " 10%",
      "description_tooltip": null,
      "layout": "IPY_MODEL_4231842a749a41f0a6336e84be95fbaf",
      "max": 10000,
      "min": 0,
      "orientation": "horizontal",
      "style": "IPY_MODEL_2d9500948e434a4abfceadca7e53b657",
      "value": 1047
     }
    },
    "71d30786819040e0bb19d2738d8d2762": {
     "model_module": "@jupyter-widgets/base",
     "model_name": "LayoutModel",
     "state": {
      "_model_module": "@jupyter-widgets/base",
      "_model_module_version": "1.2.0",
      "_model_name": "LayoutModel",
      "_view_count": null,
      "_view_module": "@jupyter-widgets/base",
      "_view_module_version": "1.2.0",
      "_view_name": "LayoutView",
      "align_content": null,
      "align_items": null,
      "align_self": null,
      "border": null,
      "bottom": null,
      "display": null,
      "flex": null,
      "flex_flow": null,
      "grid_area": null,
      "grid_auto_columns": null,
      "grid_auto_flow": null,
      "grid_auto_rows": null,
      "grid_column": null,
      "grid_gap": null,
      "grid_row": null,
      "grid_template_areas": null,
      "grid_template_columns": null,
      "grid_template_rows": null,
      "height": null,
      "justify_content": null,
      "justify_items": null,
      "left": null,
      "margin": null,
      "max_height": null,
      "max_width": null,
      "min_height": null,
      "min_width": null,
      "object_fit": null,
      "object_position": null,
      "order": null,
      "overflow": null,
      "overflow_x": null,
      "overflow_y": null,
      "padding": null,
      "right": null,
      "top": null,
      "visibility": null,
      "width": null
     }
    },
    "71ea446189604e07884014cffeaf5266": {
     "model_module": "@jupyter-widgets/controls",
     "model_name": "ProgressStyleModel",
     "state": {
      "_model_module": "@jupyter-widgets/controls",
      "_model_module_version": "1.5.0",
      "_model_name": "ProgressStyleModel",
      "_view_count": null,
      "_view_module": "@jupyter-widgets/base",
      "_view_module_version": "1.2.0",
      "_view_name": "StyleView",
      "bar_color": null,
      "description_width": "initial"
     }
    },
    "7270f06ffd114ad6a2a727866056bca9": {
     "model_module": "@jupyter-widgets/controls",
     "model_name": "HBoxModel",
     "state": {
      "_dom_classes": [],
      "_model_module": "@jupyter-widgets/controls",
      "_model_module_version": "1.5.0",
      "_model_name": "HBoxModel",
      "_view_count": null,
      "_view_module": "@jupyter-widgets/controls",
      "_view_module_version": "1.5.0",
      "_view_name": "HBoxView",
      "box_style": "",
      "children": [
       "IPY_MODEL_b5fa1c29e8b54d139cf72df93932400e",
       "IPY_MODEL_6be5a8b9d10a4918a13c5db8f8e51b8e"
      ],
      "layout": "IPY_MODEL_177406bfa0314846a3b9195b4426936e"
     }
    },
    "730bf64ed08c442a93485889304603a0": {
     "model_module": "@jupyter-widgets/controls",
     "model_name": "FloatProgressModel",
     "state": {
      "_dom_classes": [],
      "_model_module": "@jupyter-widgets/controls",
      "_model_module_version": "1.5.0",
      "_model_name": "FloatProgressModel",
      "_view_count": null,
      "_view_module": "@jupyter-widgets/controls",
      "_view_module_version": "1.5.0",
      "_view_name": "ProgressView",
      "bar_style": "danger",
      "description": " 36%",
      "description_tooltip": null,
      "layout": "IPY_MODEL_85fd14f9c5314c5c832950485fb1190e",
      "max": 10000,
      "min": 0,
      "orientation": "horizontal",
      "style": "IPY_MODEL_eb53a3c05f254b2cbc4e771327850c61",
      "value": 3560
     }
    },
    "77cc79cf02fd4f6db4f12c1ab97c8e4b": {
     "model_module": "@jupyter-widgets/base",
     "model_name": "LayoutModel",
     "state": {
      "_model_module": "@jupyter-widgets/base",
      "_model_module_version": "1.2.0",
      "_model_name": "LayoutModel",
      "_view_count": null,
      "_view_module": "@jupyter-widgets/base",
      "_view_module_version": "1.2.0",
      "_view_name": "LayoutView",
      "align_content": null,
      "align_items": null,
      "align_self": null,
      "border": null,
      "bottom": null,
      "display": null,
      "flex": null,
      "flex_flow": null,
      "grid_area": null,
      "grid_auto_columns": null,
      "grid_auto_flow": null,
      "grid_auto_rows": null,
      "grid_column": null,
      "grid_gap": null,
      "grid_row": null,
      "grid_template_areas": null,
      "grid_template_columns": null,
      "grid_template_rows": null,
      "height": null,
      "justify_content": null,
      "justify_items": null,
      "left": null,
      "margin": null,
      "max_height": null,
      "max_width": null,
      "min_height": null,
      "min_width": null,
      "object_fit": null,
      "object_position": null,
      "order": null,
      "overflow": null,
      "overflow_x": null,
      "overflow_y": null,
      "padding": null,
      "right": null,
      "top": null,
      "visibility": null,
      "width": null
     }
    },
    "780ae207accb4286b83cc054e36245ab": {
     "model_module": "@jupyter-widgets/base",
     "model_name": "LayoutModel",
     "state": {
      "_model_module": "@jupyter-widgets/base",
      "_model_module_version": "1.2.0",
      "_model_name": "LayoutModel",
      "_view_count": null,
      "_view_module": "@jupyter-widgets/base",
      "_view_module_version": "1.2.0",
      "_view_name": "LayoutView",
      "align_content": null,
      "align_items": null,
      "align_self": null,
      "border": null,
      "bottom": null,
      "display": null,
      "flex": null,
      "flex_flow": null,
      "grid_area": null,
      "grid_auto_columns": null,
      "grid_auto_flow": null,
      "grid_auto_rows": null,
      "grid_column": null,
      "grid_gap": null,
      "grid_row": null,
      "grid_template_areas": null,
      "grid_template_columns": null,
      "grid_template_rows": null,
      "height": null,
      "justify_content": null,
      "justify_items": null,
      "left": null,
      "margin": null,
      "max_height": null,
      "max_width": null,
      "min_height": null,
      "min_width": null,
      "object_fit": null,
      "object_position": null,
      "order": null,
      "overflow": null,
      "overflow_x": null,
      "overflow_y": null,
      "padding": null,
      "right": null,
      "top": null,
      "visibility": null,
      "width": null
     }
    },
    "7b9844ab2de44b06b83dcb10a38ce442": {
     "model_module": "@jupyter-widgets/base",
     "model_name": "LayoutModel",
     "state": {
      "_model_module": "@jupyter-widgets/base",
      "_model_module_version": "1.2.0",
      "_model_name": "LayoutModel",
      "_view_count": null,
      "_view_module": "@jupyter-widgets/base",
      "_view_module_version": "1.2.0",
      "_view_name": "LayoutView",
      "align_content": null,
      "align_items": null,
      "align_self": null,
      "border": null,
      "bottom": null,
      "display": null,
      "flex": null,
      "flex_flow": null,
      "grid_area": null,
      "grid_auto_columns": null,
      "grid_auto_flow": null,
      "grid_auto_rows": null,
      "grid_column": null,
      "grid_gap": null,
      "grid_row": null,
      "grid_template_areas": null,
      "grid_template_columns": null,
      "grid_template_rows": null,
      "height": null,
      "justify_content": null,
      "justify_items": null,
      "left": null,
      "margin": null,
      "max_height": null,
      "max_width": null,
      "min_height": null,
      "min_width": null,
      "object_fit": null,
      "object_position": null,
      "order": null,
      "overflow": null,
      "overflow_x": null,
      "overflow_y": null,
      "padding": null,
      "right": null,
      "top": null,
      "visibility": null,
      "width": null
     }
    },
    "7be35c2c6c7a41a8889f5d84f1f1481f": {
     "model_module": "@jupyter-widgets/controls",
     "model_name": "DescriptionStyleModel",
     "state": {
      "_model_module": "@jupyter-widgets/controls",
      "_model_module_version": "1.5.0",
      "_model_name": "DescriptionStyleModel",
      "_view_count": null,
      "_view_module": "@jupyter-widgets/base",
      "_view_module_version": "1.2.0",
      "_view_name": "StyleView",
      "description_width": ""
     }
    },
    "7e423cb2f57f4880840d27571a4227a1": {
     "model_module": "@jupyter-widgets/controls",
     "model_name": "ProgressStyleModel",
     "state": {
      "_model_module": "@jupyter-widgets/controls",
      "_model_module_version": "1.5.0",
      "_model_name": "ProgressStyleModel",
      "_view_count": null,
      "_view_module": "@jupyter-widgets/base",
      "_view_module_version": "1.2.0",
      "_view_name": "StyleView",
      "bar_color": null,
      "description_width": "initial"
     }
    },
    "7f5766c577834e3da4b81827c7bba627": {
     "model_module": "@jupyter-widgets/controls",
     "model_name": "DescriptionStyleModel",
     "state": {
      "_model_module": "@jupyter-widgets/controls",
      "_model_module_version": "1.5.0",
      "_model_name": "DescriptionStyleModel",
      "_view_count": null,
      "_view_module": "@jupyter-widgets/base",
      "_view_module_version": "1.2.0",
      "_view_name": "StyleView",
      "description_width": ""
     }
    },
    "808202c908524f508ab3487bdce260ba": {
     "model_module": "@jupyter-widgets/controls",
     "model_name": "HTMLModel",
     "state": {
      "_dom_classes": [],
      "_model_module": "@jupyter-widgets/controls",
      "_model_module_version": "1.5.0",
      "_model_name": "HTMLModel",
      "_view_count": null,
      "_view_module": "@jupyter-widgets/controls",
      "_view_module_version": "1.5.0",
      "_view_name": "HTMLView",
      "description": "",
      "description_tooltip": null,
      "layout": "IPY_MODEL_3184ea71c14240c789efb27ab821a047",
      "placeholder": "​",
      "style": "IPY_MODEL_b9802ed0e8df4693aadcae2270102916",
      "value": " 1072/10000 [00:35&lt;02:21, 63.22it/s]"
     }
    },
    "82c0c561632f44cc8efac13047babc83": {
     "model_module": "@jupyter-widgets/controls",
     "model_name": "ProgressStyleModel",
     "state": {
      "_model_module": "@jupyter-widgets/controls",
      "_model_module_version": "1.5.0",
      "_model_name": "ProgressStyleModel",
      "_view_count": null,
      "_view_module": "@jupyter-widgets/base",
      "_view_module_version": "1.2.0",
      "_view_name": "StyleView",
      "bar_color": null,
      "description_width": "initial"
     }
    },
    "84288c4297fb4fac9ef0fd6965d79f7d": {
     "model_module": "@jupyter-widgets/controls",
     "model_name": "HTMLModel",
     "state": {
      "_dom_classes": [],
      "_model_module": "@jupyter-widgets/controls",
      "_model_module_version": "1.5.0",
      "_model_name": "HTMLModel",
      "_view_count": null,
      "_view_module": "@jupyter-widgets/controls",
      "_view_module_version": "1.5.0",
      "_view_name": "HTMLView",
      "description": "",
      "description_tooltip": null,
      "layout": "IPY_MODEL_b9408c5551f145569c02ad972693d3e5",
      "placeholder": "​",
      "style": "IPY_MODEL_bf390e6321ee467c97f6c83501fc08eb",
      "value": " 1036/10000 [00:29&lt;02:32, 58.84it/s]"
     }
    },
    "85fd14f9c5314c5c832950485fb1190e": {
     "model_module": "@jupyter-widgets/base",
     "model_name": "LayoutModel",
     "state": {
      "_model_module": "@jupyter-widgets/base",
      "_model_module_version": "1.2.0",
      "_model_name": "LayoutModel",
      "_view_count": null,
      "_view_module": "@jupyter-widgets/base",
      "_view_module_version": "1.2.0",
      "_view_name": "LayoutView",
      "align_content": null,
      "align_items": null,
      "align_self": null,
      "border": null,
      "bottom": null,
      "display": null,
      "flex": null,
      "flex_flow": null,
      "grid_area": null,
      "grid_auto_columns": null,
      "grid_auto_flow": null,
      "grid_auto_rows": null,
      "grid_column": null,
      "grid_gap": null,
      "grid_row": null,
      "grid_template_areas": null,
      "grid_template_columns": null,
      "grid_template_rows": null,
      "height": null,
      "justify_content": null,
      "justify_items": null,
      "left": null,
      "margin": null,
      "max_height": null,
      "max_width": null,
      "min_height": null,
      "min_width": null,
      "object_fit": null,
      "object_position": null,
      "order": null,
      "overflow": null,
      "overflow_x": null,
      "overflow_y": null,
      "padding": null,
      "right": null,
      "top": null,
      "visibility": null,
      "width": null
     }
    },
    "89b9f114af134520b8ec3fe4a8eb4555": {
     "model_module": "@jupyter-widgets/base",
     "model_name": "LayoutModel",
     "state": {
      "_model_module": "@jupyter-widgets/base",
      "_model_module_version": "1.2.0",
      "_model_name": "LayoutModel",
      "_view_count": null,
      "_view_module": "@jupyter-widgets/base",
      "_view_module_version": "1.2.0",
      "_view_name": "LayoutView",
      "align_content": null,
      "align_items": null,
      "align_self": null,
      "border": null,
      "bottom": null,
      "display": null,
      "flex": null,
      "flex_flow": null,
      "grid_area": null,
      "grid_auto_columns": null,
      "grid_auto_flow": null,
      "grid_auto_rows": null,
      "grid_column": null,
      "grid_gap": null,
      "grid_row": null,
      "grid_template_areas": null,
      "grid_template_columns": null,
      "grid_template_rows": null,
      "height": null,
      "justify_content": null,
      "justify_items": null,
      "left": null,
      "margin": null,
      "max_height": null,
      "max_width": null,
      "min_height": null,
      "min_width": null,
      "object_fit": null,
      "object_position": null,
      "order": null,
      "overflow": null,
      "overflow_x": null,
      "overflow_y": null,
      "padding": null,
      "right": null,
      "top": null,
      "visibility": null,
      "width": null
     }
    },
    "8c6a4da2fa104daaa93c1f667543163c": {
     "model_module": "@jupyter-widgets/controls",
     "model_name": "HBoxModel",
     "state": {
      "_dom_classes": [],
      "_model_module": "@jupyter-widgets/controls",
      "_model_module_version": "1.5.0",
      "_model_name": "HBoxModel",
      "_view_count": null,
      "_view_module": "@jupyter-widgets/controls",
      "_view_module_version": "1.5.0",
      "_view_name": "HBoxView",
      "box_style": "",
      "children": [
       "IPY_MODEL_e894e073f26a4cc7a24b55d510361d8e",
       "IPY_MODEL_be799150b219477195fa4e7ca8a36710"
      ],
      "layout": "IPY_MODEL_a13791638d044d58be74e1bca7b2be13"
     }
    },
    "94f4daff15fb4d229508c91f646701ba": {
     "model_module": "@jupyter-widgets/base",
     "model_name": "LayoutModel",
     "state": {
      "_model_module": "@jupyter-widgets/base",
      "_model_module_version": "1.2.0",
      "_model_name": "LayoutModel",
      "_view_count": null,
      "_view_module": "@jupyter-widgets/base",
      "_view_module_version": "1.2.0",
      "_view_name": "LayoutView",
      "align_content": null,
      "align_items": null,
      "align_self": null,
      "border": null,
      "bottom": null,
      "display": null,
      "flex": null,
      "flex_flow": null,
      "grid_area": null,
      "grid_auto_columns": null,
      "grid_auto_flow": null,
      "grid_auto_rows": null,
      "grid_column": null,
      "grid_gap": null,
      "grid_row": null,
      "grid_template_areas": null,
      "grid_template_columns": null,
      "grid_template_rows": null,
      "height": null,
      "justify_content": null,
      "justify_items": null,
      "left": null,
      "margin": null,
      "max_height": null,
      "max_width": null,
      "min_height": null,
      "min_width": null,
      "object_fit": null,
      "object_position": null,
      "order": null,
      "overflow": null,
      "overflow_x": null,
      "overflow_y": null,
      "padding": null,
      "right": null,
      "top": null,
      "visibility": null,
      "width": null
     }
    },
    "955144e9ca684990b0feedcedae5e04d": {
     "model_module": "@jupyter-widgets/base",
     "model_name": "LayoutModel",
     "state": {
      "_model_module": "@jupyter-widgets/base",
      "_model_module_version": "1.2.0",
      "_model_name": "LayoutModel",
      "_view_count": null,
      "_view_module": "@jupyter-widgets/base",
      "_view_module_version": "1.2.0",
      "_view_name": "LayoutView",
      "align_content": null,
      "align_items": null,
      "align_self": null,
      "border": null,
      "bottom": null,
      "display": null,
      "flex": null,
      "flex_flow": null,
      "grid_area": null,
      "grid_auto_columns": null,
      "grid_auto_flow": null,
      "grid_auto_rows": null,
      "grid_column": null,
      "grid_gap": null,
      "grid_row": null,
      "grid_template_areas": null,
      "grid_template_columns": null,
      "grid_template_rows": null,
      "height": null,
      "justify_content": null,
      "justify_items": null,
      "left": null,
      "margin": null,
      "max_height": null,
      "max_width": null,
      "min_height": null,
      "min_width": null,
      "object_fit": null,
      "object_position": null,
      "order": null,
      "overflow": null,
      "overflow_x": null,
      "overflow_y": null,
      "padding": null,
      "right": null,
      "top": null,
      "visibility": null,
      "width": null
     }
    },
    "97ab960f64eb4eeb9e8782320d3f3245": {
     "model_module": "@jupyter-widgets/base",
     "model_name": "LayoutModel",
     "state": {
      "_model_module": "@jupyter-widgets/base",
      "_model_module_version": "1.2.0",
      "_model_name": "LayoutModel",
      "_view_count": null,
      "_view_module": "@jupyter-widgets/base",
      "_view_module_version": "1.2.0",
      "_view_name": "LayoutView",
      "align_content": null,
      "align_items": null,
      "align_self": null,
      "border": null,
      "bottom": null,
      "display": null,
      "flex": null,
      "flex_flow": null,
      "grid_area": null,
      "grid_auto_columns": null,
      "grid_auto_flow": null,
      "grid_auto_rows": null,
      "grid_column": null,
      "grid_gap": null,
      "grid_row": null,
      "grid_template_areas": null,
      "grid_template_columns": null,
      "grid_template_rows": null,
      "height": null,
      "justify_content": null,
      "justify_items": null,
      "left": null,
      "margin": null,
      "max_height": null,
      "max_width": null,
      "min_height": null,
      "min_width": null,
      "object_fit": null,
      "object_position": null,
      "order": null,
      "overflow": null,
      "overflow_x": null,
      "overflow_y": null,
      "padding": null,
      "right": null,
      "top": null,
      "visibility": null,
      "width": null
     }
    },
    "9a7738fba6534fa2975fd4f5821c246f": {
     "model_module": "@jupyter-widgets/controls",
     "model_name": "ProgressStyleModel",
     "state": {
      "_model_module": "@jupyter-widgets/controls",
      "_model_module_version": "1.5.0",
      "_model_name": "ProgressStyleModel",
      "_view_count": null,
      "_view_module": "@jupyter-widgets/base",
      "_view_module_version": "1.2.0",
      "_view_name": "StyleView",
      "bar_color": null,
      "description_width": "initial"
     }
    },
    "9b0552f4e28a437685d0ada7e3634e56": {
     "model_module": "@jupyter-widgets/controls",
     "model_name": "HTMLModel",
     "state": {
      "_dom_classes": [],
      "_model_module": "@jupyter-widgets/controls",
      "_model_module_version": "1.5.0",
      "_model_name": "HTMLModel",
      "_view_count": null,
      "_view_module": "@jupyter-widgets/controls",
      "_view_module_version": "1.5.0",
      "_view_name": "HTMLView",
      "description": "",
      "description_tooltip": null,
      "layout": "IPY_MODEL_305c61e0d3df4f0fab949b23b349cd0c",
      "placeholder": "​",
      "style": "IPY_MODEL_7f5766c577834e3da4b81827c7bba627",
      "value": " 1119/10000 [00:36&lt;02:35, 57.29it/s]"
     }
    },
    "9b44a495a1384c32ae933dd4f603c3b9": {
     "model_module": "@jupyter-widgets/base",
     "model_name": "LayoutModel",
     "state": {
      "_model_module": "@jupyter-widgets/base",
      "_model_module_version": "1.2.0",
      "_model_name": "LayoutModel",
      "_view_count": null,
      "_view_module": "@jupyter-widgets/base",
      "_view_module_version": "1.2.0",
      "_view_name": "LayoutView",
      "align_content": null,
      "align_items": null,
      "align_self": null,
      "border": null,
      "bottom": null,
      "display": null,
      "flex": null,
      "flex_flow": null,
      "grid_area": null,
      "grid_auto_columns": null,
      "grid_auto_flow": null,
      "grid_auto_rows": null,
      "grid_column": null,
      "grid_gap": null,
      "grid_row": null,
      "grid_template_areas": null,
      "grid_template_columns": null,
      "grid_template_rows": null,
      "height": null,
      "justify_content": null,
      "justify_items": null,
      "left": null,
      "margin": null,
      "max_height": null,
      "max_width": null,
      "min_height": null,
      "min_width": null,
      "object_fit": null,
      "object_position": null,
      "order": null,
      "overflow": null,
      "overflow_x": null,
      "overflow_y": null,
      "padding": null,
      "right": null,
      "top": null,
      "visibility": null,
      "width": null
     }
    },
    "9f73691a8ff144eebeb4707a234de857": {
     "model_module": "@jupyter-widgets/controls",
     "model_name": "ProgressStyleModel",
     "state": {
      "_model_module": "@jupyter-widgets/controls",
      "_model_module_version": "1.5.0",
      "_model_name": "ProgressStyleModel",
      "_view_count": null,
      "_view_module": "@jupyter-widgets/base",
      "_view_module_version": "1.2.0",
      "_view_name": "StyleView",
      "bar_color": null,
      "description_width": "initial"
     }
    },
    "a13791638d044d58be74e1bca7b2be13": {
     "model_module": "@jupyter-widgets/base",
     "model_name": "LayoutModel",
     "state": {
      "_model_module": "@jupyter-widgets/base",
      "_model_module_version": "1.2.0",
      "_model_name": "LayoutModel",
      "_view_count": null,
      "_view_module": "@jupyter-widgets/base",
      "_view_module_version": "1.2.0",
      "_view_name": "LayoutView",
      "align_content": null,
      "align_items": null,
      "align_self": null,
      "border": null,
      "bottom": null,
      "display": null,
      "flex": null,
      "flex_flow": null,
      "grid_area": null,
      "grid_auto_columns": null,
      "grid_auto_flow": null,
      "grid_auto_rows": null,
      "grid_column": null,
      "grid_gap": null,
      "grid_row": null,
      "grid_template_areas": null,
      "grid_template_columns": null,
      "grid_template_rows": null,
      "height": null,
      "justify_content": null,
      "justify_items": null,
      "left": null,
      "margin": null,
      "max_height": null,
      "max_width": null,
      "min_height": null,
      "min_width": null,
      "object_fit": null,
      "object_position": null,
      "order": null,
      "overflow": null,
      "overflow_x": null,
      "overflow_y": null,
      "padding": null,
      "right": null,
      "top": null,
      "visibility": null,
      "width": null
     }
    },
    "a219bd3387184fdeb91635073f309884": {
     "model_module": "@jupyter-widgets/controls",
     "model_name": "HBoxModel",
     "state": {
      "_dom_classes": [],
      "_model_module": "@jupyter-widgets/controls",
      "_model_module_version": "1.5.0",
      "_model_name": "HBoxModel",
      "_view_count": null,
      "_view_module": "@jupyter-widgets/controls",
      "_view_module_version": "1.5.0",
      "_view_name": "HBoxView",
      "box_style": "",
      "children": [
       "IPY_MODEL_d3d195a44c5d4d62ab965175825d60ec",
       "IPY_MODEL_808202c908524f508ab3487bdce260ba"
      ],
      "layout": "IPY_MODEL_71d30786819040e0bb19d2738d8d2762"
     }
    },
    "a3fbab14459f45068e21d4ee0d93eec9": {
     "model_module": "@jupyter-widgets/controls",
     "model_name": "FloatProgressModel",
     "state": {
      "_dom_classes": [],
      "_model_module": "@jupyter-widgets/controls",
      "_model_module_version": "1.5.0",
      "_model_name": "FloatProgressModel",
      "_view_count": null,
      "_view_module": "@jupyter-widgets/controls",
      "_view_module_version": "1.5.0",
      "_view_name": "ProgressView",
      "bar_style": "danger",
      "description": " 86%",
      "description_tooltip": null,
      "layout": "IPY_MODEL_433f3391aa2e4d8db0c973d9f8ca66a1",
      "max": 10000,
      "min": 0,
      "orientation": "horizontal",
      "style": "IPY_MODEL_b7d2150ee5044137a4fa7c7debcb0ac6",
      "value": 8649
     }
    },
    "ab16401f58724c39b8fc016b0d07ce4e": {
     "model_module": "@jupyter-widgets/controls",
     "model_name": "FloatProgressModel",
     "state": {
      "_dom_classes": [],
      "_model_module": "@jupyter-widgets/controls",
      "_model_module_version": "1.5.0",
      "_model_name": "FloatProgressModel",
      "_view_count": null,
      "_view_module": "@jupyter-widgets/controls",
      "_view_module_version": "1.5.0",
      "_view_name": "ProgressView",
      "bar_style": "danger",
      "description": " 10%",
      "description_tooltip": null,
      "layout": "IPY_MODEL_2497851514d14bab8d013280019592a6",
      "max": 10000,
      "min": 0,
      "orientation": "horizontal",
      "style": "IPY_MODEL_9f73691a8ff144eebeb4707a234de857",
      "value": 1036
     }
    },
    "aebee33c7b304117a7cd97844071f75a": {
     "model_module": "@jupyter-widgets/controls",
     "model_name": "DescriptionStyleModel",
     "state": {
      "_model_module": "@jupyter-widgets/controls",
      "_model_module_version": "1.5.0",
      "_model_name": "DescriptionStyleModel",
      "_view_count": null,
      "_view_module": "@jupyter-widgets/base",
      "_view_module_version": "1.2.0",
      "_view_name": "StyleView",
      "description_width": ""
     }
    },
    "af5ba12400524ea18e4c20cc28654c45": {
     "model_module": "@jupyter-widgets/base",
     "model_name": "LayoutModel",
     "state": {
      "_model_module": "@jupyter-widgets/base",
      "_model_module_version": "1.2.0",
      "_model_name": "LayoutModel",
      "_view_count": null,
      "_view_module": "@jupyter-widgets/base",
      "_view_module_version": "1.2.0",
      "_view_name": "LayoutView",
      "align_content": null,
      "align_items": null,
      "align_self": null,
      "border": null,
      "bottom": null,
      "display": null,
      "flex": null,
      "flex_flow": null,
      "grid_area": null,
      "grid_auto_columns": null,
      "grid_auto_flow": null,
      "grid_auto_rows": null,
      "grid_column": null,
      "grid_gap": null,
      "grid_row": null,
      "grid_template_areas": null,
      "grid_template_columns": null,
      "grid_template_rows": null,
      "height": null,
      "justify_content": null,
      "justify_items": null,
      "left": null,
      "margin": null,
      "max_height": null,
      "max_width": null,
      "min_height": null,
      "min_width": null,
      "object_fit": null,
      "object_position": null,
      "order": null,
      "overflow": null,
      "overflow_x": null,
      "overflow_y": null,
      "padding": null,
      "right": null,
      "top": null,
      "visibility": null,
      "width": null
     }
    },
    "b164ddc950ec43b1bbc5c22ac674d051": {
     "model_module": "@jupyter-widgets/controls",
     "model_name": "DescriptionStyleModel",
     "state": {
      "_model_module": "@jupyter-widgets/controls",
      "_model_module_version": "1.5.0",
      "_model_name": "DescriptionStyleModel",
      "_view_count": null,
      "_view_module": "@jupyter-widgets/base",
      "_view_module_version": "1.2.0",
      "_view_name": "StyleView",
      "description_width": ""
     }
    },
    "b2021b43bcfa403caadfd70e160e9763": {
     "model_module": "@jupyter-widgets/base",
     "model_name": "LayoutModel",
     "state": {
      "_model_module": "@jupyter-widgets/base",
      "_model_module_version": "1.2.0",
      "_model_name": "LayoutModel",
      "_view_count": null,
      "_view_module": "@jupyter-widgets/base",
      "_view_module_version": "1.2.0",
      "_view_name": "LayoutView",
      "align_content": null,
      "align_items": null,
      "align_self": null,
      "border": null,
      "bottom": null,
      "display": null,
      "flex": null,
      "flex_flow": null,
      "grid_area": null,
      "grid_auto_columns": null,
      "grid_auto_flow": null,
      "grid_auto_rows": null,
      "grid_column": null,
      "grid_gap": null,
      "grid_row": null,
      "grid_template_areas": null,
      "grid_template_columns": null,
      "grid_template_rows": null,
      "height": null,
      "justify_content": null,
      "justify_items": null,
      "left": null,
      "margin": null,
      "max_height": null,
      "max_width": null,
      "min_height": null,
      "min_width": null,
      "object_fit": null,
      "object_position": null,
      "order": null,
      "overflow": null,
      "overflow_x": null,
      "overflow_y": null,
      "padding": null,
      "right": null,
      "top": null,
      "visibility": null,
      "width": null
     }
    },
    "b324371a5eca4fe5a4c585c50f7eebfd": {
     "model_module": "@jupyter-widgets/controls",
     "model_name": "HTMLModel",
     "state": {
      "_dom_classes": [],
      "_model_module": "@jupyter-widgets/controls",
      "_model_module_version": "1.5.0",
      "_model_name": "HTMLModel",
      "_view_count": null,
      "_view_module": "@jupyter-widgets/controls",
      "_view_module_version": "1.5.0",
      "_view_name": "HTMLView",
      "description": "",
      "description_tooltip": null,
      "layout": "IPY_MODEL_69779c6fed78471bbce0e0a5776dfc54",
      "placeholder": "​",
      "style": "IPY_MODEL_0a9bcd7053d44bbdb9848f54fa68625a",
      "value": " 1525/10000 [00:34&lt;02:00, 70.32it/s]"
     }
    },
    "b3fa7c21db474e0faf14b16e3fc0ee78": {
     "model_module": "@jupyter-widgets/controls",
     "model_name": "HBoxModel",
     "state": {
      "_dom_classes": [],
      "_model_module": "@jupyter-widgets/controls",
      "_model_module_version": "1.5.0",
      "_model_name": "HBoxModel",
      "_view_count": null,
      "_view_module": "@jupyter-widgets/controls",
      "_view_module_version": "1.5.0",
      "_view_name": "HBoxView",
      "box_style": "",
      "children": [
       "IPY_MODEL_6d752ceade63446abb037120800dcb17",
       "IPY_MODEL_1cbad68a773b40efbc2239c3d3728eac"
      ],
      "layout": "IPY_MODEL_43fa96bb26844012820c3bdbf6c58595"
     }
    },
    "b456aa72de554da699f24cfba7692463": {
     "model_module": "@jupyter-widgets/controls",
     "model_name": "FloatProgressModel",
     "state": {
      "_dom_classes": [],
      "_model_module": "@jupyter-widgets/controls",
      "_model_module_version": "1.5.0",
      "_model_name": "FloatProgressModel",
      "_view_count": null,
      "_view_module": "@jupyter-widgets/controls",
      "_view_module_version": "1.5.0",
      "_view_name": "ProgressView",
      "bar_style": "danger",
      "description": " 55%",
      "description_tooltip": null,
      "layout": "IPY_MODEL_e1a475888e6f49548dd78d03985eb5f5",
      "max": 10000,
      "min": 0,
      "orientation": "horizontal",
      "style": "IPY_MODEL_82c0c561632f44cc8efac13047babc83",
      "value": 5462
     }
    },
    "b498d509b8c14a9d86f53428e53386ea": {
     "model_module": "@jupyter-widgets/base",
     "model_name": "LayoutModel",
     "state": {
      "_model_module": "@jupyter-widgets/base",
      "_model_module_version": "1.2.0",
      "_model_name": "LayoutModel",
      "_view_count": null,
      "_view_module": "@jupyter-widgets/base",
      "_view_module_version": "1.2.0",
      "_view_name": "LayoutView",
      "align_content": null,
      "align_items": null,
      "align_self": null,
      "border": null,
      "bottom": null,
      "display": null,
      "flex": null,
      "flex_flow": null,
      "grid_area": null,
      "grid_auto_columns": null,
      "grid_auto_flow": null,
      "grid_auto_rows": null,
      "grid_column": null,
      "grid_gap": null,
      "grid_row": null,
      "grid_template_areas": null,
      "grid_template_columns": null,
      "grid_template_rows": null,
      "height": null,
      "justify_content": null,
      "justify_items": null,
      "left": null,
      "margin": null,
      "max_height": null,
      "max_width": null,
      "min_height": null,
      "min_width": null,
      "object_fit": null,
      "object_position": null,
      "order": null,
      "overflow": null,
      "overflow_x": null,
      "overflow_y": null,
      "padding": null,
      "right": null,
      "top": null,
      "visibility": null,
      "width": null
     }
    },
    "b5a5712d94684f33b8a91f5077ce0c70": {
     "model_module": "@jupyter-widgets/controls",
     "model_name": "ProgressStyleModel",
     "state": {
      "_model_module": "@jupyter-widgets/controls",
      "_model_module_version": "1.5.0",
      "_model_name": "ProgressStyleModel",
      "_view_count": null,
      "_view_module": "@jupyter-widgets/base",
      "_view_module_version": "1.2.0",
      "_view_name": "StyleView",
      "bar_color": null,
      "description_width": "initial"
     }
    },
    "b5fa1c29e8b54d139cf72df93932400e": {
     "model_module": "@jupyter-widgets/controls",
     "model_name": "FloatProgressModel",
     "state": {
      "_dom_classes": [],
      "_model_module": "@jupyter-widgets/controls",
      "_model_module_version": "1.5.0",
      "_model_name": "FloatProgressModel",
      "_view_count": null,
      "_view_module": "@jupyter-widgets/controls",
      "_view_module_version": "1.5.0",
      "_view_name": "ProgressView",
      "bar_style": "danger",
      "description": " 26%",
      "description_tooltip": null,
      "layout": "IPY_MODEL_30eb130909be45818d41908dc1e9ac13",
      "max": 10000,
      "min": 0,
      "orientation": "horizontal",
      "style": "IPY_MODEL_e733931d03d14f87ba895440e4147aec",
      "value": 2638
     }
    },
    "b609d1ce609749ab8ddd4b577f573a67": {
     "model_module": "@jupyter-widgets/base",
     "model_name": "LayoutModel",
     "state": {
      "_model_module": "@jupyter-widgets/base",
      "_model_module_version": "1.2.0",
      "_model_name": "LayoutModel",
      "_view_count": null,
      "_view_module": "@jupyter-widgets/base",
      "_view_module_version": "1.2.0",
      "_view_name": "LayoutView",
      "align_content": null,
      "align_items": null,
      "align_self": null,
      "border": null,
      "bottom": null,
      "display": null,
      "flex": null,
      "flex_flow": null,
      "grid_area": null,
      "grid_auto_columns": null,
      "grid_auto_flow": null,
      "grid_auto_rows": null,
      "grid_column": null,
      "grid_gap": null,
      "grid_row": null,
      "grid_template_areas": null,
      "grid_template_columns": null,
      "grid_template_rows": null,
      "height": null,
      "justify_content": null,
      "justify_items": null,
      "left": null,
      "margin": null,
      "max_height": null,
      "max_width": null,
      "min_height": null,
      "min_width": null,
      "object_fit": null,
      "object_position": null,
      "order": null,
      "overflow": null,
      "overflow_x": null,
      "overflow_y": null,
      "padding": null,
      "right": null,
      "top": null,
      "visibility": null,
      "width": null
     }
    },
    "b730c8c819204d0b8e5f71e33e1ea1bf": {
     "model_module": "@jupyter-widgets/controls",
     "model_name": "DescriptionStyleModel",
     "state": {
      "_model_module": "@jupyter-widgets/controls",
      "_model_module_version": "1.5.0",
      "_model_name": "DescriptionStyleModel",
      "_view_count": null,
      "_view_module": "@jupyter-widgets/base",
      "_view_module_version": "1.2.0",
      "_view_name": "StyleView",
      "description_width": ""
     }
    },
    "b7d2150ee5044137a4fa7c7debcb0ac6": {
     "model_module": "@jupyter-widgets/controls",
     "model_name": "ProgressStyleModel",
     "state": {
      "_model_module": "@jupyter-widgets/controls",
      "_model_module_version": "1.5.0",
      "_model_name": "ProgressStyleModel",
      "_view_count": null,
      "_view_module": "@jupyter-widgets/base",
      "_view_module_version": "1.2.0",
      "_view_name": "StyleView",
      "bar_color": null,
      "description_width": "initial"
     }
    },
    "b9408c5551f145569c02ad972693d3e5": {
     "model_module": "@jupyter-widgets/base",
     "model_name": "LayoutModel",
     "state": {
      "_model_module": "@jupyter-widgets/base",
      "_model_module_version": "1.2.0",
      "_model_name": "LayoutModel",
      "_view_count": null,
      "_view_module": "@jupyter-widgets/base",
      "_view_module_version": "1.2.0",
      "_view_name": "LayoutView",
      "align_content": null,
      "align_items": null,
      "align_self": null,
      "border": null,
      "bottom": null,
      "display": null,
      "flex": null,
      "flex_flow": null,
      "grid_area": null,
      "grid_auto_columns": null,
      "grid_auto_flow": null,
      "grid_auto_rows": null,
      "grid_column": null,
      "grid_gap": null,
      "grid_row": null,
      "grid_template_areas": null,
      "grid_template_columns": null,
      "grid_template_rows": null,
      "height": null,
      "justify_content": null,
      "justify_items": null,
      "left": null,
      "margin": null,
      "max_height": null,
      "max_width": null,
      "min_height": null,
      "min_width": null,
      "object_fit": null,
      "object_position": null,
      "order": null,
      "overflow": null,
      "overflow_x": null,
      "overflow_y": null,
      "padding": null,
      "right": null,
      "top": null,
      "visibility": null,
      "width": null
     }
    },
    "b9802ed0e8df4693aadcae2270102916": {
     "model_module": "@jupyter-widgets/controls",
     "model_name": "DescriptionStyleModel",
     "state": {
      "_model_module": "@jupyter-widgets/controls",
      "_model_module_version": "1.5.0",
      "_model_name": "DescriptionStyleModel",
      "_view_count": null,
      "_view_module": "@jupyter-widgets/base",
      "_view_module_version": "1.2.0",
      "_view_name": "StyleView",
      "description_width": ""
     }
    },
    "b9ae18a5338346a99a2c27d6b9f063fd": {
     "model_module": "@jupyter-widgets/base",
     "model_name": "LayoutModel",
     "state": {
      "_model_module": "@jupyter-widgets/base",
      "_model_module_version": "1.2.0",
      "_model_name": "LayoutModel",
      "_view_count": null,
      "_view_module": "@jupyter-widgets/base",
      "_view_module_version": "1.2.0",
      "_view_name": "LayoutView",
      "align_content": null,
      "align_items": null,
      "align_self": null,
      "border": null,
      "bottom": null,
      "display": null,
      "flex": null,
      "flex_flow": null,
      "grid_area": null,
      "grid_auto_columns": null,
      "grid_auto_flow": null,
      "grid_auto_rows": null,
      "grid_column": null,
      "grid_gap": null,
      "grid_row": null,
      "grid_template_areas": null,
      "grid_template_columns": null,
      "grid_template_rows": null,
      "height": null,
      "justify_content": null,
      "justify_items": null,
      "left": null,
      "margin": null,
      "max_height": null,
      "max_width": null,
      "min_height": null,
      "min_width": null,
      "object_fit": null,
      "object_position": null,
      "order": null,
      "overflow": null,
      "overflow_x": null,
      "overflow_y": null,
      "padding": null,
      "right": null,
      "top": null,
      "visibility": null,
      "width": null
     }
    },
    "bde81281c8274281bd14880f2a10af1b": {
     "model_module": "@jupyter-widgets/controls",
     "model_name": "ProgressStyleModel",
     "state": {
      "_model_module": "@jupyter-widgets/controls",
      "_model_module_version": "1.5.0",
      "_model_name": "ProgressStyleModel",
      "_view_count": null,
      "_view_module": "@jupyter-widgets/base",
      "_view_module_version": "1.2.0",
      "_view_name": "StyleView",
      "bar_color": null,
      "description_width": "initial"
     }
    },
    "be799150b219477195fa4e7ca8a36710": {
     "model_module": "@jupyter-widgets/controls",
     "model_name": "HTMLModel",
     "state": {
      "_dom_classes": [],
      "_model_module": "@jupyter-widgets/controls",
      "_model_module_version": "1.5.0",
      "_model_name": "HTMLModel",
      "_view_count": null,
      "_view_module": "@jupyter-widgets/controls",
      "_view_module_version": "1.5.0",
      "_view_name": "HTMLView",
      "description": "",
      "description_tooltip": null,
      "layout": "IPY_MODEL_45542842b50b401a932063bb56fa827c",
      "placeholder": "​",
      "style": "IPY_MODEL_c64de23e852b4ba7875e8a7ad2dd52f0",
      "value": " 5714/10000 [01:26&lt;00:52, 81.16it/s]"
     }
    },
    "bf390e6321ee467c97f6c83501fc08eb": {
     "model_module": "@jupyter-widgets/controls",
     "model_name": "DescriptionStyleModel",
     "state": {
      "_model_module": "@jupyter-widgets/controls",
      "_model_module_version": "1.5.0",
      "_model_name": "DescriptionStyleModel",
      "_view_count": null,
      "_view_module": "@jupyter-widgets/base",
      "_view_module_version": "1.2.0",
      "_view_name": "StyleView",
      "description_width": ""
     }
    },
    "c38a8c67073a46dfb3278eeec98ecee2": {
     "model_module": "@jupyter-widgets/base",
     "model_name": "LayoutModel",
     "state": {
      "_model_module": "@jupyter-widgets/base",
      "_model_module_version": "1.2.0",
      "_model_name": "LayoutModel",
      "_view_count": null,
      "_view_module": "@jupyter-widgets/base",
      "_view_module_version": "1.2.0",
      "_view_name": "LayoutView",
      "align_content": null,
      "align_items": null,
      "align_self": null,
      "border": null,
      "bottom": null,
      "display": null,
      "flex": null,
      "flex_flow": null,
      "grid_area": null,
      "grid_auto_columns": null,
      "grid_auto_flow": null,
      "grid_auto_rows": null,
      "grid_column": null,
      "grid_gap": null,
      "grid_row": null,
      "grid_template_areas": null,
      "grid_template_columns": null,
      "grid_template_rows": null,
      "height": null,
      "justify_content": null,
      "justify_items": null,
      "left": null,
      "margin": null,
      "max_height": null,
      "max_width": null,
      "min_height": null,
      "min_width": null,
      "object_fit": null,
      "object_position": null,
      "order": null,
      "overflow": null,
      "overflow_x": null,
      "overflow_y": null,
      "padding": null,
      "right": null,
      "top": null,
      "visibility": null,
      "width": null
     }
    },
    "c3c970ebb6be407b9f4c5e98ced90d8c": {
     "model_module": "@jupyter-widgets/controls",
     "model_name": "HTMLModel",
     "state": {
      "_dom_classes": [],
      "_model_module": "@jupyter-widgets/controls",
      "_model_module_version": "1.5.0",
      "_model_name": "HTMLModel",
      "_view_count": null,
      "_view_module": "@jupyter-widgets/controls",
      "_view_module_version": "1.5.0",
      "_view_name": "HTMLView",
      "description": "",
      "description_tooltip": null,
      "layout": "IPY_MODEL_4dbb430abed640799ce6ea7d109eaa91",
      "placeholder": "​",
      "style": "IPY_MODEL_1cf38ff8e9cb4e949b35aa548747219b",
      "value": " 8649/10000 [04:08&lt;00:35, 37.96it/s]"
     }
    },
    "c54fb531041647f48aca51ac6153c4f8": {
     "model_module": "@jupyter-widgets/controls",
     "model_name": "FloatProgressModel",
     "state": {
      "_dom_classes": [],
      "_model_module": "@jupyter-widgets/controls",
      "_model_module_version": "1.5.0",
      "_model_name": "FloatProgressModel",
      "_view_count": null,
      "_view_module": "@jupyter-widgets/controls",
      "_view_module_version": "1.5.0",
      "_view_name": "ProgressView",
      "bar_style": "danger",
      "description": " 24%",
      "description_tooltip": null,
      "layout": "IPY_MODEL_ed3faab0627a442b8cd5738519cc9d13",
      "max": 10000,
      "min": 0,
      "orientation": "horizontal",
      "style": "IPY_MODEL_71ea446189604e07884014cffeaf5266",
      "value": 2395
     }
    },
    "c64de23e852b4ba7875e8a7ad2dd52f0": {
     "model_module": "@jupyter-widgets/controls",
     "model_name": "DescriptionStyleModel",
     "state": {
      "_model_module": "@jupyter-widgets/controls",
      "_model_module_version": "1.5.0",
      "_model_name": "DescriptionStyleModel",
      "_view_count": null,
      "_view_module": "@jupyter-widgets/base",
      "_view_module_version": "1.2.0",
      "_view_name": "StyleView",
      "description_width": ""
     }
    },
    "c96e155b63414f879485f953b54c5977": {
     "model_module": "@jupyter-widgets/controls",
     "model_name": "DescriptionStyleModel",
     "state": {
      "_model_module": "@jupyter-widgets/controls",
      "_model_module_version": "1.5.0",
      "_model_name": "DescriptionStyleModel",
      "_view_count": null,
      "_view_module": "@jupyter-widgets/base",
      "_view_module_version": "1.2.0",
      "_view_name": "StyleView",
      "description_width": ""
     }
    },
    "cdb4e0a44a3149bdb981362601a05c9b": {
     "model_module": "@jupyter-widgets/base",
     "model_name": "LayoutModel",
     "state": {
      "_model_module": "@jupyter-widgets/base",
      "_model_module_version": "1.2.0",
      "_model_name": "LayoutModel",
      "_view_count": null,
      "_view_module": "@jupyter-widgets/base",
      "_view_module_version": "1.2.0",
      "_view_name": "LayoutView",
      "align_content": null,
      "align_items": null,
      "align_self": null,
      "border": null,
      "bottom": null,
      "display": null,
      "flex": null,
      "flex_flow": null,
      "grid_area": null,
      "grid_auto_columns": null,
      "grid_auto_flow": null,
      "grid_auto_rows": null,
      "grid_column": null,
      "grid_gap": null,
      "grid_row": null,
      "grid_template_areas": null,
      "grid_template_columns": null,
      "grid_template_rows": null,
      "height": null,
      "justify_content": null,
      "justify_items": null,
      "left": null,
      "margin": null,
      "max_height": null,
      "max_width": null,
      "min_height": null,
      "min_width": null,
      "object_fit": null,
      "object_position": null,
      "order": null,
      "overflow": null,
      "overflow_x": null,
      "overflow_y": null,
      "padding": null,
      "right": null,
      "top": null,
      "visibility": null,
      "width": null
     }
    },
    "d09641ef886e4e9cbb3f3af7847346de": {
     "model_module": "@jupyter-widgets/base",
     "model_name": "LayoutModel",
     "state": {
      "_model_module": "@jupyter-widgets/base",
      "_model_module_version": "1.2.0",
      "_model_name": "LayoutModel",
      "_view_count": null,
      "_view_module": "@jupyter-widgets/base",
      "_view_module_version": "1.2.0",
      "_view_name": "LayoutView",
      "align_content": null,
      "align_items": null,
      "align_self": null,
      "border": null,
      "bottom": null,
      "display": null,
      "flex": null,
      "flex_flow": null,
      "grid_area": null,
      "grid_auto_columns": null,
      "grid_auto_flow": null,
      "grid_auto_rows": null,
      "grid_column": null,
      "grid_gap": null,
      "grid_row": null,
      "grid_template_areas": null,
      "grid_template_columns": null,
      "grid_template_rows": null,
      "height": null,
      "justify_content": null,
      "justify_items": null,
      "left": null,
      "margin": null,
      "max_height": null,
      "max_width": null,
      "min_height": null,
      "min_width": null,
      "object_fit": null,
      "object_position": null,
      "order": null,
      "overflow": null,
      "overflow_x": null,
      "overflow_y": null,
      "padding": null,
      "right": null,
      "top": null,
      "visibility": null,
      "width": null
     }
    },
    "d3d195a44c5d4d62ab965175825d60ec": {
     "model_module": "@jupyter-widgets/controls",
     "model_name": "FloatProgressModel",
     "state": {
      "_dom_classes": [],
      "_model_module": "@jupyter-widgets/controls",
      "_model_module_version": "1.5.0",
      "_model_name": "FloatProgressModel",
      "_view_count": null,
      "_view_module": "@jupyter-widgets/controls",
      "_view_module_version": "1.5.0",
      "_view_name": "ProgressView",
      "bar_style": "danger",
      "description": " 11%",
      "description_tooltip": null,
      "layout": "IPY_MODEL_de65b950c52e46c7b56ca337366d24a5",
      "max": 10000,
      "min": 0,
      "orientation": "horizontal",
      "style": "IPY_MODEL_3175d7cc7d1d4f1283caf328ea6cb530",
      "value": 1072
     }
    },
    "d981da7873fc4862bcd27addc0ea9098": {
     "model_module": "@jupyter-widgets/controls",
     "model_name": "DescriptionStyleModel",
     "state": {
      "_model_module": "@jupyter-widgets/controls",
      "_model_module_version": "1.5.0",
      "_model_name": "DescriptionStyleModel",
      "_view_count": null,
      "_view_module": "@jupyter-widgets/base",
      "_view_module_version": "1.2.0",
      "_view_name": "StyleView",
      "description_width": ""
     }
    },
    "d9e3524142f7461088e4464b4b0251f7": {
     "model_module": "@jupyter-widgets/controls",
     "model_name": "FloatProgressModel",
     "state": {
      "_dom_classes": [],
      "_model_module": "@jupyter-widgets/controls",
      "_model_module_version": "1.5.0",
      "_model_name": "FloatProgressModel",
      "_view_count": null,
      "_view_module": "@jupyter-widgets/controls",
      "_view_module_version": "1.5.0",
      "_view_name": "ProgressView",
      "bar_style": "danger",
      "description": " 25%",
      "description_tooltip": null,
      "layout": "IPY_MODEL_eee9c2ef10794e06a916552a7a536c66",
      "max": 10000,
      "min": 0,
      "orientation": "horizontal",
      "style": "IPY_MODEL_7e423cb2f57f4880840d27571a4227a1",
      "value": 2516
     }
    },
    "de65b950c52e46c7b56ca337366d24a5": {
     "model_module": "@jupyter-widgets/base",
     "model_name": "LayoutModel",
     "state": {
      "_model_module": "@jupyter-widgets/base",
      "_model_module_version": "1.2.0",
      "_model_name": "LayoutModel",
      "_view_count": null,
      "_view_module": "@jupyter-widgets/base",
      "_view_module_version": "1.2.0",
      "_view_name": "LayoutView",
      "align_content": null,
      "align_items": null,
      "align_self": null,
      "border": null,
      "bottom": null,
      "display": null,
      "flex": null,
      "flex_flow": null,
      "grid_area": null,
      "grid_auto_columns": null,
      "grid_auto_flow": null,
      "grid_auto_rows": null,
      "grid_column": null,
      "grid_gap": null,
      "grid_row": null,
      "grid_template_areas": null,
      "grid_template_columns": null,
      "grid_template_rows": null,
      "height": null,
      "justify_content": null,
      "justify_items": null,
      "left": null,
      "margin": null,
      "max_height": null,
      "max_width": null,
      "min_height": null,
      "min_width": null,
      "object_fit": null,
      "object_position": null,
      "order": null,
      "overflow": null,
      "overflow_x": null,
      "overflow_y": null,
      "padding": null,
      "right": null,
      "top": null,
      "visibility": null,
      "width": null
     }
    },
    "df58d3f3d6d4468983b142596e005bf2": {
     "model_module": "@jupyter-widgets/controls",
     "model_name": "HBoxModel",
     "state": {
      "_dom_classes": [],
      "_model_module": "@jupyter-widgets/controls",
      "_model_module_version": "1.5.0",
      "_model_name": "HBoxModel",
      "_view_count": null,
      "_view_module": "@jupyter-widgets/controls",
      "_view_module_version": "1.5.0",
      "_view_name": "HBoxView",
      "box_style": "",
      "children": [
       "IPY_MODEL_54551821bf554d2fa5faed7f3731b2e3",
       "IPY_MODEL_9b0552f4e28a437685d0ada7e3634e56"
      ],
      "layout": "IPY_MODEL_193f6ddda6a840a297f40f929677dca2"
     }
    },
    "e1a475888e6f49548dd78d03985eb5f5": {
     "model_module": "@jupyter-widgets/base",
     "model_name": "LayoutModel",
     "state": {
      "_model_module": "@jupyter-widgets/base",
      "_model_module_version": "1.2.0",
      "_model_name": "LayoutModel",
      "_view_count": null,
      "_view_module": "@jupyter-widgets/base",
      "_view_module_version": "1.2.0",
      "_view_name": "LayoutView",
      "align_content": null,
      "align_items": null,
      "align_self": null,
      "border": null,
      "bottom": null,
      "display": null,
      "flex": null,
      "flex_flow": null,
      "grid_area": null,
      "grid_auto_columns": null,
      "grid_auto_flow": null,
      "grid_auto_rows": null,
      "grid_column": null,
      "grid_gap": null,
      "grid_row": null,
      "grid_template_areas": null,
      "grid_template_columns": null,
      "grid_template_rows": null,
      "height": null,
      "justify_content": null,
      "justify_items": null,
      "left": null,
      "margin": null,
      "max_height": null,
      "max_width": null,
      "min_height": null,
      "min_width": null,
      "object_fit": null,
      "object_position": null,
      "order": null,
      "overflow": null,
      "overflow_x": null,
      "overflow_y": null,
      "padding": null,
      "right": null,
      "top": null,
      "visibility": null,
      "width": null
     }
    },
    "e5c0152d907f4f3ca9490b8c033f9866": {
     "model_module": "@jupyter-widgets/controls",
     "model_name": "ProgressStyleModel",
     "state": {
      "_model_module": "@jupyter-widgets/controls",
      "_model_module_version": "1.5.0",
      "_model_name": "ProgressStyleModel",
      "_view_count": null,
      "_view_module": "@jupyter-widgets/base",
      "_view_module_version": "1.2.0",
      "_view_name": "StyleView",
      "bar_color": null,
      "description_width": "initial"
     }
    },
    "e623d1ff487948f2af661b7ec30de261": {
     "model_module": "@jupyter-widgets/base",
     "model_name": "LayoutModel",
     "state": {
      "_model_module": "@jupyter-widgets/base",
      "_model_module_version": "1.2.0",
      "_model_name": "LayoutModel",
      "_view_count": null,
      "_view_module": "@jupyter-widgets/base",
      "_view_module_version": "1.2.0",
      "_view_name": "LayoutView",
      "align_content": null,
      "align_items": null,
      "align_self": null,
      "border": null,
      "bottom": null,
      "display": null,
      "flex": null,
      "flex_flow": null,
      "grid_area": null,
      "grid_auto_columns": null,
      "grid_auto_flow": null,
      "grid_auto_rows": null,
      "grid_column": null,
      "grid_gap": null,
      "grid_row": null,
      "grid_template_areas": null,
      "grid_template_columns": null,
      "grid_template_rows": null,
      "height": null,
      "justify_content": null,
      "justify_items": null,
      "left": null,
      "margin": null,
      "max_height": null,
      "max_width": null,
      "min_height": null,
      "min_width": null,
      "object_fit": null,
      "object_position": null,
      "order": null,
      "overflow": null,
      "overflow_x": null,
      "overflow_y": null,
      "padding": null,
      "right": null,
      "top": null,
      "visibility": null,
      "width": null
     }
    },
    "e733931d03d14f87ba895440e4147aec": {
     "model_module": "@jupyter-widgets/controls",
     "model_name": "ProgressStyleModel",
     "state": {
      "_model_module": "@jupyter-widgets/controls",
      "_model_module_version": "1.5.0",
      "_model_name": "ProgressStyleModel",
      "_view_count": null,
      "_view_module": "@jupyter-widgets/base",
      "_view_module_version": "1.2.0",
      "_view_name": "StyleView",
      "bar_color": null,
      "description_width": "initial"
     }
    },
    "e894e073f26a4cc7a24b55d510361d8e": {
     "model_module": "@jupyter-widgets/controls",
     "model_name": "FloatProgressModel",
     "state": {
      "_dom_classes": [],
      "_model_module": "@jupyter-widgets/controls",
      "_model_module_version": "1.5.0",
      "_model_name": "FloatProgressModel",
      "_view_count": null,
      "_view_module": "@jupyter-widgets/controls",
      "_view_module_version": "1.5.0",
      "_view_name": "ProgressView",
      "bar_style": "danger",
      "description": " 57%",
      "description_tooltip": null,
      "layout": "IPY_MODEL_b9ae18a5338346a99a2c27d6b9f063fd",
      "max": 10000,
      "min": 0,
      "orientation": "horizontal",
      "style": "IPY_MODEL_526014903b54433e87d45ae637595a80",
      "value": 5714
     }
    },
    "eb53a3c05f254b2cbc4e771327850c61": {
     "model_module": "@jupyter-widgets/controls",
     "model_name": "ProgressStyleModel",
     "state": {
      "_model_module": "@jupyter-widgets/controls",
      "_model_module_version": "1.5.0",
      "_model_name": "ProgressStyleModel",
      "_view_count": null,
      "_view_module": "@jupyter-widgets/base",
      "_view_module_version": "1.2.0",
      "_view_name": "StyleView",
      "bar_color": null,
      "description_width": "initial"
     }
    },
    "ebab3a46e4444b508af74e25bdf87db2": {
     "model_module": "@jupyter-widgets/controls",
     "model_name": "HTMLModel",
     "state": {
      "_dom_classes": [],
      "_model_module": "@jupyter-widgets/controls",
      "_model_module_version": "1.5.0",
      "_model_name": "HTMLModel",
      "_view_count": null,
      "_view_module": "@jupyter-widgets/controls",
      "_view_module_version": "1.5.0",
      "_view_name": "HTMLView",
      "description": "",
      "description_tooltip": null,
      "layout": "IPY_MODEL_46d079336c594a29bca5527e4ddc8e97",
      "placeholder": "​",
      "style": "IPY_MODEL_3e9173ff8dc449fbb6bffe9ae21ab799",
      "value": " 1803/10000 [00:36&lt;01:26, 94.66it/s]"
     }
    },
    "ed3faab0627a442b8cd5738519cc9d13": {
     "model_module": "@jupyter-widgets/base",
     "model_name": "LayoutModel",
     "state": {
      "_model_module": "@jupyter-widgets/base",
      "_model_module_version": "1.2.0",
      "_model_name": "LayoutModel",
      "_view_count": null,
      "_view_module": "@jupyter-widgets/base",
      "_view_module_version": "1.2.0",
      "_view_name": "LayoutView",
      "align_content": null,
      "align_items": null,
      "align_self": null,
      "border": null,
      "bottom": null,
      "display": null,
      "flex": null,
      "flex_flow": null,
      "grid_area": null,
      "grid_auto_columns": null,
      "grid_auto_flow": null,
      "grid_auto_rows": null,
      "grid_column": null,
      "grid_gap": null,
      "grid_row": null,
      "grid_template_areas": null,
      "grid_template_columns": null,
      "grid_template_rows": null,
      "height": null,
      "justify_content": null,
      "justify_items": null,
      "left": null,
      "margin": null,
      "max_height": null,
      "max_width": null,
      "min_height": null,
      "min_width": null,
      "object_fit": null,
      "object_position": null,
      "order": null,
      "overflow": null,
      "overflow_x": null,
      "overflow_y": null,
      "padding": null,
      "right": null,
      "top": null,
      "visibility": null,
      "width": null
     }
    },
    "edd61372427c44b0af3347735f38379c": {
     "model_module": "@jupyter-widgets/controls",
     "model_name": "HTMLModel",
     "state": {
      "_dom_classes": [],
      "_model_module": "@jupyter-widgets/controls",
      "_model_module_version": "1.5.0",
      "_model_name": "HTMLModel",
      "_view_count": null,
      "_view_module": "@jupyter-widgets/controls",
      "_view_module_version": "1.5.0",
      "_view_name": "HTMLView",
      "description": "",
      "description_tooltip": null,
      "layout": "IPY_MODEL_b2021b43bcfa403caadfd70e160e9763",
      "placeholder": "​",
      "style": "IPY_MODEL_38ad70631e2742f0a982e281ef0b87f9",
      "value": " 5462/10000 [01:43&lt;01:14, 61.04it/s]"
     }
    },
    "ee4ace3468d34608bcb98680a4930423": {
     "model_module": "@jupyter-widgets/controls",
     "model_name": "HTMLModel",
     "state": {
      "_dom_classes": [],
      "_model_module": "@jupyter-widgets/controls",
      "_model_module_version": "1.5.0",
      "_model_name": "HTMLModel",
      "_view_count": null,
      "_view_module": "@jupyter-widgets/controls",
      "_view_module_version": "1.5.0",
      "_view_name": "HTMLView",
      "description": "",
      "description_tooltip": null,
      "layout": "IPY_MODEL_528ae25ef0934108a6af114f94d172fc",
      "placeholder": "​",
      "style": "IPY_MODEL_7be35c2c6c7a41a8889f5d84f1f1481f",
      "value": " 1819/10000 [01:03&lt;03:25, 39.90it/s]"
     }
    },
    "ee9b37b2d4dc4a84991fd368a6fe29a5": {
     "model_module": "@jupyter-widgets/controls",
     "model_name": "HBoxModel",
     "state": {
      "_dom_classes": [],
      "_model_module": "@jupyter-widgets/controls",
      "_model_module_version": "1.5.0",
      "_model_name": "HBoxModel",
      "_view_count": null,
      "_view_module": "@jupyter-widgets/controls",
      "_view_module_version": "1.5.0",
      "_view_name": "HBoxView",
      "box_style": "",
      "children": [
       "IPY_MODEL_0b69f53b1f0a4e87811694bde75d8b2e",
       "IPY_MODEL_19cb903041eb46878e9adc7d094bb1a2"
      ],
      "layout": "IPY_MODEL_3bcce830c9e049ddb25a46af71a2c740"
     }
    },
    "eee9c2ef10794e06a916552a7a536c66": {
     "model_module": "@jupyter-widgets/base",
     "model_name": "LayoutModel",
     "state": {
      "_model_module": "@jupyter-widgets/base",
      "_model_module_version": "1.2.0",
      "_model_name": "LayoutModel",
      "_view_count": null,
      "_view_module": "@jupyter-widgets/base",
      "_view_module_version": "1.2.0",
      "_view_name": "LayoutView",
      "align_content": null,
      "align_items": null,
      "align_self": null,
      "border": null,
      "bottom": null,
      "display": null,
      "flex": null,
      "flex_flow": null,
      "grid_area": null,
      "grid_auto_columns": null,
      "grid_auto_flow": null,
      "grid_auto_rows": null,
      "grid_column": null,
      "grid_gap": null,
      "grid_row": null,
      "grid_template_areas": null,
      "grid_template_columns": null,
      "grid_template_rows": null,
      "height": null,
      "justify_content": null,
      "justify_items": null,
      "left": null,
      "margin": null,
      "max_height": null,
      "max_width": null,
      "min_height": null,
      "min_width": null,
      "object_fit": null,
      "object_position": null,
      "order": null,
      "overflow": null,
      "overflow_x": null,
      "overflow_y": null,
      "padding": null,
      "right": null,
      "top": null,
      "visibility": null,
      "width": null
     }
    },
    "efefc27ad0874b54afac368dec4b3686": {
     "model_module": "@jupyter-widgets/base",
     "model_name": "LayoutModel",
     "state": {
      "_model_module": "@jupyter-widgets/base",
      "_model_module_version": "1.2.0",
      "_model_name": "LayoutModel",
      "_view_count": null,
      "_view_module": "@jupyter-widgets/base",
      "_view_module_version": "1.2.0",
      "_view_name": "LayoutView",
      "align_content": null,
      "align_items": null,
      "align_self": null,
      "border": null,
      "bottom": null,
      "display": null,
      "flex": null,
      "flex_flow": null,
      "grid_area": null,
      "grid_auto_columns": null,
      "grid_auto_flow": null,
      "grid_auto_rows": null,
      "grid_column": null,
      "grid_gap": null,
      "grid_row": null,
      "grid_template_areas": null,
      "grid_template_columns": null,
      "grid_template_rows": null,
      "height": null,
      "justify_content": null,
      "justify_items": null,
      "left": null,
      "margin": null,
      "max_height": null,
      "max_width": null,
      "min_height": null,
      "min_width": null,
      "object_fit": null,
      "object_position": null,
      "order": null,
      "overflow": null,
      "overflow_x": null,
      "overflow_y": null,
      "padding": null,
      "right": null,
      "top": null,
      "visibility": null,
      "width": null
     }
    },
    "f175f4c52ec54614b9df21e4987ae1aa": {
     "model_module": "@jupyter-widgets/controls",
     "model_name": "HTMLModel",
     "state": {
      "_dom_classes": [],
      "_model_module": "@jupyter-widgets/controls",
      "_model_module_version": "1.5.0",
      "_model_name": "HTMLModel",
      "_view_count": null,
      "_view_module": "@jupyter-widgets/controls",
      "_view_module_version": "1.5.0",
      "_view_name": "HTMLView",
      "description": "",
      "description_tooltip": null,
      "layout": "IPY_MODEL_c38a8c67073a46dfb3278eeec98ecee2",
      "placeholder": "​",
      "style": "IPY_MODEL_b730c8c819204d0b8e5f71e33e1ea1bf",
      "value": " 3560/10000 [01:17&lt;01:42, 62.78it/s]"
     }
    },
    "f26077febd6d46e0b0a3ccde2c53c378": {
     "model_module": "@jupyter-widgets/base",
     "model_name": "LayoutModel",
     "state": {
      "_model_module": "@jupyter-widgets/base",
      "_model_module_version": "1.2.0",
      "_model_name": "LayoutModel",
      "_view_count": null,
      "_view_module": "@jupyter-widgets/base",
      "_view_module_version": "1.2.0",
      "_view_name": "LayoutView",
      "align_content": null,
      "align_items": null,
      "align_self": null,
      "border": null,
      "bottom": null,
      "display": null,
      "flex": null,
      "flex_flow": null,
      "grid_area": null,
      "grid_auto_columns": null,
      "grid_auto_flow": null,
      "grid_auto_rows": null,
      "grid_column": null,
      "grid_gap": null,
      "grid_row": null,
      "grid_template_areas": null,
      "grid_template_columns": null,
      "grid_template_rows": null,
      "height": null,
      "justify_content": null,
      "justify_items": null,
      "left": null,
      "margin": null,
      "max_height": null,
      "max_width": null,
      "min_height": null,
      "min_width": null,
      "object_fit": null,
      "object_position": null,
      "order": null,
      "overflow": null,
      "overflow_x": null,
      "overflow_y": null,
      "padding": null,
      "right": null,
      "top": null,
      "visibility": null,
      "width": null
     }
    },
    "fe93b7b0f2dc4cbe991e4611854646c1": {
     "model_module": "@jupyter-widgets/controls",
     "model_name": "ProgressStyleModel",
     "state": {
      "_model_module": "@jupyter-widgets/controls",
      "_model_module_version": "1.5.0",
      "_model_name": "ProgressStyleModel",
      "_view_count": null,
      "_view_module": "@jupyter-widgets/base",
      "_view_module_version": "1.2.0",
      "_view_name": "StyleView",
      "bar_color": null,
      "description_width": "initial"
     }
    },
    "ffa7cc4507a044d19f866e12805bf119": {
     "model_module": "@jupyter-widgets/controls",
     "model_name": "HBoxModel",
     "state": {
      "_dom_classes": [],
      "_model_module": "@jupyter-widgets/controls",
      "_model_module_version": "1.5.0",
      "_model_name": "HBoxModel",
      "_view_count": null,
      "_view_module": "@jupyter-widgets/controls",
      "_view_module_version": "1.5.0",
      "_view_name": "HBoxView",
      "box_style": "",
      "children": [
       "IPY_MODEL_c54fb531041647f48aca51ac6153c4f8",
       "IPY_MODEL_1c669089a53b44b7962c5b86e4c2d97a"
      ],
      "layout": "IPY_MODEL_3f56464a3e7b4b6da6bd5c11863848be"
     }
    }
   }
  }
 },
 "nbformat": 4,
 "nbformat_minor": 1
}
